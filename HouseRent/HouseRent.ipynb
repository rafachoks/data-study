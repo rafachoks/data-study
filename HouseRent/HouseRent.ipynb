{
 "cells": [
  {
   "cell_type": "code",
   "execution_count": 109,
   "metadata": {
    "collapsed": true
   },
   "outputs": [],
   "source": [
    "#for data analysis\n",
    "import pandas as pd"
   ]
  },
  {
   "cell_type": "code",
   "execution_count": 110,
   "outputs": [],
   "source": [
    "#for data visualization\n",
    "import seaborn as sb"
   ],
   "metadata": {
    "collapsed": false,
    "pycharm": {
     "name": "#%%\n"
    }
   }
  },
  {
   "cell_type": "code",
   "execution_count": 149,
   "outputs": [],
   "source": [
    "#for algorithms\n",
    "from sklearn.neural_network import MLPClassifier\n",
    "from sklearn.model_selection import train_test_split\n",
    "from sklearn.linear_model import LogisticRegression\n",
    "from sklearn.svm import SVC, LinearSVC\n",
    "from sklearn.ensemble import RandomForestClassifier\n",
    "from sklearn.neighbors import KNeighborsClassifier\n",
    "from sklearn.naive_bayes import GaussianNB\n",
    "from sklearn.linear_model import Perceptron\n",
    "from sklearn.linear_model import SGDClassifier\n",
    "from sklearn.tree import DecisionTreeClassifier\n",
    "from sklearn.metrics import classification_report"
   ],
   "metadata": {
    "collapsed": false,
    "pycharm": {
     "name": "#%%\n"
    }
   }
  },
  {
   "cell_type": "code",
   "execution_count": 112,
   "outputs": [
    {
     "data": {
      "text/plain": "           city  area  rooms  bathroom  parking spaces floor     animal  \\\n0     São Paulo    70      2         1               1     7      acept   \n1     São Paulo   320      4         4               0    20      acept   \n2  Porto Alegre    80      1         1               1     6      acept   \n3  Porto Alegre    51      2         1               0     2      acept   \n4     São Paulo    25      1         1               0     1  not acept   \n\n       furniture  hoa (R$)  rent amount (R$)  property tax (R$)  \\\n0      furnished      2065              3300                211   \n1  not furnished      1200              4960               1750   \n2  not furnished      1000              2800                  0   \n3  not furnished       270              1112                 22   \n4  not furnished         0               800                 25   \n\n   fire insurance (R$)  total (R$)  \n0                   42        5618  \n1                   63        7973  \n2                   41        3841  \n3                   17        1421  \n4                   11         836  ",
      "text/html": "<div>\n<style scoped>\n    .dataframe tbody tr th:only-of-type {\n        vertical-align: middle;\n    }\n\n    .dataframe tbody tr th {\n        vertical-align: top;\n    }\n\n    .dataframe thead th {\n        text-align: right;\n    }\n</style>\n<table border=\"1\" class=\"dataframe\">\n  <thead>\n    <tr style=\"text-align: right;\">\n      <th></th>\n      <th>city</th>\n      <th>area</th>\n      <th>rooms</th>\n      <th>bathroom</th>\n      <th>parking spaces</th>\n      <th>floor</th>\n      <th>animal</th>\n      <th>furniture</th>\n      <th>hoa (R$)</th>\n      <th>rent amount (R$)</th>\n      <th>property tax (R$)</th>\n      <th>fire insurance (R$)</th>\n      <th>total (R$)</th>\n    </tr>\n  </thead>\n  <tbody>\n    <tr>\n      <th>0</th>\n      <td>São Paulo</td>\n      <td>70</td>\n      <td>2</td>\n      <td>1</td>\n      <td>1</td>\n      <td>7</td>\n      <td>acept</td>\n      <td>furnished</td>\n      <td>2065</td>\n      <td>3300</td>\n      <td>211</td>\n      <td>42</td>\n      <td>5618</td>\n    </tr>\n    <tr>\n      <th>1</th>\n      <td>São Paulo</td>\n      <td>320</td>\n      <td>4</td>\n      <td>4</td>\n      <td>0</td>\n      <td>20</td>\n      <td>acept</td>\n      <td>not furnished</td>\n      <td>1200</td>\n      <td>4960</td>\n      <td>1750</td>\n      <td>63</td>\n      <td>7973</td>\n    </tr>\n    <tr>\n      <th>2</th>\n      <td>Porto Alegre</td>\n      <td>80</td>\n      <td>1</td>\n      <td>1</td>\n      <td>1</td>\n      <td>6</td>\n      <td>acept</td>\n      <td>not furnished</td>\n      <td>1000</td>\n      <td>2800</td>\n      <td>0</td>\n      <td>41</td>\n      <td>3841</td>\n    </tr>\n    <tr>\n      <th>3</th>\n      <td>Porto Alegre</td>\n      <td>51</td>\n      <td>2</td>\n      <td>1</td>\n      <td>0</td>\n      <td>2</td>\n      <td>acept</td>\n      <td>not furnished</td>\n      <td>270</td>\n      <td>1112</td>\n      <td>22</td>\n      <td>17</td>\n      <td>1421</td>\n    </tr>\n    <tr>\n      <th>4</th>\n      <td>São Paulo</td>\n      <td>25</td>\n      <td>1</td>\n      <td>1</td>\n      <td>0</td>\n      <td>1</td>\n      <td>not acept</td>\n      <td>not furnished</td>\n      <td>0</td>\n      <td>800</td>\n      <td>25</td>\n      <td>11</td>\n      <td>836</td>\n    </tr>\n  </tbody>\n</table>\n</div>"
     },
     "execution_count": 112,
     "metadata": {},
     "output_type": "execute_result"
    }
   ],
   "source": [
    "#reading data\n",
    "file_path_v1 = r\"C:\\Users\\rafae\\Downloads\\houses_to_rent.csv\"\n",
    "file_path_v2 = r\"C:\\Users\\rafae\\Downloads\\houses_to_rent_v2.csv\"\n",
    "\n",
    "house_rent = pd.read_csv(file_path_v1)\n",
    "house_rentv2 = pd.read_csv(file_path_v2)\n",
    "\n",
    "house_rent.head()\n",
    "house_rentv2.head()"
   ],
   "metadata": {
    "collapsed": false,
    "pycharm": {
     "name": "#%%\n"
    }
   }
  },
  {
   "cell_type": "code",
   "execution_count": 113,
   "outputs": [
    {
     "data": {
      "text/plain": "             city  floor animal      furniture\ncount       10692  10692  10692          10692\nunique          5     35      2              2\ntop     São Paulo      -  acept  not furnished\nfreq         5887   2461   8316           8086",
      "text/html": "<div>\n<style scoped>\n    .dataframe tbody tr th:only-of-type {\n        vertical-align: middle;\n    }\n\n    .dataframe tbody tr th {\n        vertical-align: top;\n    }\n\n    .dataframe thead th {\n        text-align: right;\n    }\n</style>\n<table border=\"1\" class=\"dataframe\">\n  <thead>\n    <tr style=\"text-align: right;\">\n      <th></th>\n      <th>city</th>\n      <th>floor</th>\n      <th>animal</th>\n      <th>furniture</th>\n    </tr>\n  </thead>\n  <tbody>\n    <tr>\n      <th>count</th>\n      <td>10692</td>\n      <td>10692</td>\n      <td>10692</td>\n      <td>10692</td>\n    </tr>\n    <tr>\n      <th>unique</th>\n      <td>5</td>\n      <td>35</td>\n      <td>2</td>\n      <td>2</td>\n    </tr>\n    <tr>\n      <th>top</th>\n      <td>São Paulo</td>\n      <td>-</td>\n      <td>acept</td>\n      <td>not furnished</td>\n    </tr>\n    <tr>\n      <th>freq</th>\n      <td>5887</td>\n      <td>2461</td>\n      <td>8316</td>\n      <td>8086</td>\n    </tr>\n  </tbody>\n</table>\n</div>"
     },
     "execution_count": 113,
     "metadata": {},
     "output_type": "execute_result"
    }
   ],
   "source": [
    "house_rentv2.describe(include=\"O\")"
   ],
   "metadata": {
    "collapsed": false,
    "pycharm": {
     "name": "#%%\n"
    }
   }
  },
  {
   "cell_type": "code",
   "execution_count": 113,
   "outputs": [],
   "source": [],
   "metadata": {
    "collapsed": false,
    "pycharm": {
     "name": "#%%\n"
    }
   }
  },
  {
   "cell_type": "code",
   "execution_count": 114,
   "outputs": [
    {
     "data": {
      "text/plain": "city                   0\narea                   0\nrooms                  0\nbathroom               0\nparking spaces         0\nfloor                  0\nanimal                 0\nfurniture              0\nhoa (R$)               0\nrent amount (R$)       0\nproperty tax (R$)      0\nfire insurance (R$)    0\ntotal (R$)             0\ndtype: int64"
     },
     "execution_count": 114,
     "metadata": {},
     "output_type": "execute_result"
    }
   ],
   "source": [
    "house_rentv2.isna().sum().sort_values(ascending=True)"
   ],
   "metadata": {
    "collapsed": false,
    "pycharm": {
     "name": "#%%\n"
    }
   }
  },
  {
   "cell_type": "code",
   "execution_count": 115,
   "outputs": [
    {
     "data": {
      "text/plain": "           city  area  rooms  bathroom  parking spaces floor  animal  \\\n0     São Paulo    70      2         1               1     7       0   \n1     São Paulo   320      4         4               0    20       0   \n2  Porto Alegre    80      1         1               1     6       0   \n3  Porto Alegre    51      2         1               0     2       0   \n4     São Paulo    25      1         1               0     1       1   \n\n   furniture  hoa (R$)  rent amount (R$)  property tax (R$)  \\\n0          0      2065              3300                211   \n1          1      1200              4960               1750   \n2          1      1000              2800                  0   \n3          1       270              1112                 22   \n4          1         0               800                 25   \n\n   fire insurance (R$)  total (R$)  \n0                   42        5618  \n1                   63        7973  \n2                   41        3841  \n3                   17        1421  \n4                   11         836  ",
      "text/html": "<div>\n<style scoped>\n    .dataframe tbody tr th:only-of-type {\n        vertical-align: middle;\n    }\n\n    .dataframe tbody tr th {\n        vertical-align: top;\n    }\n\n    .dataframe thead th {\n        text-align: right;\n    }\n</style>\n<table border=\"1\" class=\"dataframe\">\n  <thead>\n    <tr style=\"text-align: right;\">\n      <th></th>\n      <th>city</th>\n      <th>area</th>\n      <th>rooms</th>\n      <th>bathroom</th>\n      <th>parking spaces</th>\n      <th>floor</th>\n      <th>animal</th>\n      <th>furniture</th>\n      <th>hoa (R$)</th>\n      <th>rent amount (R$)</th>\n      <th>property tax (R$)</th>\n      <th>fire insurance (R$)</th>\n      <th>total (R$)</th>\n    </tr>\n  </thead>\n  <tbody>\n    <tr>\n      <th>0</th>\n      <td>São Paulo</td>\n      <td>70</td>\n      <td>2</td>\n      <td>1</td>\n      <td>1</td>\n      <td>7</td>\n      <td>0</td>\n      <td>0</td>\n      <td>2065</td>\n      <td>3300</td>\n      <td>211</td>\n      <td>42</td>\n      <td>5618</td>\n    </tr>\n    <tr>\n      <th>1</th>\n      <td>São Paulo</td>\n      <td>320</td>\n      <td>4</td>\n      <td>4</td>\n      <td>0</td>\n      <td>20</td>\n      <td>0</td>\n      <td>1</td>\n      <td>1200</td>\n      <td>4960</td>\n      <td>1750</td>\n      <td>63</td>\n      <td>7973</td>\n    </tr>\n    <tr>\n      <th>2</th>\n      <td>Porto Alegre</td>\n      <td>80</td>\n      <td>1</td>\n      <td>1</td>\n      <td>1</td>\n      <td>6</td>\n      <td>0</td>\n      <td>1</td>\n      <td>1000</td>\n      <td>2800</td>\n      <td>0</td>\n      <td>41</td>\n      <td>3841</td>\n    </tr>\n    <tr>\n      <th>3</th>\n      <td>Porto Alegre</td>\n      <td>51</td>\n      <td>2</td>\n      <td>1</td>\n      <td>0</td>\n      <td>2</td>\n      <td>0</td>\n      <td>1</td>\n      <td>270</td>\n      <td>1112</td>\n      <td>22</td>\n      <td>17</td>\n      <td>1421</td>\n    </tr>\n    <tr>\n      <th>4</th>\n      <td>São Paulo</td>\n      <td>25</td>\n      <td>1</td>\n      <td>1</td>\n      <td>0</td>\n      <td>1</td>\n      <td>1</td>\n      <td>1</td>\n      <td>0</td>\n      <td>800</td>\n      <td>25</td>\n      <td>11</td>\n      <td>836</td>\n    </tr>\n  </tbody>\n</table>\n</div>"
     },
     "execution_count": 115,
     "metadata": {},
     "output_type": "execute_result"
    }
   ],
   "source": [
    "house_rentv2['animal'] = pd.get_dummies(house_rentv2['animal'], drop_first=True)\n",
    "house_rentv2['furniture'] = pd.get_dummies(house_rentv2['furniture'], drop_first=True)\n",
    "house_rentv2.head()"
   ],
   "metadata": {
    "collapsed": false,
    "pycharm": {
     "name": "#%%\n"
    }
   }
  },
  {
   "cell_type": "code",
   "execution_count": 116,
   "outputs": [
    {
     "data": {
      "text/plain": "<AxesSubplot:xlabel='animal', ylabel='count'>"
     },
     "execution_count": 116,
     "metadata": {},
     "output_type": "execute_result"
    },
    {
     "data": {
      "text/plain": "<Figure size 432x288 with 1 Axes>",
      "image/png": "[encoded data removed]"
     },
     "metadata": {
      "needs_background": "light"
     },
     "output_type": "display_data"
    }
   ],
   "source": [
    "sb.countplot(x = 'animal', data=house_rentv2)"
   ],
   "metadata": {
    "collapsed": false,
    "pycharm": {
     "name": "#%%\n"
    }
   }
  },
  {
   "cell_type": "code",
   "execution_count": 117,
   "outputs": [
    {
     "data": {
      "text/plain": "   animal  furniture\n0       0   0.776455\n1       1   0.685606",
      "text/html": "<div>\n<style scoped>\n    .dataframe tbody tr th:only-of-type {\n        vertical-align: middle;\n    }\n\n    .dataframe tbody tr th {\n        vertical-align: top;\n    }\n\n    .dataframe thead th {\n        text-align: right;\n    }\n</style>\n<table border=\"1\" class=\"dataframe\">\n  <thead>\n    <tr style=\"text-align: right;\">\n      <th></th>\n      <th>animal</th>\n      <th>furniture</th>\n    </tr>\n  </thead>\n  <tbody>\n    <tr>\n      <th>0</th>\n      <td>0</td>\n      <td>0.776455</td>\n    </tr>\n    <tr>\n      <th>1</th>\n      <td>1</td>\n      <td>0.685606</td>\n    </tr>\n  </tbody>\n</table>\n</div>"
     },
     "execution_count": 117,
     "metadata": {},
     "output_type": "execute_result"
    }
   ],
   "source": [
    "house_rentv2[['animal','furniture']].groupby('animal', as_index=False).mean().sort_values(by='animal', ascending=True)"
   ],
   "metadata": {
    "collapsed": false,
    "pycharm": {
     "name": "#%%\n"
    }
   }
  },
  {
   "cell_type": "code",
   "execution_count": 118,
   "outputs": [],
   "source": [
    "house_rent = house_rentv2 #save for later"
   ],
   "metadata": {
    "collapsed": false,
    "pycharm": {
     "name": "#%%\n"
    }
   }
  },
  {
   "cell_type": "code",
   "execution_count": 119,
   "outputs": [
    {
     "data": {
      "text/plain": "array(['São Paulo', 'Porto Alegre', 'Rio de Janeiro', 'Campinas',\n       'Belo Horizonte'], dtype=object)"
     },
     "execution_count": 119,
     "metadata": {},
     "output_type": "execute_result"
    }
   ],
   "source": [
    "house_rent['city'].unique()"
   ],
   "metadata": {
    "collapsed": false,
    "pycharm": {
     "name": "#%%\n"
    }
   }
  },
  {
   "cell_type": "markdown",
   "source": [
    "0,São Paulo\n",
    "1,Porto Alegre\n",
    "2,Rio de Janeiro\n",
    "3,Campinas\n",
    "4,Belo Horizonte"
   ],
   "metadata": {
    "collapsed": false,
    "pycharm": {
     "name": "#%% md\n"
    }
   }
  },
  {
   "cell_type": "code",
   "execution_count": 120,
   "outputs": [
    {
     "data": {
      "text/plain": "   city  area  rooms  bathroom  parking spaces floor  animal  furniture  \\\n0     0    70      2         1               1     7       0          0   \n1     0   320      4         4               0    20       0          1   \n2     0    80      1         1               1     6       0          1   \n3     0    51      2         1               0     2       0          1   \n4     0    25      1         1               0     1       1          1   \n\n   hoa (R$)  rent amount (R$)  property tax (R$)  fire insurance (R$)  \\\n0      2065              3300                211                   42   \n1      1200              4960               1750                   63   \n2      1000              2800                  0                   41   \n3       270              1112                 22                   17   \n4         0               800                 25                   11   \n\n   total (R$)  \n0        5618  \n1        7973  \n2        3841  \n3        1421  \n4         836  ",
      "text/html": "<div>\n<style scoped>\n    .dataframe tbody tr th:only-of-type {\n        vertical-align: middle;\n    }\n\n    .dataframe tbody tr th {\n        vertical-align: top;\n    }\n\n    .dataframe thead th {\n        text-align: right;\n    }\n</style>\n<table border=\"1\" class=\"dataframe\">\n  <thead>\n    <tr style=\"text-align: right;\">\n      <th></th>\n      <th>city</th>\n      <th>area</th>\n      <th>rooms</th>\n      <th>bathroom</th>\n      <th>parking spaces</th>\n      <th>floor</th>\n      <th>animal</th>\n      <th>furniture</th>\n      <th>hoa (R$)</th>\n      <th>rent amount (R$)</th>\n      <th>property tax (R$)</th>\n      <th>fire insurance (R$)</th>\n      <th>total (R$)</th>\n    </tr>\n  </thead>\n  <tbody>\n    <tr>\n      <th>0</th>\n      <td>0</td>\n      <td>70</td>\n      <td>2</td>\n      <td>1</td>\n      <td>1</td>\n      <td>7</td>\n      <td>0</td>\n      <td>0</td>\n      <td>2065</td>\n      <td>3300</td>\n      <td>211</td>\n      <td>42</td>\n      <td>5618</td>\n    </tr>\n    <tr>\n      <th>1</th>\n      <td>0</td>\n      <td>320</td>\n      <td>4</td>\n      <td>4</td>\n      <td>0</td>\n      <td>20</td>\n      <td>0</td>\n      <td>1</td>\n      <td>1200</td>\n      <td>4960</td>\n      <td>1750</td>\n      <td>63</td>\n      <td>7973</td>\n    </tr>\n    <tr>\n      <th>2</th>\n      <td>0</td>\n      <td>80</td>\n      <td>1</td>\n      <td>1</td>\n      <td>1</td>\n      <td>6</td>\n      <td>0</td>\n      <td>1</td>\n      <td>1000</td>\n      <td>2800</td>\n      <td>0</td>\n      <td>41</td>\n      <td>3841</td>\n    </tr>\n    <tr>\n      <th>3</th>\n      <td>0</td>\n      <td>51</td>\n      <td>2</td>\n      <td>1</td>\n      <td>0</td>\n      <td>2</td>\n      <td>0</td>\n      <td>1</td>\n      <td>270</td>\n      <td>1112</td>\n      <td>22</td>\n      <td>17</td>\n      <td>1421</td>\n    </tr>\n    <tr>\n      <th>4</th>\n      <td>0</td>\n      <td>25</td>\n      <td>1</td>\n      <td>1</td>\n      <td>0</td>\n      <td>1</td>\n      <td>1</td>\n      <td>1</td>\n      <td>0</td>\n      <td>800</td>\n      <td>25</td>\n      <td>11</td>\n      <td>836</td>\n    </tr>\n  </tbody>\n</table>\n</div>"
     },
     "execution_count": 120,
     "metadata": {},
     "output_type": "execute_result"
    }
   ],
   "source": [
    "house_rent['city'] = pd.get_dummies(house_rent['city'], drop_first=True)\n",
    "house_rent.head()"
   ],
   "metadata": {
    "collapsed": false,
    "pycharm": {
     "name": "#%%\n"
    }
   }
  },
  {
   "cell_type": "code",
   "execution_count": 121,
   "outputs": [],
   "source": [
    "house_rent = house_rent.drop(columns=['floor'])"
   ],
   "metadata": {
    "collapsed": false,
    "pycharm": {
     "name": "#%%\n"
    }
   }
  },
  {
   "cell_type": "code",
   "execution_count": 122,
   "outputs": [
    {
     "data": {
      "text/plain": "                         city      area     rooms  bathroom  parking spaces  \\\ncity                 1.000000 -0.006391 -0.037927 -0.057893       -0.009469   \narea                -0.006391  1.000000  0.193796  0.226766        0.193983   \nrooms               -0.037927  0.193796  1.000000  0.733763        0.617510   \nbathroom            -0.057893  0.226766  0.733763  1.000000        0.697379   \nparking spaces      -0.009469  0.193983  0.617510  0.697379        1.000000   \nanimal              -0.024540 -0.039626 -0.172190 -0.118255       -0.127432   \nfurniture            0.077911 -0.008175  0.080694 -0.017938        0.004720   \nhoa (R$)            -0.010294  0.006890  0.007139  0.050271        0.009321   \nrent amount (R$)    -0.132342  0.180742  0.541758  0.668504        0.578361   \nproperty tax (R$)   -0.020754  0.039059  0.075252  0.109253        0.098378   \nfire insurance (R$) -0.128912  0.188078  0.565148  0.676399        0.597348   \ntotal (R$)          -0.041391  0.051799  0.134597  0.208339        0.148684   \n\n                       animal  furniture  hoa (R$)  rent amount (R$)  \\\ncity                -0.024540   0.077911 -0.010294         -0.132342   \narea                -0.039626  -0.008175  0.006890          0.180742   \nrooms               -0.172190   0.080694  0.007139          0.541758   \nbathroom            -0.118255  -0.017938  0.050271          0.668504   \nparking spaces      -0.127432   0.004720  0.009321          0.578361   \nanimal               1.000000  -0.087972  0.022008         -0.067754   \nfurniture           -0.087972   1.000000 -0.003413         -0.164235   \nhoa (R$)             0.022008  -0.003413  1.000000          0.036490   \nrent amount (R$)    -0.067754  -0.164235  0.036490          1.000000   \nproperty tax (R$)    0.003006  -0.000985  0.007627          0.107884   \nfire insurance (R$) -0.079152  -0.141768  0.029535          0.987343   \ntotal (R$)           0.007143  -0.037781  0.955024          0.264490   \n\n                     property tax (R$)  fire insurance (R$)  total (R$)  \ncity                         -0.020754            -0.128912   -0.041391  \narea                          0.039059             0.188078    0.051799  \nrooms                         0.075252             0.565148    0.134597  \nbathroom                      0.109253             0.676399    0.208339  \nparking spaces                0.098378             0.597348    0.148684  \nanimal                        0.003006            -0.079152    0.007143  \nfurniture                    -0.000985            -0.141768   -0.037781  \nhoa (R$)                      0.007627             0.029535    0.955024  \nrent amount (R$)              0.107884             0.987343    0.264490  \nproperty tax (R$)             1.000000             0.105661    0.218344  \nfire insurance (R$)           0.105661             1.000000    0.254911  \ntotal (R$)                    0.218344             0.254911    1.000000  ",
      "text/html": "<div>\n<style scoped>\n    .dataframe tbody tr th:only-of-type {\n        vertical-align: middle;\n    }\n\n    .dataframe tbody tr th {\n        vertical-align: top;\n    }\n\n    .dataframe thead th {\n        text-align: right;\n    }\n</style>\n<table border=\"1\" class=\"dataframe\">\n  <thead>\n    <tr style=\"text-align: right;\">\n      <th></th>\n      <th>city</th>\n      <th>area</th>\n      <th>rooms</th>\n      <th>bathroom</th>\n      <th>parking spaces</th>\n      <th>animal</th>\n      <th>furniture</th>\n      <th>hoa (R$)</th>\n      <th>rent amount (R$)</th>\n      <th>property tax (R$)</th>\n      <th>fire insurance (R$)</th>\n      <th>total (R$)</th>\n    </tr>\n  </thead>\n  <tbody>\n    <tr>\n      <th>city</th>\n      <td>1.000000</td>\n      <td>-0.006391</td>\n      <td>-0.037927</td>\n      <td>-0.057893</td>\n      <td>-0.009469</td>\n      <td>-0.024540</td>\n      <td>0.077911</td>\n      <td>-0.010294</td>\n      <td>-0.132342</td>\n      <td>-0.020754</td>\n      <td>-0.128912</td>\n      <td>-0.041391</td>\n    </tr>\n    <tr>\n      <th>area</th>\n      <td>-0.006391</td>\n      <td>1.000000</td>\n      <td>0.193796</td>\n      <td>0.226766</td>\n      <td>0.193983</td>\n      <td>-0.039626</td>\n      <td>-0.008175</td>\n      <td>0.006890</td>\n      <td>0.180742</td>\n      <td>0.039059</td>\n      <td>0.188078</td>\n      <td>0.051799</td>\n    </tr>\n    <tr>\n      <th>rooms</th>\n      <td>-0.037927</td>\n      <td>0.193796</td>\n      <td>1.000000</td>\n      <td>0.733763</td>\n      <td>0.617510</td>\n      <td>-0.172190</td>\n      <td>0.080694</td>\n      <td>0.007139</td>\n      <td>0.541758</td>\n      <td>0.075252</td>\n      <td>0.565148</td>\n      <td>0.134597</td>\n    </tr>\n    <tr>\n      <th>bathroom</th>\n      <td>-0.057893</td>\n      <td>0.226766</td>\n      <td>0.733763</td>\n      <td>1.000000</td>\n      <td>0.697379</td>\n      <td>-0.118255</td>\n      <td>-0.017938</td>\n      <td>0.050271</td>\n      <td>0.668504</td>\n      <td>0.109253</td>\n      <td>0.676399</td>\n      <td>0.208339</td>\n    </tr>\n    <tr>\n      <th>parking spaces</th>\n      <td>-0.009469</td>\n      <td>0.193983</td>\n      <td>0.617510</td>\n      <td>0.697379</td>\n      <td>1.000000</td>\n      <td>-0.127432</td>\n      <td>0.004720</td>\n      <td>0.009321</td>\n      <td>0.578361</td>\n      <td>0.098378</td>\n      <td>0.597348</td>\n      <td>0.148684</td>\n    </tr>\n    <tr>\n      <th>animal</th>\n      <td>-0.024540</td>\n      <td>-0.039626</td>\n      <td>-0.172190</td>\n      <td>-0.118255</td>\n      <td>-0.127432</td>\n      <td>1.000000</td>\n      <td>-0.087972</td>\n      <td>0.022008</td>\n      <td>-0.067754</td>\n      <td>0.003006</td>\n      <td>-0.079152</td>\n      <td>0.007143</td>\n    </tr>\n    <tr>\n      <th>furniture</th>\n      <td>0.077911</td>\n      <td>-0.008175</td>\n      <td>0.080694</td>\n      <td>-0.017938</td>\n      <td>0.004720</td>\n      <td>-0.087972</td>\n      <td>1.000000</td>\n      <td>-0.003413</td>\n      <td>-0.164235</td>\n      <td>-0.000985</td>\n      <td>-0.141768</td>\n      <td>-0.037781</td>\n    </tr>\n    <tr>\n      <th>hoa (R$)</th>\n      <td>-0.010294</td>\n      <td>0.006890</td>\n      <td>0.007139</td>\n      <td>0.050271</td>\n      <td>0.009321</td>\n      <td>0.022008</td>\n      <td>-0.003413</td>\n      <td>1.000000</td>\n      <td>0.036490</td>\n      <td>0.007627</td>\n      <td>0.029535</td>\n      <td>0.955024</td>\n    </tr>\n    <tr>\n      <th>rent amount (R$)</th>\n      <td>-0.132342</td>\n      <td>0.180742</td>\n      <td>0.541758</td>\n      <td>0.668504</td>\n      <td>0.578361</td>\n      <td>-0.067754</td>\n      <td>-0.164235</td>\n      <td>0.036490</td>\n      <td>1.000000</td>\n      <td>0.107884</td>\n      <td>0.987343</td>\n      <td>0.264490</td>\n    </tr>\n    <tr>\n      <th>property tax (R$)</th>\n      <td>-0.020754</td>\n      <td>0.039059</td>\n      <td>0.075252</td>\n      <td>0.109253</td>\n      <td>0.098378</td>\n      <td>0.003006</td>\n      <td>-0.000985</td>\n      <td>0.007627</td>\n      <td>0.107884</td>\n      <td>1.000000</td>\n      <td>0.105661</td>\n      <td>0.218344</td>\n    </tr>\n    <tr>\n      <th>fire insurance (R$)</th>\n      <td>-0.128912</td>\n      <td>0.188078</td>\n      <td>0.565148</td>\n      <td>0.676399</td>\n      <td>0.597348</td>\n      <td>-0.079152</td>\n      <td>-0.141768</td>\n      <td>0.029535</td>\n      <td>0.987343</td>\n      <td>0.105661</td>\n      <td>1.000000</td>\n      <td>0.254911</td>\n    </tr>\n    <tr>\n      <th>total (R$)</th>\n      <td>-0.041391</td>\n      <td>0.051799</td>\n      <td>0.134597</td>\n      <td>0.208339</td>\n      <td>0.148684</td>\n      <td>0.007143</td>\n      <td>-0.037781</td>\n      <td>0.955024</td>\n      <td>0.264490</td>\n      <td>0.218344</td>\n      <td>0.254911</td>\n      <td>1.000000</td>\n    </tr>\n  </tbody>\n</table>\n</div>"
     },
     "execution_count": 122,
     "metadata": {},
     "output_type": "execute_result"
    }
   ],
   "source": [
    "house_rent.corr()"
   ],
   "metadata": {
    "collapsed": false,
    "pycharm": {
     "name": "#%%\n"
    }
   }
  },
  {
   "cell_type": "code",
   "execution_count": 123,
   "outputs": [
    {
     "data": {
      "text/plain": "<Figure size 432x288 with 2 Axes>",
      "image/png": "[encoded data removed]"
     },
     "metadata": {
      "needs_background": "light"
     },
     "output_type": "display_data"
    }
   ],
   "source": [
    "ax = sb.heatmap(house_rent.corr(), linewidths=.5)"
   ],
   "metadata": {
    "collapsed": false,
    "pycharm": {
     "name": "#%%\n"
    }
   }
  },
  {
   "cell_type": "code",
   "execution_count": 146,
   "outputs": [
    {
     "name": "stdout",
     "output_type": "stream",
     "text": [
      "['animal' 'area' 'rooms' 'bathroom' 'parking spaces' 'city' 'furniture'\n",
      " 'hoa (R$)' 'rent amount (R$)' 'property tax (R$)' 'fire insurance (R$)'\n",
      " 'total (R$)']\n"
     ]
    },
    {
     "data": {
      "text/plain": "   animal  area  rooms  bathroom  parking spaces  city  furniture  hoa (R$)  \\\n0       0    70      2         1               1     0          0      2065   \n1       0   320      4         4               0     0          1      1200   \n2       0    80      1         1               1     0          1      1000   \n3       0    51      2         1               0     0          1       270   \n4       1    25      1         1               0     0          1         0   \n\n   rent amount (R$)  property tax (R$)  fire insurance (R$)  total (R$)  \n0              3300                211                   42        5618  \n1              4960               1750                   63        7973  \n2              2800                  0                   41        3841  \n3              1112                 22                   17        1421  \n4               800                 25                   11         836  ",
      "text/html": "<div>\n<style scoped>\n    .dataframe tbody tr th:only-of-type {\n        vertical-align: middle;\n    }\n\n    .dataframe tbody tr th {\n        vertical-align: top;\n    }\n\n    .dataframe thead th {\n        text-align: right;\n    }\n</style>\n<table border=\"1\" class=\"dataframe\">\n  <thead>\n    <tr style=\"text-align: right;\">\n      <th></th>\n      <th>animal</th>\n      <th>area</th>\n      <th>rooms</th>\n      <th>bathroom</th>\n      <th>parking spaces</th>\n      <th>city</th>\n      <th>furniture</th>\n      <th>hoa (R$)</th>\n      <th>rent amount (R$)</th>\n      <th>property tax (R$)</th>\n      <th>fire insurance (R$)</th>\n      <th>total (R$)</th>\n    </tr>\n  </thead>\n  <tbody>\n    <tr>\n      <th>0</th>\n      <td>0</td>\n      <td>70</td>\n      <td>2</td>\n      <td>1</td>\n      <td>1</td>\n      <td>0</td>\n      <td>0</td>\n      <td>2065</td>\n      <td>3300</td>\n      <td>211</td>\n      <td>42</td>\n      <td>5618</td>\n    </tr>\n    <tr>\n      <th>1</th>\n      <td>0</td>\n      <td>320</td>\n      <td>4</td>\n      <td>4</td>\n      <td>0</td>\n      <td>0</td>\n      <td>1</td>\n      <td>1200</td>\n      <td>4960</td>\n      <td>1750</td>\n      <td>63</td>\n      <td>7973</td>\n    </tr>\n    <tr>\n      <th>2</th>\n      <td>0</td>\n      <td>80</td>\n      <td>1</td>\n      <td>1</td>\n      <td>1</td>\n      <td>0</td>\n      <td>1</td>\n      <td>1000</td>\n      <td>2800</td>\n      <td>0</td>\n      <td>41</td>\n      <td>3841</td>\n    </tr>\n    <tr>\n      <th>3</th>\n      <td>0</td>\n      <td>51</td>\n      <td>2</td>\n      <td>1</td>\n      <td>0</td>\n      <td>0</td>\n      <td>1</td>\n      <td>270</td>\n      <td>1112</td>\n      <td>22</td>\n      <td>17</td>\n      <td>1421</td>\n    </tr>\n    <tr>\n      <th>4</th>\n      <td>1</td>\n      <td>25</td>\n      <td>1</td>\n      <td>1</td>\n      <td>0</td>\n      <td>0</td>\n      <td>1</td>\n      <td>0</td>\n      <td>800</td>\n      <td>25</td>\n      <td>11</td>\n      <td>836</td>\n    </tr>\n  </tbody>\n</table>\n</div>"
     },
     "execution_count": 146,
     "metadata": {},
     "output_type": "execute_result"
    }
   ],
   "source": [
    "print(house_rent.columns.values)\n",
    "house_rent.head()"
   ],
   "metadata": {
    "collapsed": false,
    "pycharm": {
     "name": "#%%\n"
    }
   }
  },
  {
   "cell_type": "code",
   "execution_count": 126,
   "outputs": [],
   "source": [
    "house_rent = house_rent[['animal', 'area', 'rooms', 'bathroom', 'parking spaces', 'city', 'furniture', 'hoa (R$)', 'rent amount (R$)', 'property tax (R$)', 'fire insurance (R$)', 'total (R$)']]"
   ],
   "metadata": {
    "collapsed": false,
    "pycharm": {
     "name": "#%%\n"
    }
   }
  },
  {
   "cell_type": "markdown",
   "source": [
    "Creating Model"
   ],
   "metadata": {
    "collapsed": false,
    "pycharm": {
     "name": "#%% md\n"
    }
   }
  },
  {
   "cell_type": "code",
   "execution_count": 147,
   "outputs": [
    {
     "data": {
      "text/plain": "((10692, 11), (10692,), (10692, 11))"
     },
     "execution_count": 147,
     "metadata": {},
     "output_type": "execute_result"
    }
   ],
   "source": [
    "X_train = house_rent.drop(\"animal\", axis=1)\n",
    "Y_train = house_rent[\"animal\"]\n",
    "X_test  = house_rent.drop(\"furniture\", axis=1).copy()\n",
    "X_train.shape, Y_train.shape, X_test.shape"
   ],
   "metadata": {
    "collapsed": false,
    "pycharm": {
     "name": "#%%\n"
    }
   }
  },
  {
   "cell_type": "code",
   "execution_count": 150,
   "outputs": [
    {
     "name": "stderr",
     "output_type": "stream",
     "text": [
      "C:\\ProgramData\\Anaconda3\\lib\\site-packages\\sklearn\\linear_model\\_logistic.py:763: ConvergenceWarning: lbfgs failed to converge (status=1):\n",
      "STOP: TOTAL NO. of ITERATIONS REACHED LIMIT.\n",
      "\n",
      "Increase the number of iterations (max_iter) or scale the data as shown in:\n",
      "    https://scikit-learn.org/stable/modules/preprocessing.html\n",
      "Please also refer to the documentation for alternative solver options:\n",
      "    https://scikit-learn.org/stable/modules/linear_model.html#logistic-regression\n",
      "  n_iter_i = _check_optimize_result(\n"
     ]
    },
    {
     "data": {
      "text/plain": "77.55"
     },
     "execution_count": 150,
     "metadata": {},
     "output_type": "execute_result"
    }
   ],
   "source": [
    "logreg = LogisticRegression()\n",
    "logreg.fit(X_train, Y_train)\n",
    "Y_pred = logreg.predict(X_test)\n",
    "acc_log = round(logreg.score(X_train, Y_train) * 100, 2)\n",
    "acc_log"
   ],
   "metadata": {
    "collapsed": false,
    "pycharm": {
     "name": "#%%\n"
    }
   }
  },
  {
   "cell_type": "code",
   "execution_count": 151,
   "outputs": [
    {
     "data": {
      "text/plain": "                Feature  Correlation\n7      rent amount (R$)     0.019277\n8     property tax (R$)     0.018600\n6              hoa (R$)     0.018584\n0                  area    -0.002516\n4                  city    -0.011745\n10           total (R$)    -0.018582\n9   fire insurance (R$)    -0.036077\n3        parking spaces    -0.039271\n2              bathroom    -0.064390\n5             furniture    -0.073937\n1                 rooms    -0.136144",
      "text/html": "<div>\n<style scoped>\n    .dataframe tbody tr th:only-of-type {\n        vertical-align: middle;\n    }\n\n    .dataframe tbody tr th {\n        vertical-align: top;\n    }\n\n    .dataframe thead th {\n        text-align: right;\n    }\n</style>\n<table border=\"1\" class=\"dataframe\">\n  <thead>\n    <tr style=\"text-align: right;\">\n      <th></th>\n      <th>Feature</th>\n      <th>Correlation</th>\n    </tr>\n  </thead>\n  <tbody>\n    <tr>\n      <th>7</th>\n      <td>rent amount (R$)</td>\n      <td>0.019277</td>\n    </tr>\n    <tr>\n      <th>8</th>\n      <td>property tax (R$)</td>\n      <td>0.018600</td>\n    </tr>\n    <tr>\n      <th>6</th>\n      <td>hoa (R$)</td>\n      <td>0.018584</td>\n    </tr>\n    <tr>\n      <th>0</th>\n      <td>area</td>\n      <td>-0.002516</td>\n    </tr>\n    <tr>\n      <th>4</th>\n      <td>city</td>\n      <td>-0.011745</td>\n    </tr>\n    <tr>\n      <th>10</th>\n      <td>total (R$)</td>\n      <td>-0.018582</td>\n    </tr>\n    <tr>\n      <th>9</th>\n      <td>fire insurance (R$)</td>\n      <td>-0.036077</td>\n    </tr>\n    <tr>\n      <th>3</th>\n      <td>parking spaces</td>\n      <td>-0.039271</td>\n    </tr>\n    <tr>\n      <th>2</th>\n      <td>bathroom</td>\n      <td>-0.064390</td>\n    </tr>\n    <tr>\n      <th>5</th>\n      <td>furniture</td>\n      <td>-0.073937</td>\n    </tr>\n    <tr>\n      <th>1</th>\n      <td>rooms</td>\n      <td>-0.136144</td>\n    </tr>\n  </tbody>\n</table>\n</div>"
     },
     "execution_count": 151,
     "metadata": {},
     "output_type": "execute_result"
    }
   ],
   "source": [
    "coeff_df = pd.DataFrame(house_rent.columns.delete(0))\n",
    "coeff_df.columns = ['Feature']\n",
    "coeff_df[\"Correlation\"] = pd.Series(logreg.coef_[0])\n",
    "\n",
    "coeff_df.sort_values(by='Correlation', ascending=False)"
   ],
   "metadata": {
    "collapsed": false,
    "pycharm": {
     "name": "#%%\n"
    }
   }
  },
  {
   "cell_type": "markdown",
   "source": [
    "Creating model"
   ],
   "metadata": {
    "collapsed": false,
    "pycharm": {
     "name": "#%% md\n"
    }
   }
  },
  {
   "cell_type": "code",
   "execution_count": 152,
   "outputs": [
    {
     "data": {
      "text/plain": "77.81"
     },
     "execution_count": 152,
     "metadata": {},
     "output_type": "execute_result"
    }
   ],
   "source": [
    "svc = SVC()\n",
    "svc.fit(X_train, Y_train)\n",
    "Y_pred = svc.predict(X_test)\n",
    "acc_svc = round(svc.score(X_train, Y_train) * 100, 2)\n",
    "acc_svc"
   ],
   "metadata": {
    "collapsed": false,
    "pycharm": {
     "name": "#%%\n"
    }
   }
  },
  {
   "cell_type": "markdown",
   "source": [
    "Testing Model"
   ],
   "metadata": {
    "collapsed": false,
    "pycharm": {
     "name": "#%% md\n"
    }
   }
  },
  {
   "cell_type": "code",
   "execution_count": 153,
   "outputs": [
    {
     "data": {
      "text/plain": "85.1"
     },
     "execution_count": 153,
     "metadata": {},
     "output_type": "execute_result"
    }
   ],
   "source": [
    "knn = KNeighborsClassifier(n_neighbors = 3)\n",
    "knn.fit(X_train, Y_train)\n",
    "Y_pred = knn.predict(X_test)\n",
    "acc_knn = round(knn.score(X_train, Y_train) * 100, 2)\n",
    "acc_knn"
   ],
   "metadata": {
    "collapsed": false,
    "pycharm": {
     "name": "#%%\n"
    }
   }
  },
  {
   "cell_type": "code",
   "execution_count": 154,
   "outputs": [
    {
     "data": {
      "text/plain": "77.54"
     },
     "execution_count": 154,
     "metadata": {},
     "output_type": "execute_result"
    }
   ],
   "source": [
    "# Gaussian Naive Bayes\n",
    "\n",
    "gaussian = GaussianNB()\n",
    "gaussian.fit(X_train, Y_train)\n",
    "Y_pred = gaussian.predict(X_test)\n",
    "acc_gaussian = round(gaussian.score(X_train, Y_train) * 100, 2)\n",
    "acc_gaussian"
   ],
   "metadata": {
    "collapsed": false,
    "pycharm": {
     "name": "#%%\n"
    }
   }
  },
  {
   "cell_type": "code",
   "execution_count": 155,
   "outputs": [
    {
     "data": {
      "text/plain": "77.78"
     },
     "execution_count": 155,
     "metadata": {},
     "output_type": "execute_result"
    }
   ],
   "source": [
    "# Perceptron\n",
    "\n",
    "perceptron = Perceptron()\n",
    "perceptron.fit(X_train, Y_train)\n",
    "Y_pred = perceptron.predict(X_test)\n",
    "acc_perceptron = round(perceptron.score(X_train, Y_train) * 100, 2)\n",
    "acc_perceptron"
   ],
   "metadata": {
    "collapsed": false,
    "pycharm": {
     "name": "#%%\n"
    }
   }
  },
  {
   "cell_type": "code",
   "execution_count": 156,
   "outputs": [
    {
     "name": "stderr",
     "output_type": "stream",
     "text": [
      "C:\\ProgramData\\Anaconda3\\lib\\site-packages\\sklearn\\svm\\_base.py:985: ConvergenceWarning: Liblinear failed to converge, increase the number of iterations.\n",
      "  warnings.warn(\"Liblinear failed to converge, increase \"\n"
     ]
    },
    {
     "data": {
      "text/plain": "75.88"
     },
     "execution_count": 156,
     "metadata": {},
     "output_type": "execute_result"
    }
   ],
   "source": [
    "# Linear SVC\n",
    "\n",
    "linear_svc = LinearSVC()\n",
    "linear_svc.fit(X_train, Y_train)\n",
    "Y_pred = linear_svc.predict(X_test)\n",
    "acc_linear_svc = round(linear_svc.score(X_train, Y_train) * 100, 2)\n",
    "acc_linear_svc"
   ],
   "metadata": {
    "collapsed": false,
    "pycharm": {
     "name": "#%%\n"
    }
   }
  },
  {
   "cell_type": "code",
   "execution_count": 157,
   "outputs": [
    {
     "data": {
      "text/plain": "69.84"
     },
     "execution_count": 157,
     "metadata": {},
     "output_type": "execute_result"
    }
   ],
   "source": [
    "# Stochastic Gradient Descent\n",
    "\n",
    "sgd = SGDClassifier()\n",
    "sgd.fit(X_train, Y_train)\n",
    "Y_pred = sgd.predict(X_test)\n",
    "acc_sgd = round(sgd.score(X_train, Y_train) * 100, 2)\n",
    "acc_sgd"
   ],
   "metadata": {
    "collapsed": false,
    "pycharm": {
     "name": "#%%\n"
    }
   }
  },
  {
   "cell_type": "code",
   "execution_count": 158,
   "outputs": [
    {
     "data": {
      "text/plain": "99.88"
     },
     "execution_count": 158,
     "metadata": {},
     "output_type": "execute_result"
    }
   ],
   "source": [
    "# Decision Tree\n",
    "\n",
    "decision_tree = DecisionTreeClassifier()\n",
    "decision_tree.fit(X_train, Y_train)\n",
    "Y_pred = decision_tree.predict(X_test)\n",
    "acc_decision_tree = round(decision_tree.score(X_train, Y_train) * 100, 2)\n",
    "acc_decision_tree"
   ],
   "metadata": {
    "collapsed": false,
    "pycharm": {
     "name": "#%%\n"
    }
   }
  },
  {
   "cell_type": "code",
   "execution_count": 159,
   "outputs": [
    {
     "data": {
      "text/plain": "99.87"
     },
     "execution_count": 159,
     "metadata": {},
     "output_type": "execute_result"
    }
   ],
   "source": [
    "# Random Forest\n",
    "\n",
    "random_forest = RandomForestClassifier(n_estimators=100)\n",
    "random_forest.fit(X_train, Y_train)\n",
    "Y_pred = random_forest.predict(X_test)\n",
    "random_forest.score(X_train, Y_train)\n",
    "acc_random_forest = round(random_forest.score(X_train, Y_train) * 100, 2)\n",
    "acc_random_forest"
   ],
   "metadata": {
    "collapsed": false,
    "pycharm": {
     "name": "#%%\n"
    }
   }
  },
  {
   "cell_type": "code",
   "execution_count": 160,
   "outputs": [
    {
     "data": {
      "text/plain": "                        Model  Score\n8               Decision Tree  99.88\n3               Random Forest  99.87\n1                         KNN  85.10\n0     Support Vector Machines  77.81\n5                  Perceptron  77.78\n2         Logistic Regression  77.55\n4                 Naive Bayes  77.54\n7                  Linear SVC  75.88\n6  Stochastic Gradient Decent  69.84",
      "text/html": "<div>\n<style scoped>\n    .dataframe tbody tr th:only-of-type {\n        vertical-align: middle;\n    }\n\n    .dataframe tbody tr th {\n        vertical-align: top;\n    }\n\n    .dataframe thead th {\n        text-align: right;\n    }\n</style>\n<table border=\"1\" class=\"dataframe\">\n  <thead>\n    <tr style=\"text-align: right;\">\n      <th></th>\n      <th>Model</th>\n      <th>Score</th>\n    </tr>\n  </thead>\n  <tbody>\n    <tr>\n      <th>8</th>\n      <td>Decision Tree</td>\n      <td>99.88</td>\n    </tr>\n    <tr>\n      <th>3</th>\n      <td>Random Forest</td>\n      <td>99.87</td>\n    </tr>\n    <tr>\n      <th>1</th>\n      <td>KNN</td>\n      <td>85.10</td>\n    </tr>\n    <tr>\n      <th>0</th>\n      <td>Support Vector Machines</td>\n      <td>77.81</td>\n    </tr>\n    <tr>\n      <th>5</th>\n      <td>Perceptron</td>\n      <td>77.78</td>\n    </tr>\n    <tr>\n      <th>2</th>\n      <td>Logistic Regression</td>\n      <td>77.55</td>\n    </tr>\n    <tr>\n      <th>4</th>\n      <td>Naive Bayes</td>\n      <td>77.54</td>\n    </tr>\n    <tr>\n      <th>7</th>\n      <td>Linear SVC</td>\n      <td>75.88</td>\n    </tr>\n    <tr>\n      <th>6</th>\n      <td>Stochastic Gradient Decent</td>\n      <td>69.84</td>\n    </tr>\n  </tbody>\n</table>\n</div>"
     },
     "execution_count": 160,
     "metadata": {},
     "output_type": "execute_result"
    }
   ],
   "source": [
    "models = pd.DataFrame({\n",
    "    'Model': ['Support Vector Machines', 'KNN', 'Logistic Regression',\n",
    "              'Random Forest', 'Naive Bayes', 'Perceptron',\n",
    "              'Stochastic Gradient Decent', 'Linear SVC',\n",
    "              'Decision Tree'],\n",
    "    'Score': [acc_svc, acc_knn, acc_log,\n",
    "              acc_random_forest, acc_gaussian, acc_perceptron,\n",
    "              acc_sgd, acc_linear_svc, acc_decision_tree]})\n",
    "models.sort_values(by='Score', ascending=False)"
   ],
   "metadata": {
    "collapsed": false,
    "pycharm": {
     "name": "#%%\n"
    }
   }
  },
  {
   "cell_type": "code",
   "execution_count": 163,
   "outputs": [],
   "source": [
    "submission = pd.DataFrame({\n",
    "    \"city\": house_rent[\"animal\"],\n",
    "    \"animal\": Y_pred\n",
    "})"
   ],
   "metadata": {
    "collapsed": false,
    "pycharm": {
     "name": "#%%\n"
    }
   }
  }
 ],
 "metadata": {
  "kernelspec": {
   "display_name": "Python 3",
   "language": "python",
   "name": "python3"
  },
  "language_info": {
   "codemirror_mode": {
    "name": "ipython",
    "version": 2
   },
   "file_extension": ".py",
   "mimetype": "text/x-python",
   "name": "python",
   "nbconvert_exporter": "python",
   "pygments_lexer": "ipython2",
   "version": "2.7.6"
  }
 },
 "nbformat": 4,
 "nbformat_minor": 0
}