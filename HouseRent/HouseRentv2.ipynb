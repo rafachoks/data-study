{
 "cells": [
  {
   "cell_type": "markdown",
   "metadata": {
    "collapsed": true,
    "pycharm": {
     "name": "#%% md\n"
    }
   },
   "source": [
    "<h1>House Prices - Advanced Regression Techniques</h1>"
   ]
  },
  {
   "cell_type": "markdown",
   "source": [
    "<p>\n",
    "    In this project we will carry out the forecast of housing sales prices\n",
    "</p>"
   ],
   "metadata": {
    "collapsed": false,
    "pycharm": {
     "name": "#%% md\n"
    }
   }
  },
  {
   "cell_type": "markdown",
   "source": [
    "<h2> 1 - Starting </h2>\n",
    "<ul>\n",
    "    <li>It is a best practice perform the correlation earlier in the project</li>\n",
    "    <li>Let's use multiple plots for better undertanding of the data</li>\n",
    "    <li>Let's try to find the best prediction value</li>\n",
    "</ul>"
   ],
   "metadata": {
    "collapsed": false,
    "pycharm": {
     "name": "#%% md\n"
    }
   }
  },
  {
   "cell_type": "code",
   "execution_count": 476,
   "outputs": [],
   "source": [
    "#importing libraries\n",
    "\n",
    "# for data analysis\n",
    "import pandas as pd\n",
    "import numpy as np\n",
    "\n",
    "# for data visualization\n",
    "import seaborn as sns\n",
    "import matplotlib.pyplot as plt\n",
    "%matplotlib inline\n",
    "\n",
    "# for data algorithms\n",
    "from sklearn.linear_model import LogisticRegression\n",
    "from sklearn.linear_model import  Ridge\n",
    "from sklearn.model_selection import train_test_split\n",
    "from sklearn.svm import SVC, LinearSVC\n",
    "from sklearn.ensemble import RandomForestClassifier\n",
    "from sklearn.neighbors import KNeighborsClassifier\n",
    "from sklearn.naive_bayes import GaussianNB\n",
    "from sklearn.linear_model import Perceptron\n",
    "from sklearn.linear_model import SGDClassifier\n",
    "from sklearn.tree import DecisionTreeClassifier\n",
    "from sklearn.metrics import classification_report"
   ],
   "metadata": {
    "collapsed": false,
    "pycharm": {
     "name": "#%%\n"
    }
   }
  },
  {
   "cell_type": "markdown",
   "source": [
    "<h2>Acquiring the data</h2>"
   ],
   "metadata": {
    "collapsed": false,
    "pycharm": {
     "name": "#%% md\n"
    }
   }
  },
  {
   "cell_type": "code",
   "execution_count": 477,
   "outputs": [],
   "source": [
    "train_df = pd.read_csv(r'C:\\Users\\rafae\\Downloads\\train.csv')\n",
    "test_df = pd.read_csv(r'C:\\Users\\rafae\\Downloads\\train.csv')"
   ],
   "metadata": {
    "collapsed": false,
    "pycharm": {
     "name": "#%%\n"
    }
   }
  },
  {
   "cell_type": "code",
   "execution_count": 478,
   "outputs": [
    {
     "data": {
      "text/plain": "   Id  MSSubClass MSZoning  LotFrontage  LotArea Street Alley LotShape  \\\n0   1          60       RL         65.0     8450   Pave   NaN      Reg   \n1   2          20       RL         80.0     9600   Pave   NaN      Reg   \n2   3          60       RL         68.0    11250   Pave   NaN      IR1   \n3   4          70       RL         60.0     9550   Pave   NaN      IR1   \n4   5          60       RL         84.0    14260   Pave   NaN      IR1   \n\n  LandContour Utilities  ... PoolArea PoolQC Fence MiscFeature MiscVal MoSold  \\\n0         Lvl    AllPub  ...        0    NaN   NaN         NaN       0      2   \n1         Lvl    AllPub  ...        0    NaN   NaN         NaN       0      5   \n2         Lvl    AllPub  ...        0    NaN   NaN         NaN       0      9   \n3         Lvl    AllPub  ...        0    NaN   NaN         NaN       0      2   \n4         Lvl    AllPub  ...        0    NaN   NaN         NaN       0     12   \n\n  YrSold  SaleType  SaleCondition  SalePrice  \n0   2008        WD         Normal     208500  \n1   2007        WD         Normal     181500  \n2   2008        WD         Normal     223500  \n3   2006        WD        Abnorml     140000  \n4   2008        WD         Normal     250000  \n\n[5 rows x 81 columns]",
      "text/html": "<div>\n<style scoped>\n    .dataframe tbody tr th:only-of-type {\n        vertical-align: middle;\n    }\n\n    .dataframe tbody tr th {\n        vertical-align: top;\n    }\n\n    .dataframe thead th {\n        text-align: right;\n    }\n</style>\n<table border=\"1\" class=\"dataframe\">\n  <thead>\n    <tr style=\"text-align: right;\">\n      <th></th>\n      <th>Id</th>\n      <th>MSSubClass</th>\n      <th>MSZoning</th>\n      <th>LotFrontage</th>\n      <th>LotArea</th>\n      <th>Street</th>\n      <th>Alley</th>\n      <th>LotShape</th>\n      <th>LandContour</th>\n      <th>Utilities</th>\n      <th>...</th>\n      <th>PoolArea</th>\n      <th>PoolQC</th>\n      <th>Fence</th>\n      <th>MiscFeature</th>\n      <th>MiscVal</th>\n      <th>MoSold</th>\n      <th>YrSold</th>\n      <th>SaleType</th>\n      <th>SaleCondition</th>\n      <th>SalePrice</th>\n    </tr>\n  </thead>\n  <tbody>\n    <tr>\n      <th>0</th>\n      <td>1</td>\n      <td>60</td>\n      <td>RL</td>\n      <td>65.0</td>\n      <td>8450</td>\n      <td>Pave</td>\n      <td>NaN</td>\n      <td>Reg</td>\n      <td>Lvl</td>\n      <td>AllPub</td>\n      <td>...</td>\n      <td>0</td>\n      <td>NaN</td>\n      <td>NaN</td>\n      <td>NaN</td>\n      <td>0</td>\n      <td>2</td>\n      <td>2008</td>\n      <td>WD</td>\n      <td>Normal</td>\n      <td>208500</td>\n    </tr>\n    <tr>\n      <th>1</th>\n      <td>2</td>\n      <td>20</td>\n      <td>RL</td>\n      <td>80.0</td>\n      <td>9600</td>\n      <td>Pave</td>\n      <td>NaN</td>\n      <td>Reg</td>\n      <td>Lvl</td>\n      <td>AllPub</td>\n      <td>...</td>\n      <td>0</td>\n      <td>NaN</td>\n      <td>NaN</td>\n      <td>NaN</td>\n      <td>0</td>\n      <td>5</td>\n      <td>2007</td>\n      <td>WD</td>\n      <td>Normal</td>\n      <td>181500</td>\n    </tr>\n    <tr>\n      <th>2</th>\n      <td>3</td>\n      <td>60</td>\n      <td>RL</td>\n      <td>68.0</td>\n      <td>11250</td>\n      <td>Pave</td>\n      <td>NaN</td>\n      <td>IR1</td>\n      <td>Lvl</td>\n      <td>AllPub</td>\n      <td>...</td>\n      <td>0</td>\n      <td>NaN</td>\n      <td>NaN</td>\n      <td>NaN</td>\n      <td>0</td>\n      <td>9</td>\n      <td>2008</td>\n      <td>WD</td>\n      <td>Normal</td>\n      <td>223500</td>\n    </tr>\n    <tr>\n      <th>3</th>\n      <td>4</td>\n      <td>70</td>\n      <td>RL</td>\n      <td>60.0</td>\n      <td>9550</td>\n      <td>Pave</td>\n      <td>NaN</td>\n      <td>IR1</td>\n      <td>Lvl</td>\n      <td>AllPub</td>\n      <td>...</td>\n      <td>0</td>\n      <td>NaN</td>\n      <td>NaN</td>\n      <td>NaN</td>\n      <td>0</td>\n      <td>2</td>\n      <td>2006</td>\n      <td>WD</td>\n      <td>Abnorml</td>\n      <td>140000</td>\n    </tr>\n    <tr>\n      <th>4</th>\n      <td>5</td>\n      <td>60</td>\n      <td>RL</td>\n      <td>84.0</td>\n      <td>14260</td>\n      <td>Pave</td>\n      <td>NaN</td>\n      <td>IR1</td>\n      <td>Lvl</td>\n      <td>AllPub</td>\n      <td>...</td>\n      <td>0</td>\n      <td>NaN</td>\n      <td>NaN</td>\n      <td>NaN</td>\n      <td>0</td>\n      <td>12</td>\n      <td>2008</td>\n      <td>WD</td>\n      <td>Normal</td>\n      <td>250000</td>\n    </tr>\n  </tbody>\n</table>\n<p>5 rows × 81 columns</p>\n</div>"
     },
     "execution_count": 478,
     "metadata": {},
     "output_type": "execute_result"
    }
   ],
   "source": [
    "train_df.head()"
   ],
   "metadata": {
    "collapsed": false,
    "pycharm": {
     "name": "#%%\n"
    }
   }
  },
  {
   "cell_type": "code",
   "execution_count": 479,
   "outputs": [
    {
     "name": "stdout",
     "output_type": "stream",
     "text": [
      "Index(['Id', 'MSSubClass', 'MSZoning', 'LotFrontage', 'LotArea', 'Street',\n",
      "       'Alley', 'LotShape', 'LandContour', 'Utilities', 'LotConfig',\n",
      "       'LandSlope', 'Neighborhood', 'Condition1', 'Condition2', 'BldgType',\n",
      "       'HouseStyle', 'OverallQual', 'OverallCond', 'YearBuilt', 'YearRemodAdd',\n",
      "       'RoofStyle', 'RoofMatl', 'Exterior1st', 'Exterior2nd', 'MasVnrType',\n",
      "       'MasVnrArea', 'ExterQual', 'ExterCond', 'Foundation', 'BsmtQual',\n",
      "       'BsmtCond', 'BsmtExposure', 'BsmtFinType1', 'BsmtFinSF1',\n",
      "       'BsmtFinType2', 'BsmtFinSF2', 'BsmtUnfSF', 'TotalBsmtSF', 'Heating',\n",
      "       'HeatingQC', 'CentralAir', 'Electrical', '1stFlrSF', '2ndFlrSF',\n",
      "       'LowQualFinSF', 'GrLivArea', 'BsmtFullBath', 'BsmtHalfBath', 'FullBath',\n",
      "       'HalfBath', 'BedroomAbvGr', 'KitchenAbvGr', 'KitchenQual',\n",
      "       'TotRmsAbvGrd', 'Functional', 'Fireplaces', 'FireplaceQu', 'GarageType',\n",
      "       'GarageYrBlt', 'GarageFinish', 'GarageCars', 'GarageArea', 'GarageQual',\n",
      "       'GarageCond', 'PavedDrive', 'WoodDeckSF', 'OpenPorchSF',\n",
      "       'EnclosedPorch', '3SsnPorch', 'ScreenPorch', 'PoolArea', 'PoolQC',\n",
      "       'Fence', 'MiscFeature', 'MiscVal', 'MoSold', 'YrSold', 'SaleType',\n",
      "       'SaleCondition', 'SalePrice'],\n",
      "      dtype='object')\n"
     ]
    }
   ],
   "source": [
    "print(train_df.columns)"
   ],
   "metadata": {
    "collapsed": false,
    "pycharm": {
     "name": "#%%\n"
    }
   }
  },
  {
   "cell_type": "markdown",
   "source": [
    "<p>\n",
    "    There are a huge number of columns in this dataset, let's dig deeper to try to uncover some correlations right away\n",
    "</p>"
   ],
   "metadata": {
    "collapsed": false,
    "pycharm": {
     "name": "#%% md\n"
    }
   }
  },
  {
   "cell_type": "markdown",
   "source": [
    "<p>\n",
    "    Let's understand some of the columns and identify the knowledge earlier\n",
    "</p>\n",
    "<p>Since we have a number of columns, I will focus on identifying only our target variable and all the others will be predictive</p>\n",
    "<p><b>Target: SalePrice</b></p>\n"
   ],
   "metadata": {
    "collapsed": false,
    "pycharm": {
     "name": "#%% md\n"
    }
   }
  },
  {
   "cell_type": "code",
   "execution_count": 480,
   "outputs": [
    {
     "name": "stdout",
     "output_type": "stream",
     "text": [
      "<class 'pandas.core.frame.DataFrame'>\n",
      "RangeIndex: 1460 entries, 0 to 1459\n",
      "Data columns (total 81 columns):\n",
      " #   Column         Non-Null Count  Dtype  \n",
      "---  ------         --------------  -----  \n",
      " 0   Id             1460 non-null   int64  \n",
      " 1   MSSubClass     1460 non-null   int64  \n",
      " 2   MSZoning       1460 non-null   object \n",
      " 3   LotFrontage    1201 non-null   float64\n",
      " 4   LotArea        1460 non-null   int64  \n",
      " 5   Street         1460 non-null   object \n",
      " 6   Alley          91 non-null     object \n",
      " 7   LotShape       1460 non-null   object \n",
      " 8   LandContour    1460 non-null   object \n",
      " 9   Utilities      1460 non-null   object \n",
      " 10  LotConfig      1460 non-null   object \n",
      " 11  LandSlope      1460 non-null   object \n",
      " 12  Neighborhood   1460 non-null   object \n",
      " 13  Condition1     1460 non-null   object \n",
      " 14  Condition2     1460 non-null   object \n",
      " 15  BldgType       1460 non-null   object \n",
      " 16  HouseStyle     1460 non-null   object \n",
      " 17  OverallQual    1460 non-null   int64  \n",
      " 18  OverallCond    1460 non-null   int64  \n",
      " 19  YearBuilt      1460 non-null   int64  \n",
      " 20  YearRemodAdd   1460 non-null   int64  \n",
      " 21  RoofStyle      1460 non-null   object \n",
      " 22  RoofMatl       1460 non-null   object \n",
      " 23  Exterior1st    1460 non-null   object \n",
      " 24  Exterior2nd    1460 non-null   object \n",
      " 25  MasVnrType     1452 non-null   object \n",
      " 26  MasVnrArea     1452 non-null   float64\n",
      " 27  ExterQual      1460 non-null   object \n",
      " 28  ExterCond      1460 non-null   object \n",
      " 29  Foundation     1460 non-null   object \n",
      " 30  BsmtQual       1423 non-null   object \n",
      " 31  BsmtCond       1423 non-null   object \n",
      " 32  BsmtExposure   1422 non-null   object \n",
      " 33  BsmtFinType1   1423 non-null   object \n",
      " 34  BsmtFinSF1     1460 non-null   int64  \n",
      " 35  BsmtFinType2   1422 non-null   object \n",
      " 36  BsmtFinSF2     1460 non-null   int64  \n",
      " 37  BsmtUnfSF      1460 non-null   int64  \n",
      " 38  TotalBsmtSF    1460 non-null   int64  \n",
      " 39  Heating        1460 non-null   object \n",
      " 40  HeatingQC      1460 non-null   object \n",
      " 41  CentralAir     1460 non-null   object \n",
      " 42  Electrical     1459 non-null   object \n",
      " 43  1stFlrSF       1460 non-null   int64  \n",
      " 44  2ndFlrSF       1460 non-null   int64  \n",
      " 45  LowQualFinSF   1460 non-null   int64  \n",
      " 46  GrLivArea      1460 non-null   int64  \n",
      " 47  BsmtFullBath   1460 non-null   int64  \n",
      " 48  BsmtHalfBath   1460 non-null   int64  \n",
      " 49  FullBath       1460 non-null   int64  \n",
      " 50  HalfBath       1460 non-null   int64  \n",
      " 51  BedroomAbvGr   1460 non-null   int64  \n",
      " 52  KitchenAbvGr   1460 non-null   int64  \n",
      " 53  KitchenQual    1460 non-null   object \n",
      " 54  TotRmsAbvGrd   1460 non-null   int64  \n",
      " 55  Functional     1460 non-null   object \n",
      " 56  Fireplaces     1460 non-null   int64  \n",
      " 57  FireplaceQu    770 non-null    object \n",
      " 58  GarageType     1379 non-null   object \n",
      " 59  GarageYrBlt    1379 non-null   float64\n",
      " 60  GarageFinish   1379 non-null   object \n",
      " 61  GarageCars     1460 non-null   int64  \n",
      " 62  GarageArea     1460 non-null   int64  \n",
      " 63  GarageQual     1379 non-null   object \n",
      " 64  GarageCond     1379 non-null   object \n",
      " 65  PavedDrive     1460 non-null   object \n",
      " 66  WoodDeckSF     1460 non-null   int64  \n",
      " 67  OpenPorchSF    1460 non-null   int64  \n",
      " 68  EnclosedPorch  1460 non-null   int64  \n",
      " 69  3SsnPorch      1460 non-null   int64  \n",
      " 70  ScreenPorch    1460 non-null   int64  \n",
      " 71  PoolArea       1460 non-null   int64  \n",
      " 72  PoolQC         7 non-null      object \n",
      " 73  Fence          281 non-null    object \n",
      " 74  MiscFeature    54 non-null     object \n",
      " 75  MiscVal        1460 non-null   int64  \n",
      " 76  MoSold         1460 non-null   int64  \n",
      " 77  YrSold         1460 non-null   int64  \n",
      " 78  SaleType       1460 non-null   object \n",
      " 79  SaleCondition  1460 non-null   object \n",
      " 80  SalePrice      1460 non-null   int64  \n",
      "dtypes: float64(3), int64(35), object(43)\n",
      "memory usage: 924.0+ KB\n",
      "----------------------------------------\n",
      "<class 'pandas.core.frame.DataFrame'>\n",
      "RangeIndex: 1460 entries, 0 to 1459\n",
      "Data columns (total 81 columns):\n",
      " #   Column         Non-Null Count  Dtype  \n",
      "---  ------         --------------  -----  \n",
      " 0   Id             1460 non-null   int64  \n",
      " 1   MSSubClass     1460 non-null   int64  \n",
      " 2   MSZoning       1460 non-null   object \n",
      " 3   LotFrontage    1201 non-null   float64\n",
      " 4   LotArea        1460 non-null   int64  \n",
      " 5   Street         1460 non-null   object \n",
      " 6   Alley          91 non-null     object \n",
      " 7   LotShape       1460 non-null   object \n",
      " 8   LandContour    1460 non-null   object \n",
      " 9   Utilities      1460 non-null   object \n",
      " 10  LotConfig      1460 non-null   object \n",
      " 11  LandSlope      1460 non-null   object \n",
      " 12  Neighborhood   1460 non-null   object \n",
      " 13  Condition1     1460 non-null   object \n",
      " 14  Condition2     1460 non-null   object \n",
      " 15  BldgType       1460 non-null   object \n",
      " 16  HouseStyle     1460 non-null   object \n",
      " 17  OverallQual    1460 non-null   int64  \n",
      " 18  OverallCond    1460 non-null   int64  \n",
      " 19  YearBuilt      1460 non-null   int64  \n",
      " 20  YearRemodAdd   1460 non-null   int64  \n",
      " 21  RoofStyle      1460 non-null   object \n",
      " 22  RoofMatl       1460 non-null   object \n",
      " 23  Exterior1st    1460 non-null   object \n",
      " 24  Exterior2nd    1460 non-null   object \n",
      " 25  MasVnrType     1452 non-null   object \n",
      " 26  MasVnrArea     1452 non-null   float64\n",
      " 27  ExterQual      1460 non-null   object \n",
      " 28  ExterCond      1460 non-null   object \n",
      " 29  Foundation     1460 non-null   object \n",
      " 30  BsmtQual       1423 non-null   object \n",
      " 31  BsmtCond       1423 non-null   object \n",
      " 32  BsmtExposure   1422 non-null   object \n",
      " 33  BsmtFinType1   1423 non-null   object \n",
      " 34  BsmtFinSF1     1460 non-null   int64  \n",
      " 35  BsmtFinType2   1422 non-null   object \n",
      " 36  BsmtFinSF2     1460 non-null   int64  \n",
      " 37  BsmtUnfSF      1460 non-null   int64  \n",
      " 38  TotalBsmtSF    1460 non-null   int64  \n",
      " 39  Heating        1460 non-null   object \n",
      " 40  HeatingQC      1460 non-null   object \n",
      " 41  CentralAir     1460 non-null   object \n",
      " 42  Electrical     1459 non-null   object \n",
      " 43  1stFlrSF       1460 non-null   int64  \n",
      " 44  2ndFlrSF       1460 non-null   int64  \n",
      " 45  LowQualFinSF   1460 non-null   int64  \n",
      " 46  GrLivArea      1460 non-null   int64  \n",
      " 47  BsmtFullBath   1460 non-null   int64  \n",
      " 48  BsmtHalfBath   1460 non-null   int64  \n",
      " 49  FullBath       1460 non-null   int64  \n",
      " 50  HalfBath       1460 non-null   int64  \n",
      " 51  BedroomAbvGr   1460 non-null   int64  \n",
      " 52  KitchenAbvGr   1460 non-null   int64  \n",
      " 53  KitchenQual    1460 non-null   object \n",
      " 54  TotRmsAbvGrd   1460 non-null   int64  \n",
      " 55  Functional     1460 non-null   object \n",
      " 56  Fireplaces     1460 non-null   int64  \n",
      " 57  FireplaceQu    770 non-null    object \n",
      " 58  GarageType     1379 non-null   object \n",
      " 59  GarageYrBlt    1379 non-null   float64\n",
      " 60  GarageFinish   1379 non-null   object \n",
      " 61  GarageCars     1460 non-null   int64  \n",
      " 62  GarageArea     1460 non-null   int64  \n",
      " 63  GarageQual     1379 non-null   object \n",
      " 64  GarageCond     1379 non-null   object \n",
      " 65  PavedDrive     1460 non-null   object \n",
      " 66  WoodDeckSF     1460 non-null   int64  \n",
      " 67  OpenPorchSF    1460 non-null   int64  \n",
      " 68  EnclosedPorch  1460 non-null   int64  \n",
      " 69  3SsnPorch      1460 non-null   int64  \n",
      " 70  ScreenPorch    1460 non-null   int64  \n",
      " 71  PoolArea       1460 non-null   int64  \n",
      " 72  PoolQC         7 non-null      object \n",
      " 73  Fence          281 non-null    object \n",
      " 74  MiscFeature    54 non-null     object \n",
      " 75  MiscVal        1460 non-null   int64  \n",
      " 76  MoSold         1460 non-null   int64  \n",
      " 77  YrSold         1460 non-null   int64  \n",
      " 78  SaleType       1460 non-null   object \n",
      " 79  SaleCondition  1460 non-null   object \n",
      " 80  SalePrice      1460 non-null   int64  \n",
      "dtypes: float64(3), int64(35), object(43)\n",
      "memory usage: 924.0+ KB\n"
     ]
    }
   ],
   "source": [
    "train_df.info()\n",
    "print('-'*40)\n",
    "test_df.info()"
   ],
   "metadata": {
    "collapsed": false,
    "pycharm": {
     "name": "#%%\n"
    }
   }
  },
  {
   "cell_type": "markdown",
   "source": [
    "Let's arrange our columns so that our target variable is highlighted, we are going to do the same for our test dataframe"
   ],
   "metadata": {
    "collapsed": false,
    "pycharm": {
     "name": "#%% md\n"
    }
   }
  },
  {
   "cell_type": "code",
   "execution_count": 481,
   "outputs": [
    {
     "data": {
      "text/plain": "   SalePrice  MSSubClass MSZoning  LotFrontage  LotArea Street Alley LotShape  \\\n0     208500          60       RL         65.0     8450   Pave   NaN      Reg   \n1     181500          20       RL         80.0     9600   Pave   NaN      Reg   \n2     223500          60       RL         68.0    11250   Pave   NaN      IR1   \n3     140000          70       RL         60.0     9550   Pave   NaN      IR1   \n4     250000          60       RL         84.0    14260   Pave   NaN      IR1   \n\n  LandContour Utilities  ... PoolArea PoolQC Fence MiscFeature MiscVal MoSold  \\\n0         Lvl    AllPub  ...        0    NaN   NaN         NaN       0      2   \n1         Lvl    AllPub  ...        0    NaN   NaN         NaN       0      5   \n2         Lvl    AllPub  ...        0    NaN   NaN         NaN       0      9   \n3         Lvl    AllPub  ...        0    NaN   NaN         NaN       0      2   \n4         Lvl    AllPub  ...        0    NaN   NaN         NaN       0     12   \n\n  YrSold  SaleType  SaleCondition  Id  \n0   2008        WD         Normal   1  \n1   2007        WD         Normal   2  \n2   2008        WD         Normal   3  \n3   2006        WD        Abnorml   4  \n4   2008        WD         Normal   5  \n\n[5 rows x 81 columns]",
      "text/html": "<div>\n<style scoped>\n    .dataframe tbody tr th:only-of-type {\n        vertical-align: middle;\n    }\n\n    .dataframe tbody tr th {\n        vertical-align: top;\n    }\n\n    .dataframe thead th {\n        text-align: right;\n    }\n</style>\n<table border=\"1\" class=\"dataframe\">\n  <thead>\n    <tr style=\"text-align: right;\">\n      <th></th>\n      <th>SalePrice</th>\n      <th>MSSubClass</th>\n      <th>MSZoning</th>\n      <th>LotFrontage</th>\n      <th>LotArea</th>\n      <th>Street</th>\n      <th>Alley</th>\n      <th>LotShape</th>\n      <th>LandContour</th>\n      <th>Utilities</th>\n      <th>...</th>\n      <th>PoolArea</th>\n      <th>PoolQC</th>\n      <th>Fence</th>\n      <th>MiscFeature</th>\n      <th>MiscVal</th>\n      <th>MoSold</th>\n      <th>YrSold</th>\n      <th>SaleType</th>\n      <th>SaleCondition</th>\n      <th>Id</th>\n    </tr>\n  </thead>\n  <tbody>\n    <tr>\n      <th>0</th>\n      <td>208500</td>\n      <td>60</td>\n      <td>RL</td>\n      <td>65.0</td>\n      <td>8450</td>\n      <td>Pave</td>\n      <td>NaN</td>\n      <td>Reg</td>\n      <td>Lvl</td>\n      <td>AllPub</td>\n      <td>...</td>\n      <td>0</td>\n      <td>NaN</td>\n      <td>NaN</td>\n      <td>NaN</td>\n      <td>0</td>\n      <td>2</td>\n      <td>2008</td>\n      <td>WD</td>\n      <td>Normal</td>\n      <td>1</td>\n    </tr>\n    <tr>\n      <th>1</th>\n      <td>181500</td>\n      <td>20</td>\n      <td>RL</td>\n      <td>80.0</td>\n      <td>9600</td>\n      <td>Pave</td>\n      <td>NaN</td>\n      <td>Reg</td>\n      <td>Lvl</td>\n      <td>AllPub</td>\n      <td>...</td>\n      <td>0</td>\n      <td>NaN</td>\n      <td>NaN</td>\n      <td>NaN</td>\n      <td>0</td>\n      <td>5</td>\n      <td>2007</td>\n      <td>WD</td>\n      <td>Normal</td>\n      <td>2</td>\n    </tr>\n    <tr>\n      <th>2</th>\n      <td>223500</td>\n      <td>60</td>\n      <td>RL</td>\n      <td>68.0</td>\n      <td>11250</td>\n      <td>Pave</td>\n      <td>NaN</td>\n      <td>IR1</td>\n      <td>Lvl</td>\n      <td>AllPub</td>\n      <td>...</td>\n      <td>0</td>\n      <td>NaN</td>\n      <td>NaN</td>\n      <td>NaN</td>\n      <td>0</td>\n      <td>9</td>\n      <td>2008</td>\n      <td>WD</td>\n      <td>Normal</td>\n      <td>3</td>\n    </tr>\n    <tr>\n      <th>3</th>\n      <td>140000</td>\n      <td>70</td>\n      <td>RL</td>\n      <td>60.0</td>\n      <td>9550</td>\n      <td>Pave</td>\n      <td>NaN</td>\n      <td>IR1</td>\n      <td>Lvl</td>\n      <td>AllPub</td>\n      <td>...</td>\n      <td>0</td>\n      <td>NaN</td>\n      <td>NaN</td>\n      <td>NaN</td>\n      <td>0</td>\n      <td>2</td>\n      <td>2006</td>\n      <td>WD</td>\n      <td>Abnorml</td>\n      <td>4</td>\n    </tr>\n    <tr>\n      <th>4</th>\n      <td>250000</td>\n      <td>60</td>\n      <td>RL</td>\n      <td>84.0</td>\n      <td>14260</td>\n      <td>Pave</td>\n      <td>NaN</td>\n      <td>IR1</td>\n      <td>Lvl</td>\n      <td>AllPub</td>\n      <td>...</td>\n      <td>0</td>\n      <td>NaN</td>\n      <td>NaN</td>\n      <td>NaN</td>\n      <td>0</td>\n      <td>12</td>\n      <td>2008</td>\n      <td>WD</td>\n      <td>Normal</td>\n      <td>5</td>\n    </tr>\n  </tbody>\n</table>\n<p>5 rows × 81 columns</p>\n</div>"
     },
     "execution_count": 481,
     "metadata": {},
     "output_type": "execute_result"
    }
   ],
   "source": [
    "train_df = train_df[['SalePrice', 'MSSubClass', 'MSZoning', 'LotFrontage', 'LotArea', 'Street',\n",
    "                     'Alley', 'LotShape', 'LandContour', 'Utilities', 'LotConfig',\n",
    "                     'LandSlope', 'Neighborhood', 'Condition1', 'Condition2', 'BldgType',\n",
    "                     'HouseStyle', 'OverallQual', 'OverallCond', 'YearBuilt', 'YearRemodAdd',\n",
    "                     'RoofStyle', 'RoofMatl', 'Exterior1st', 'Exterior2nd', 'MasVnrType',\n",
    "                     'MasVnrArea', 'ExterQual', 'ExterCond', 'Foundation', 'BsmtQual',\n",
    "                     'BsmtCond', 'BsmtExposure', 'BsmtFinType1', 'BsmtFinSF1',\n",
    "                     'BsmtFinType2', 'BsmtFinSF2', 'BsmtUnfSF', 'TotalBsmtSF', 'Heating',\n",
    "                     'HeatingQC', 'CentralAir', 'Electrical', '1stFlrSF', '2ndFlrSF',\n",
    "                     'LowQualFinSF', 'GrLivArea', 'BsmtFullBath', 'BsmtHalfBath', 'FullBath',\n",
    "                     'HalfBath', 'BedroomAbvGr', 'KitchenAbvGr', 'KitchenQual',\n",
    "                     'TotRmsAbvGrd', 'Functional', 'Fireplaces', 'FireplaceQu', 'GarageType',\n",
    "                     'GarageYrBlt', 'GarageFinish', 'GarageCars', 'GarageArea', 'GarageQual',\n",
    "                     'GarageCond', 'PavedDrive', 'WoodDeckSF', 'OpenPorchSF',\n",
    "                     'EnclosedPorch', '3SsnPorch', 'ScreenPorch', 'PoolArea', 'PoolQC',\n",
    "                     'Fence', 'MiscFeature', 'MiscVal', 'MoSold', 'YrSold', 'SaleType',\n",
    "                     'SaleCondition', 'Id']]\n",
    "\n",
    "train_df.head()"
   ],
   "metadata": {
    "collapsed": false,
    "pycharm": {
     "name": "#%%\n"
    }
   }
  },
  {
   "cell_type": "code",
   "execution_count": 482,
   "outputs": [
    {
     "data": {
      "text/plain": "           SalePrice   MSSubClass  LotFrontage        LotArea  OverallQual  \\\ncount    1460.000000  1460.000000  1201.000000    1460.000000  1460.000000   \nmean   180921.195890    56.897260    70.049958   10516.828082     6.099315   \nstd     79442.502883    42.300571    24.284752    9981.264932     1.382997   \nmin     34900.000000    20.000000    21.000000    1300.000000     1.000000   \n25%    129975.000000    20.000000    59.000000    7553.500000     5.000000   \n50%    163000.000000    50.000000    69.000000    9478.500000     6.000000   \n75%    214000.000000    70.000000    80.000000   11601.500000     7.000000   \nmax    755000.000000   190.000000   313.000000  215245.000000    10.000000   \n\n       OverallCond    YearBuilt  YearRemodAdd   MasVnrArea   BsmtFinSF1  ...  \\\ncount  1460.000000  1460.000000   1460.000000  1452.000000  1460.000000  ...   \nmean      5.575342  1971.267808   1984.865753   103.685262   443.639726  ...   \nstd       1.112799    30.202904     20.645407   181.066207   456.098091  ...   \nmin       1.000000  1872.000000   1950.000000     0.000000     0.000000  ...   \n25%       5.000000  1954.000000   1967.000000     0.000000     0.000000  ...   \n50%       5.000000  1973.000000   1994.000000     0.000000   383.500000  ...   \n75%       6.000000  2000.000000   2004.000000   166.000000   712.250000  ...   \nmax       9.000000  2010.000000   2010.000000  1600.000000  5644.000000  ...   \n\n        WoodDeckSF  OpenPorchSF  EnclosedPorch    3SsnPorch  ScreenPorch  \\\ncount  1460.000000  1460.000000    1460.000000  1460.000000  1460.000000   \nmean     94.244521    46.660274      21.954110     3.409589    15.060959   \nstd     125.338794    66.256028      61.119149    29.317331    55.757415   \nmin       0.000000     0.000000       0.000000     0.000000     0.000000   \n25%       0.000000     0.000000       0.000000     0.000000     0.000000   \n50%       0.000000    25.000000       0.000000     0.000000     0.000000   \n75%     168.000000    68.000000       0.000000     0.000000     0.000000   \nmax     857.000000   547.000000     552.000000   508.000000   480.000000   \n\n          PoolArea       MiscVal       MoSold       YrSold           Id  \ncount  1460.000000   1460.000000  1460.000000  1460.000000  1460.000000  \nmean      2.758904     43.489041     6.321918  2007.815753   730.500000  \nstd      40.177307    496.123024     2.703626     1.328095   421.610009  \nmin       0.000000      0.000000     1.000000  2006.000000     1.000000  \n25%       0.000000      0.000000     5.000000  2007.000000   365.750000  \n50%       0.000000      0.000000     6.000000  2008.000000   730.500000  \n75%       0.000000      0.000000     8.000000  2009.000000  1095.250000  \nmax     738.000000  15500.000000    12.000000  2010.000000  1460.000000  \n\n[8 rows x 38 columns]",
      "text/html": "<div>\n<style scoped>\n    .dataframe tbody tr th:only-of-type {\n        vertical-align: middle;\n    }\n\n    .dataframe tbody tr th {\n        vertical-align: top;\n    }\n\n    .dataframe thead th {\n        text-align: right;\n    }\n</style>\n<table border=\"1\" class=\"dataframe\">\n  <thead>\n    <tr style=\"text-align: right;\">\n      <th></th>\n      <th>SalePrice</th>\n      <th>MSSubClass</th>\n      <th>LotFrontage</th>\n      <th>LotArea</th>\n      <th>OverallQual</th>\n      <th>OverallCond</th>\n      <th>YearBuilt</th>\n      <th>YearRemodAdd</th>\n      <th>MasVnrArea</th>\n      <th>BsmtFinSF1</th>\n      <th>...</th>\n      <th>WoodDeckSF</th>\n      <th>OpenPorchSF</th>\n      <th>EnclosedPorch</th>\n      <th>3SsnPorch</th>\n      <th>ScreenPorch</th>\n      <th>PoolArea</th>\n      <th>MiscVal</th>\n      <th>MoSold</th>\n      <th>YrSold</th>\n      <th>Id</th>\n    </tr>\n  </thead>\n  <tbody>\n    <tr>\n      <th>count</th>\n      <td>1460.000000</td>\n      <td>1460.000000</td>\n      <td>1201.000000</td>\n      <td>1460.000000</td>\n      <td>1460.000000</td>\n      <td>1460.000000</td>\n      <td>1460.000000</td>\n      <td>1460.000000</td>\n      <td>1452.000000</td>\n      <td>1460.000000</td>\n      <td>...</td>\n      <td>1460.000000</td>\n      <td>1460.000000</td>\n      <td>1460.000000</td>\n      <td>1460.000000</td>\n      <td>1460.000000</td>\n      <td>1460.000000</td>\n      <td>1460.000000</td>\n      <td>1460.000000</td>\n      <td>1460.000000</td>\n      <td>1460.000000</td>\n    </tr>\n    <tr>\n      <th>mean</th>\n      <td>180921.195890</td>\n      <td>56.897260</td>\n      <td>70.049958</td>\n      <td>10516.828082</td>\n      <td>6.099315</td>\n      <td>5.575342</td>\n      <td>1971.267808</td>\n      <td>1984.865753</td>\n      <td>103.685262</td>\n      <td>443.639726</td>\n      <td>...</td>\n      <td>94.244521</td>\n      <td>46.660274</td>\n      <td>21.954110</td>\n      <td>3.409589</td>\n      <td>15.060959</td>\n      <td>2.758904</td>\n      <td>43.489041</td>\n      <td>6.321918</td>\n      <td>2007.815753</td>\n      <td>730.500000</td>\n    </tr>\n    <tr>\n      <th>std</th>\n      <td>79442.502883</td>\n      <td>42.300571</td>\n      <td>24.284752</td>\n      <td>9981.264932</td>\n      <td>1.382997</td>\n      <td>1.112799</td>\n      <td>30.202904</td>\n      <td>20.645407</td>\n      <td>181.066207</td>\n      <td>456.098091</td>\n      <td>...</td>\n      <td>125.338794</td>\n      <td>66.256028</td>\n      <td>61.119149</td>\n      <td>29.317331</td>\n      <td>55.757415</td>\n      <td>40.177307</td>\n      <td>496.123024</td>\n      <td>2.703626</td>\n      <td>1.328095</td>\n      <td>421.610009</td>\n    </tr>\n    <tr>\n      <th>min</th>\n      <td>34900.000000</td>\n      <td>20.000000</td>\n      <td>21.000000</td>\n      <td>1300.000000</td>\n      <td>1.000000</td>\n      <td>1.000000</td>\n      <td>1872.000000</td>\n      <td>1950.000000</td>\n      <td>0.000000</td>\n      <td>0.000000</td>\n      <td>...</td>\n      <td>0.000000</td>\n      <td>0.000000</td>\n      <td>0.000000</td>\n      <td>0.000000</td>\n      <td>0.000000</td>\n      <td>0.000000</td>\n      <td>0.000000</td>\n      <td>1.000000</td>\n      <td>2006.000000</td>\n      <td>1.000000</td>\n    </tr>\n    <tr>\n      <th>25%</th>\n      <td>129975.000000</td>\n      <td>20.000000</td>\n      <td>59.000000</td>\n      <td>7553.500000</td>\n      <td>5.000000</td>\n      <td>5.000000</td>\n      <td>1954.000000</td>\n      <td>1967.000000</td>\n      <td>0.000000</td>\n      <td>0.000000</td>\n      <td>...</td>\n      <td>0.000000</td>\n      <td>0.000000</td>\n      <td>0.000000</td>\n      <td>0.000000</td>\n      <td>0.000000</td>\n      <td>0.000000</td>\n      <td>0.000000</td>\n      <td>5.000000</td>\n      <td>2007.000000</td>\n      <td>365.750000</td>\n    </tr>\n    <tr>\n      <th>50%</th>\n      <td>163000.000000</td>\n      <td>50.000000</td>\n      <td>69.000000</td>\n      <td>9478.500000</td>\n      <td>6.000000</td>\n      <td>5.000000</td>\n      <td>1973.000000</td>\n      <td>1994.000000</td>\n      <td>0.000000</td>\n      <td>383.500000</td>\n      <td>...</td>\n      <td>0.000000</td>\n      <td>25.000000</td>\n      <td>0.000000</td>\n      <td>0.000000</td>\n      <td>0.000000</td>\n      <td>0.000000</td>\n      <td>0.000000</td>\n      <td>6.000000</td>\n      <td>2008.000000</td>\n      <td>730.500000</td>\n    </tr>\n    <tr>\n      <th>75%</th>\n      <td>214000.000000</td>\n      <td>70.000000</td>\n      <td>80.000000</td>\n      <td>11601.500000</td>\n      <td>7.000000</td>\n      <td>6.000000</td>\n      <td>2000.000000</td>\n      <td>2004.000000</td>\n      <td>166.000000</td>\n      <td>712.250000</td>\n      <td>...</td>\n      <td>168.000000</td>\n      <td>68.000000</td>\n      <td>0.000000</td>\n      <td>0.000000</td>\n      <td>0.000000</td>\n      <td>0.000000</td>\n      <td>0.000000</td>\n      <td>8.000000</td>\n      <td>2009.000000</td>\n      <td>1095.250000</td>\n    </tr>\n    <tr>\n      <th>max</th>\n      <td>755000.000000</td>\n      <td>190.000000</td>\n      <td>313.000000</td>\n      <td>215245.000000</td>\n      <td>10.000000</td>\n      <td>9.000000</td>\n      <td>2010.000000</td>\n      <td>2010.000000</td>\n      <td>1600.000000</td>\n      <td>5644.000000</td>\n      <td>...</td>\n      <td>857.000000</td>\n      <td>547.000000</td>\n      <td>552.000000</td>\n      <td>508.000000</td>\n      <td>480.000000</td>\n      <td>738.000000</td>\n      <td>15500.000000</td>\n      <td>12.000000</td>\n      <td>2010.000000</td>\n      <td>1460.000000</td>\n    </tr>\n  </tbody>\n</table>\n<p>8 rows × 38 columns</p>\n</div>"
     },
     "execution_count": 482,
     "metadata": {},
     "output_type": "execute_result"
    }
   ],
   "source": [
    "train_df.describe()"
   ],
   "metadata": {
    "collapsed": false,
    "pycharm": {
     "name": "#%%\n"
    }
   }
  },
  {
   "cell_type": "markdown",
   "source": [
    "<p>\n",
    "    The average sales value of the properties is $180,921.19\n",
    "</p>\n",
    "<p>\n",
    "    The properties were built on average during the 1970s\n",
    "</p>\n",
    "<p>\n",
    "    43% of the properties contais Basement with full bathrooms\n",
    "</p>\n",
    "<p>\n",
    "    38% of the propertites contais Half baths above grade\n",
    "</p>\n",
    "<p>\n",
    "    61% of the properties contais fireplaces\n",
    "</p>\n",
    "<p>\n",
    "    Some of the columns I commented on may or may not interfere with the sale price of the property, in addition to other factors such as area of the residence, space for cars, etc.\n",
    "</p>"
   ],
   "metadata": {
    "collapsed": false,
    "pycharm": {
     "name": "#%% md\n"
    }
   }
  },
  {
   "cell_type": "code",
   "execution_count": 483,
   "outputs": [
    {
     "data": {
      "text/plain": "       MSZoning Street Alley LotShape LandContour Utilities LotConfig  \\\ncount      1460   1460    91     1460        1460      1460      1460   \nunique        5      2     2        4           4         2         5   \ntop          RL   Pave  Grvl      Reg         Lvl    AllPub    Inside   \nfreq       1151   1454    50      925        1311      1459      1052   \n\n       LandSlope Neighborhood Condition1  ... GarageType GarageFinish  \\\ncount       1460         1460       1460  ...       1379         1379   \nunique         3           25          9  ...          6            3   \ntop          Gtl        NAmes       Norm  ...     Attchd          Unf   \nfreq        1382          225       1260  ...        870          605   \n\n       GarageQual GarageCond PavedDrive PoolQC  Fence MiscFeature SaleType  \\\ncount        1379       1379       1460      7    281          54     1460   \nunique          5          5          3      3      4           4        9   \ntop            TA         TA          Y     Gd  MnPrv        Shed       WD   \nfreq         1311       1326       1340      3    157          49     1267   \n\n       SaleCondition  \ncount           1460  \nunique             6  \ntop           Normal  \nfreq            1198  \n\n[4 rows x 43 columns]",
      "text/html": "<div>\n<style scoped>\n    .dataframe tbody tr th:only-of-type {\n        vertical-align: middle;\n    }\n\n    .dataframe tbody tr th {\n        vertical-align: top;\n    }\n\n    .dataframe thead th {\n        text-align: right;\n    }\n</style>\n<table border=\"1\" class=\"dataframe\">\n  <thead>\n    <tr style=\"text-align: right;\">\n      <th></th>\n      <th>MSZoning</th>\n      <th>Street</th>\n      <th>Alley</th>\n      <th>LotShape</th>\n      <th>LandContour</th>\n      <th>Utilities</th>\n      <th>LotConfig</th>\n      <th>LandSlope</th>\n      <th>Neighborhood</th>\n      <th>Condition1</th>\n      <th>...</th>\n      <th>GarageType</th>\n      <th>GarageFinish</th>\n      <th>GarageQual</th>\n      <th>GarageCond</th>\n      <th>PavedDrive</th>\n      <th>PoolQC</th>\n      <th>Fence</th>\n      <th>MiscFeature</th>\n      <th>SaleType</th>\n      <th>SaleCondition</th>\n    </tr>\n  </thead>\n  <tbody>\n    <tr>\n      <th>count</th>\n      <td>1460</td>\n      <td>1460</td>\n      <td>91</td>\n      <td>1460</td>\n      <td>1460</td>\n      <td>1460</td>\n      <td>1460</td>\n      <td>1460</td>\n      <td>1460</td>\n      <td>1460</td>\n      <td>...</td>\n      <td>1379</td>\n      <td>1379</td>\n      <td>1379</td>\n      <td>1379</td>\n      <td>1460</td>\n      <td>7</td>\n      <td>281</td>\n      <td>54</td>\n      <td>1460</td>\n      <td>1460</td>\n    </tr>\n    <tr>\n      <th>unique</th>\n      <td>5</td>\n      <td>2</td>\n      <td>2</td>\n      <td>4</td>\n      <td>4</td>\n      <td>2</td>\n      <td>5</td>\n      <td>3</td>\n      <td>25</td>\n      <td>9</td>\n      <td>...</td>\n      <td>6</td>\n      <td>3</td>\n      <td>5</td>\n      <td>5</td>\n      <td>3</td>\n      <td>3</td>\n      <td>4</td>\n      <td>4</td>\n      <td>9</td>\n      <td>6</td>\n    </tr>\n    <tr>\n      <th>top</th>\n      <td>RL</td>\n      <td>Pave</td>\n      <td>Grvl</td>\n      <td>Reg</td>\n      <td>Lvl</td>\n      <td>AllPub</td>\n      <td>Inside</td>\n      <td>Gtl</td>\n      <td>NAmes</td>\n      <td>Norm</td>\n      <td>...</td>\n      <td>Attchd</td>\n      <td>Unf</td>\n      <td>TA</td>\n      <td>TA</td>\n      <td>Y</td>\n      <td>Gd</td>\n      <td>MnPrv</td>\n      <td>Shed</td>\n      <td>WD</td>\n      <td>Normal</td>\n    </tr>\n    <tr>\n      <th>freq</th>\n      <td>1151</td>\n      <td>1454</td>\n      <td>50</td>\n      <td>925</td>\n      <td>1311</td>\n      <td>1459</td>\n      <td>1052</td>\n      <td>1382</td>\n      <td>225</td>\n      <td>1260</td>\n      <td>...</td>\n      <td>870</td>\n      <td>605</td>\n      <td>1311</td>\n      <td>1326</td>\n      <td>1340</td>\n      <td>3</td>\n      <td>157</td>\n      <td>49</td>\n      <td>1267</td>\n      <td>1198</td>\n    </tr>\n  </tbody>\n</table>\n<p>4 rows × 43 columns</p>\n</div>"
     },
     "execution_count": 483,
     "metadata": {},
     "output_type": "execute_result"
    }
   ],
   "source": [
    "train_df.describe(include=\"O\")"
   ],
   "metadata": {
    "collapsed": false,
    "pycharm": {
     "name": "#%%\n"
    }
   }
  },
  {
   "cell_type": "code",
   "execution_count": 484,
   "outputs": [
    {
     "data": {
      "text/plain": "   Fireplaces      SalePrice\n3           3  252000.000000\n2           2  240588.539130\n1           1  211843.909231\n0           0  141331.482609",
      "text/html": "<div>\n<style scoped>\n    .dataframe tbody tr th:only-of-type {\n        vertical-align: middle;\n    }\n\n    .dataframe tbody tr th {\n        vertical-align: top;\n    }\n\n    .dataframe thead th {\n        text-align: right;\n    }\n</style>\n<table border=\"1\" class=\"dataframe\">\n  <thead>\n    <tr style=\"text-align: right;\">\n      <th></th>\n      <th>Fireplaces</th>\n      <th>SalePrice</th>\n    </tr>\n  </thead>\n  <tbody>\n    <tr>\n      <th>3</th>\n      <td>3</td>\n      <td>252000.000000</td>\n    </tr>\n    <tr>\n      <th>2</th>\n      <td>2</td>\n      <td>240588.539130</td>\n    </tr>\n    <tr>\n      <th>1</th>\n      <td>1</td>\n      <td>211843.909231</td>\n    </tr>\n    <tr>\n      <th>0</th>\n      <td>0</td>\n      <td>141331.482609</td>\n    </tr>\n  </tbody>\n</table>\n</div>"
     },
     "execution_count": 484,
     "metadata": {},
     "output_type": "execute_result"
    }
   ],
   "source": [
    "train_df[['SalePrice', 'Fireplaces']].groupby('Fireplaces', as_index=False).mean().sort_values(by='SalePrice', ascending=False)"
   ],
   "metadata": {
    "collapsed": false,
    "pycharm": {
     "name": "#%%\n"
    }
   }
  },
  {
   "cell_type": "code",
   "execution_count": 485,
   "outputs": [
    {
     "data": {
      "text/plain": "   BsmtFullBath      SalePrice\n2             2  213063.066667\n1             1  202522.918367\n3             3  179000.000000\n0             0  165521.640187",
      "text/html": "<div>\n<style scoped>\n    .dataframe tbody tr th:only-of-type {\n        vertical-align: middle;\n    }\n\n    .dataframe tbody tr th {\n        vertical-align: top;\n    }\n\n    .dataframe thead th {\n        text-align: right;\n    }\n</style>\n<table border=\"1\" class=\"dataframe\">\n  <thead>\n    <tr style=\"text-align: right;\">\n      <th></th>\n      <th>BsmtFullBath</th>\n      <th>SalePrice</th>\n    </tr>\n  </thead>\n  <tbody>\n    <tr>\n      <th>2</th>\n      <td>2</td>\n      <td>213063.066667</td>\n    </tr>\n    <tr>\n      <th>1</th>\n      <td>1</td>\n      <td>202522.918367</td>\n    </tr>\n    <tr>\n      <th>3</th>\n      <td>3</td>\n      <td>179000.000000</td>\n    </tr>\n    <tr>\n      <th>0</th>\n      <td>0</td>\n      <td>165521.640187</td>\n    </tr>\n  </tbody>\n</table>\n</div>"
     },
     "execution_count": 485,
     "metadata": {},
     "output_type": "execute_result"
    }
   ],
   "source": [
    "train_df[['SalePrice','BsmtFullBath']].groupby('BsmtFullBath', as_index=False).mean().sort_values(by='SalePrice', ascending=False)"
   ],
   "metadata": {
    "collapsed": false,
    "pycharm": {
     "name": "#%%\n"
    }
   }
  },
  {
   "cell_type": "code",
   "execution_count": 486,
   "outputs": [
    {
     "data": {
      "text/plain": "  Utilities     SalePrice\n0    AllPub  180950.95682\n1    NoSeWa  137500.00000",
      "text/html": "<div>\n<style scoped>\n    .dataframe tbody tr th:only-of-type {\n        vertical-align: middle;\n    }\n\n    .dataframe tbody tr th {\n        vertical-align: top;\n    }\n\n    .dataframe thead th {\n        text-align: right;\n    }\n</style>\n<table border=\"1\" class=\"dataframe\">\n  <thead>\n    <tr style=\"text-align: right;\">\n      <th></th>\n      <th>Utilities</th>\n      <th>SalePrice</th>\n    </tr>\n  </thead>\n  <tbody>\n    <tr>\n      <th>0</th>\n      <td>AllPub</td>\n      <td>180950.95682</td>\n    </tr>\n    <tr>\n      <th>1</th>\n      <td>NoSeWa</td>\n      <td>137500.00000</td>\n    </tr>\n  </tbody>\n</table>\n</div>"
     },
     "execution_count": 486,
     "metadata": {},
     "output_type": "execute_result"
    }
   ],
   "source": [
    "train_df[['SalePrice','Utilities']].groupby('Utilities', as_index=False).mean().sort_values(by='SalePrice', ascending=False)"
   ],
   "metadata": {
    "collapsed": false,
    "pycharm": {
     "name": "#%%\n"
    }
   }
  },
  {
   "cell_type": "markdown",
   "source": [
    "<p>\n",
    "    It seems that the more fireplaces I have in the property, the more expensive it gets\n",
    "</p>\n",
    "<p>\n",
    "    Now interesting that the amount of bathrooms in the basement does not interfere with the price, perhaps we will not consider it in the model\n",
    "</p>\n",
    "<p>\n",
    "    The utilities interfere in the price\n",
    "</p>"
   ],
   "metadata": {
    "collapsed": false,
    "pycharm": {
     "name": "#%% md\n"
    }
   }
  },
  {
   "cell_type": "markdown",
   "source": [
    "  The target variable has an asymmetric distribution. When performing regression, it sometimes makes sense to perform a transformation of this variable, i.e. to improve the linearity of the data."
   ],
   "metadata": {
    "collapsed": false,
    "pycharm": {
     "name": "#%% md\n"
    }
   }
  },
  {
   "cell_type": "code",
   "execution_count": 487,
   "outputs": [
    {
     "data": {
      "text/plain": "   SalePrice  MSSubClass MSZoning  LotFrontage  LotArea Street Alley LotShape  \\\n0     208500          60       RL         65.0     8450   Pave   NaN      Reg   \n1     181500          20       RL         80.0     9600   Pave   NaN      Reg   \n2     223500          60       RL         68.0    11250   Pave   NaN      IR1   \n3     140000          70       RL         60.0     9550   Pave   NaN      IR1   \n4     250000          60       RL         84.0    14260   Pave   NaN      IR1   \n\n  LandContour Utilities  ... PoolQC Fence MiscFeature MiscVal MoSold YrSold  \\\n0         Lvl    AllPub  ...    NaN   NaN         NaN       0      2   2008   \n1         Lvl    AllPub  ...    NaN   NaN         NaN       0      5   2007   \n2         Lvl    AllPub  ...    NaN   NaN         NaN       0      9   2008   \n3         Lvl    AllPub  ...    NaN   NaN         NaN       0      2   2006   \n4         Lvl    AllPub  ...    NaN   NaN         NaN       0     12   2008   \n\n  SaleType  SaleCondition  Id   Log_Sale  \n0       WD         Normal   1  17.669688  \n1       WD         Normal   2  17.469610  \n2       WD         Normal   3  17.769915  \n3       WD        Abnorml   4  17.095067  \n4       WD         Normal   5  17.931569  \n\n[5 rows x 82 columns]",
      "text/html": "<div>\n<style scoped>\n    .dataframe tbody tr th:only-of-type {\n        vertical-align: middle;\n    }\n\n    .dataframe tbody tr th {\n        vertical-align: top;\n    }\n\n    .dataframe thead th {\n        text-align: right;\n    }\n</style>\n<table border=\"1\" class=\"dataframe\">\n  <thead>\n    <tr style=\"text-align: right;\">\n      <th></th>\n      <th>SalePrice</th>\n      <th>MSSubClass</th>\n      <th>MSZoning</th>\n      <th>LotFrontage</th>\n      <th>LotArea</th>\n      <th>Street</th>\n      <th>Alley</th>\n      <th>LotShape</th>\n      <th>LandContour</th>\n      <th>Utilities</th>\n      <th>...</th>\n      <th>PoolQC</th>\n      <th>Fence</th>\n      <th>MiscFeature</th>\n      <th>MiscVal</th>\n      <th>MoSold</th>\n      <th>YrSold</th>\n      <th>SaleType</th>\n      <th>SaleCondition</th>\n      <th>Id</th>\n      <th>Log_Sale</th>\n    </tr>\n  </thead>\n  <tbody>\n    <tr>\n      <th>0</th>\n      <td>208500</td>\n      <td>60</td>\n      <td>RL</td>\n      <td>65.0</td>\n      <td>8450</td>\n      <td>Pave</td>\n      <td>NaN</td>\n      <td>Reg</td>\n      <td>Lvl</td>\n      <td>AllPub</td>\n      <td>...</td>\n      <td>NaN</td>\n      <td>NaN</td>\n      <td>NaN</td>\n      <td>0</td>\n      <td>2</td>\n      <td>2008</td>\n      <td>WD</td>\n      <td>Normal</td>\n      <td>1</td>\n      <td>17.669688</td>\n    </tr>\n    <tr>\n      <th>1</th>\n      <td>181500</td>\n      <td>20</td>\n      <td>RL</td>\n      <td>80.0</td>\n      <td>9600</td>\n      <td>Pave</td>\n      <td>NaN</td>\n      <td>Reg</td>\n      <td>Lvl</td>\n      <td>AllPub</td>\n      <td>...</td>\n      <td>NaN</td>\n      <td>NaN</td>\n      <td>NaN</td>\n      <td>0</td>\n      <td>5</td>\n      <td>2007</td>\n      <td>WD</td>\n      <td>Normal</td>\n      <td>2</td>\n      <td>17.469610</td>\n    </tr>\n    <tr>\n      <th>2</th>\n      <td>223500</td>\n      <td>60</td>\n      <td>RL</td>\n      <td>68.0</td>\n      <td>11250</td>\n      <td>Pave</td>\n      <td>NaN</td>\n      <td>IR1</td>\n      <td>Lvl</td>\n      <td>AllPub</td>\n      <td>...</td>\n      <td>NaN</td>\n      <td>NaN</td>\n      <td>NaN</td>\n      <td>0</td>\n      <td>9</td>\n      <td>2008</td>\n      <td>WD</td>\n      <td>Normal</td>\n      <td>3</td>\n      <td>17.769915</td>\n    </tr>\n    <tr>\n      <th>3</th>\n      <td>140000</td>\n      <td>70</td>\n      <td>RL</td>\n      <td>60.0</td>\n      <td>9550</td>\n      <td>Pave</td>\n      <td>NaN</td>\n      <td>IR1</td>\n      <td>Lvl</td>\n      <td>AllPub</td>\n      <td>...</td>\n      <td>NaN</td>\n      <td>NaN</td>\n      <td>NaN</td>\n      <td>0</td>\n      <td>2</td>\n      <td>2006</td>\n      <td>WD</td>\n      <td>Abnorml</td>\n      <td>4</td>\n      <td>17.095067</td>\n    </tr>\n    <tr>\n      <th>4</th>\n      <td>250000</td>\n      <td>60</td>\n      <td>RL</td>\n      <td>84.0</td>\n      <td>14260</td>\n      <td>Pave</td>\n      <td>NaN</td>\n      <td>IR1</td>\n      <td>Lvl</td>\n      <td>AllPub</td>\n      <td>...</td>\n      <td>NaN</td>\n      <td>NaN</td>\n      <td>NaN</td>\n      <td>0</td>\n      <td>12</td>\n      <td>2008</td>\n      <td>WD</td>\n      <td>Normal</td>\n      <td>5</td>\n      <td>17.931569</td>\n    </tr>\n  </tbody>\n</table>\n<p>5 rows × 82 columns</p>\n</div>"
     },
     "execution_count": 487,
     "metadata": {},
     "output_type": "execute_result"
    }
   ],
   "source": [
    "train_df['Log_Sale'] = np.log2(train_df['SalePrice'])\n",
    "train_df.head()"
   ],
   "metadata": {
    "collapsed": false,
    "pycharm": {
     "name": "#%%\n"
    }
   }
  },
  {
   "cell_type": "code",
   "execution_count": 488,
   "outputs": [
    {
     "data": {
      "text/plain": "   Fireplaces   Log_Sale\n3           3  17.864498\n2           2  17.746678\n1           1  17.601840\n0           0  17.036652",
      "text/html": "<div>\n<style scoped>\n    .dataframe tbody tr th:only-of-type {\n        vertical-align: middle;\n    }\n\n    .dataframe tbody tr th {\n        vertical-align: top;\n    }\n\n    .dataframe thead th {\n        text-align: right;\n    }\n</style>\n<table border=\"1\" class=\"dataframe\">\n  <thead>\n    <tr style=\"text-align: right;\">\n      <th></th>\n      <th>Fireplaces</th>\n      <th>Log_Sale</th>\n    </tr>\n  </thead>\n  <tbody>\n    <tr>\n      <th>3</th>\n      <td>3</td>\n      <td>17.864498</td>\n    </tr>\n    <tr>\n      <th>2</th>\n      <td>2</td>\n      <td>17.746678</td>\n    </tr>\n    <tr>\n      <th>1</th>\n      <td>1</td>\n      <td>17.601840</td>\n    </tr>\n    <tr>\n      <th>0</th>\n      <td>0</td>\n      <td>17.036652</td>\n    </tr>\n  </tbody>\n</table>\n</div>"
     },
     "execution_count": 488,
     "metadata": {},
     "output_type": "execute_result"
    }
   ],
   "source": [
    "train_df[['Log_Sale', 'Fireplaces']].groupby('Fireplaces', as_index=False).mean().sort_values(by='Log_Sale', ascending=False)"
   ],
   "metadata": {
    "collapsed": false,
    "pycharm": {
     "name": "#%%\n"
    }
   }
  },
  {
   "cell_type": "code",
   "execution_count": 489,
   "outputs": [
    {
     "data": {
      "text/plain": "   BsmtFullBath   Log_Sale\n2             2  17.598149\n1             1  17.508984\n3             3  17.449600\n0             0  17.231276",
      "text/html": "<div>\n<style scoped>\n    .dataframe tbody tr th:only-of-type {\n        vertical-align: middle;\n    }\n\n    .dataframe tbody tr th {\n        vertical-align: top;\n    }\n\n    .dataframe thead th {\n        text-align: right;\n    }\n</style>\n<table border=\"1\" class=\"dataframe\">\n  <thead>\n    <tr style=\"text-align: right;\">\n      <th></th>\n      <th>BsmtFullBath</th>\n      <th>Log_Sale</th>\n    </tr>\n  </thead>\n  <tbody>\n    <tr>\n      <th>2</th>\n      <td>2</td>\n      <td>17.598149</td>\n    </tr>\n    <tr>\n      <th>1</th>\n      <td>1</td>\n      <td>17.508984</td>\n    </tr>\n    <tr>\n      <th>3</th>\n      <td>3</td>\n      <td>17.449600</td>\n    </tr>\n    <tr>\n      <th>0</th>\n      <td>0</td>\n      <td>17.231276</td>\n    </tr>\n  </tbody>\n</table>\n</div>"
     },
     "execution_count": 489,
     "metadata": {},
     "output_type": "execute_result"
    }
   ],
   "source": [
    "train_df[['Log_Sale','BsmtFullBath']].groupby('BsmtFullBath', as_index=False).mean().sort_values(by='Log_Sale', ascending=False)"
   ],
   "metadata": {
    "collapsed": false,
    "pycharm": {
     "name": "#%%\n"
    }
   }
  },
  {
   "cell_type": "code",
   "execution_count": 490,
   "outputs": [
    {
     "data": {
      "text/plain": "  Utilities   Log_Sale\n0    AllPub  17.347229\n1    NoSeWa  17.069072",
      "text/html": "<div>\n<style scoped>\n    .dataframe tbody tr th:only-of-type {\n        vertical-align: middle;\n    }\n\n    .dataframe tbody tr th {\n        vertical-align: top;\n    }\n\n    .dataframe thead th {\n        text-align: right;\n    }\n</style>\n<table border=\"1\" class=\"dataframe\">\n  <thead>\n    <tr style=\"text-align: right;\">\n      <th></th>\n      <th>Utilities</th>\n      <th>Log_Sale</th>\n    </tr>\n  </thead>\n  <tbody>\n    <tr>\n      <th>0</th>\n      <td>AllPub</td>\n      <td>17.347229</td>\n    </tr>\n    <tr>\n      <th>1</th>\n      <td>NoSeWa</td>\n      <td>17.069072</td>\n    </tr>\n  </tbody>\n</table>\n</div>"
     },
     "execution_count": 490,
     "metadata": {},
     "output_type": "execute_result"
    }
   ],
   "source": [
    "train_df[['Log_Sale','Utilities']].groupby('Utilities', as_index=False).mean().sort_values(by='Log_Sale', ascending=False)"
   ],
   "metadata": {
    "collapsed": false,
    "pycharm": {
     "name": "#%%\n"
    }
   }
  },
  {
   "cell_type": "markdown",
   "source": [
    "Even though we transformed the SalePrice column to Log, our results are still the same, so we will continue with the Log parametron until the end"
   ],
   "metadata": {
    "collapsed": false,
    "pycharm": {
     "name": "#%% md\n"
    }
   }
  },
  {
   "cell_type": "code",
   "execution_count": 491,
   "outputs": [
    {
     "data": {
      "text/plain": "(array([148., 723., 373., 135.,  51.,  19.,   4.,   3.,   2.,   2.]),\n array([ 34900., 106910., 178920., 250930., 322940., 394950., 466960.,\n        538970., 610980., 682990., 755000.]),\n <BarContainer object of 10 artists>)"
     },
     "execution_count": 491,
     "metadata": {},
     "output_type": "execute_result"
    },
    {
     "data": {
      "text/plain": "<Figure size 432x288 with 1 Axes>",
      "image/png": "[encoded data removed]"
     },
     "metadata": {
      "needs_background": "light"
     },
     "output_type": "display_data"
    }
   ],
   "source": [
    "plt.hist(train_df['SalePrice'])"
   ],
   "metadata": {
    "collapsed": false,
    "pycharm": {
     "name": "#%%\n"
    }
   }
  },
  {
   "cell_type": "code",
   "execution_count": 492,
   "outputs": [
    {
     "data": {
      "text/plain": "(array([  5.,  12.,  54., 184., 470., 400., 220.,  90.,  19.,   6.]),\n array([15.09093942, 15.53445719, 15.97797496, 16.42149273, 16.8650105 ,\n        17.30852827, 17.75204604, 18.19556381, 18.63908158, 19.08259935,\n        19.52611712]),\n <BarContainer object of 10 artists>)"
     },
     "execution_count": 492,
     "metadata": {},
     "output_type": "execute_result"
    },
    {
     "data": {
      "text/plain": "<Figure size 432x288 with 1 Axes>",
      "image/png": "[encoded data removed]"
     },
     "metadata": {
      "needs_background": "light"
     },
     "output_type": "display_data"
    }
   ],
   "source": [
    "plt.hist(train_df['Log_Sale'])"
   ],
   "metadata": {
    "collapsed": false,
    "pycharm": {
     "name": "#%%\n"
    }
   }
  },
  {
   "cell_type": "code",
   "execution_count": 493,
   "outputs": [
    {
     "data": {
      "text/plain": "SalePrice          0\nKitchenAbvGr       0\nBedroomAbvGr       0\nHalfBath           0\nFullBath           0\n                ... \nFireplaceQu      690\nFence           1179\nAlley           1369\nMiscFeature     1406\nPoolQC          1453\nLength: 82, dtype: int64"
     },
     "execution_count": 493,
     "metadata": {},
     "output_type": "execute_result"
    }
   ],
   "source": [
    "train_df.isna().sum().sort_values(ascending = True)"
   ],
   "metadata": {
    "collapsed": false,
    "pycharm": {
     "name": "#%%\n"
    }
   }
  },
  {
   "cell_type": "markdown",
   "source": [
    "even without getting the correlation I decided to set all the NAN values to filter table as integer type, because this way it would be easier to analyze with the graphs (categorical)"
   ],
   "metadata": {
    "collapsed": false,
    "pycharm": {
     "name": "#%% md\n"
    }
   }
  },
  {
   "cell_type": "code",
   "execution_count": 494,
   "outputs": [
    {
     "data": {
      "text/plain": "count      7\nunique     3\ntop       Gd\nfreq       3\nName: PoolQC, dtype: object"
     },
     "execution_count": 494,
     "metadata": {},
     "output_type": "execute_result"
    }
   ],
   "source": [
    "train_df['PoolQC'].describe()"
   ],
   "metadata": {
    "collapsed": false,
    "pycharm": {
     "name": "#%%\n"
    }
   }
  },
  {
   "cell_type": "code",
   "execution_count": 495,
   "outputs": [],
   "source": [
    "train_df['PoolQC'].fillna('Gd', inplace=True)"
   ],
   "metadata": {
    "collapsed": false,
    "pycharm": {
     "name": "#%%\n"
    }
   }
  },
  {
   "cell_type": "code",
   "execution_count": 496,
   "outputs": [
    {
     "data": {
      "text/plain": "  PoolQC   Log_Sale\n2     Gd  17.344732\n1     Fa  17.698599\n0     Ex  18.674591",
      "text/html": "<div>\n<style scoped>\n    .dataframe tbody tr th:only-of-type {\n        vertical-align: middle;\n    }\n\n    .dataframe tbody tr th {\n        vertical-align: top;\n    }\n\n    .dataframe thead th {\n        text-align: right;\n    }\n</style>\n<table border=\"1\" class=\"dataframe\">\n  <thead>\n    <tr style=\"text-align: right;\">\n      <th></th>\n      <th>PoolQC</th>\n      <th>Log_Sale</th>\n    </tr>\n  </thead>\n  <tbody>\n    <tr>\n      <th>2</th>\n      <td>Gd</td>\n      <td>17.344732</td>\n    </tr>\n    <tr>\n      <th>1</th>\n      <td>Fa</td>\n      <td>17.698599</td>\n    </tr>\n    <tr>\n      <th>0</th>\n      <td>Ex</td>\n      <td>18.674591</td>\n    </tr>\n  </tbody>\n</table>\n</div>"
     },
     "execution_count": 496,
     "metadata": {},
     "output_type": "execute_result"
    }
   ],
   "source": [
    "train_df[['Log_Sale','PoolQC']].groupby('PoolQC', as_index=False).mean().sort_values(by='PoolQC', ascending=False)"
   ],
   "metadata": {
    "collapsed": false,
    "pycharm": {
     "name": "#%%\n"
    }
   }
  },
  {
   "cell_type": "code",
   "execution_count": 497,
   "outputs": [
    {
     "data": {
      "text/plain": "count       54\nunique       4\ntop       Shed\nfreq        49\nName: MiscFeature, dtype: object"
     },
     "execution_count": 497,
     "metadata": {},
     "output_type": "execute_result"
    }
   ],
   "source": [
    "train_df['MiscFeature'].describe()"
   ],
   "metadata": {
    "collapsed": false,
    "pycharm": {
     "name": "#%%\n"
    }
   }
  },
  {
   "cell_type": "code",
   "execution_count": 498,
   "outputs": [],
   "source": [
    "train_df['MiscFeature'].fillna('Shed', inplace=True)"
   ],
   "metadata": {
    "collapsed": false,
    "pycharm": {
     "name": "#%%\n"
    }
   }
  },
  {
   "cell_type": "code",
   "execution_count": 499,
   "outputs": [
    {
     "data": {
      "text/plain": "  MiscFeature   Log_Sale\n3        TenC  17.931569\n2        Shed  17.347926\n1        Othr  16.384105\n0        Gar2  17.372299",
      "text/html": "<div>\n<style scoped>\n    .dataframe tbody tr th:only-of-type {\n        vertical-align: middle;\n    }\n\n    .dataframe tbody tr th {\n        vertical-align: top;\n    }\n\n    .dataframe thead th {\n        text-align: right;\n    }\n</style>\n<table border=\"1\" class=\"dataframe\">\n  <thead>\n    <tr style=\"text-align: right;\">\n      <th></th>\n      <th>MiscFeature</th>\n      <th>Log_Sale</th>\n    </tr>\n  </thead>\n  <tbody>\n    <tr>\n      <th>3</th>\n      <td>TenC</td>\n      <td>17.931569</td>\n    </tr>\n    <tr>\n      <th>2</th>\n      <td>Shed</td>\n      <td>17.347926</td>\n    </tr>\n    <tr>\n      <th>1</th>\n      <td>Othr</td>\n      <td>16.384105</td>\n    </tr>\n    <tr>\n      <th>0</th>\n      <td>Gar2</td>\n      <td>17.372299</td>\n    </tr>\n  </tbody>\n</table>\n</div>"
     },
     "execution_count": 499,
     "metadata": {},
     "output_type": "execute_result"
    }
   ],
   "source": [
    "train_df[['Log_Sale','MiscFeature']].groupby('MiscFeature', as_index=False).mean().sort_values(by='MiscFeature', ascending=False)"
   ],
   "metadata": {
    "collapsed": false,
    "pycharm": {
     "name": "#%%\n"
    }
   }
  },
  {
   "cell_type": "code",
   "execution_count": 500,
   "outputs": [
    {
     "data": {
      "text/plain": "count       91\nunique       2\ntop       Grvl\nfreq        50\nName: Alley, dtype: object"
     },
     "execution_count": 500,
     "metadata": {},
     "output_type": "execute_result"
    }
   ],
   "source": [
    "train_df['Alley'].describe()"
   ],
   "metadata": {
    "collapsed": false,
    "pycharm": {
     "name": "#%%\n"
    }
   }
  },
  {
   "cell_type": "code",
   "execution_count": 501,
   "outputs": [],
   "source": [
    "train_df['Alley'].fillna('Grvl', inplace=True)"
   ],
   "metadata": {
    "collapsed": false,
    "pycharm": {
     "name": "#%%\n"
    }
   }
  },
  {
   "cell_type": "code",
   "execution_count": 502,
   "outputs": [
    {
     "data": {
      "text/plain": "  Alley   Log_Sale\n1  Pave  17.307741\n0  Grvl  17.348174",
      "text/html": "<div>\n<style scoped>\n    .dataframe tbody tr th:only-of-type {\n        vertical-align: middle;\n    }\n\n    .dataframe tbody tr th {\n        vertical-align: top;\n    }\n\n    .dataframe thead th {\n        text-align: right;\n    }\n</style>\n<table border=\"1\" class=\"dataframe\">\n  <thead>\n    <tr style=\"text-align: right;\">\n      <th></th>\n      <th>Alley</th>\n      <th>Log_Sale</th>\n    </tr>\n  </thead>\n  <tbody>\n    <tr>\n      <th>1</th>\n      <td>Pave</td>\n      <td>17.307741</td>\n    </tr>\n    <tr>\n      <th>0</th>\n      <td>Grvl</td>\n      <td>17.348174</td>\n    </tr>\n  </tbody>\n</table>\n</div>"
     },
     "execution_count": 502,
     "metadata": {},
     "output_type": "execute_result"
    }
   ],
   "source": [
    "train_df[['Log_Sale','Alley']].groupby('Alley', as_index=False).mean().sort_values(by='Alley', ascending=False)"
   ],
   "metadata": {
    "collapsed": false,
    "pycharm": {
     "name": "#%%\n"
    }
   }
  },
  {
   "cell_type": "code",
   "execution_count": 503,
   "outputs": [
    {
     "data": {
      "text/plain": "count       281\nunique        4\ntop       MnPrv\nfreq        157\nName: Fence, dtype: object"
     },
     "execution_count": 503,
     "metadata": {},
     "output_type": "execute_result"
    }
   ],
   "source": [
    "train_df['Fence'].describe()"
   ],
   "metadata": {
    "collapsed": false,
    "pycharm": {
     "name": "#%%\n"
    }
   }
  },
  {
   "cell_type": "code",
   "execution_count": 504,
   "outputs": [],
   "source": [
    "train_df['Fence'].fillna('MnPrv', inplace=True)"
   ],
   "metadata": {
    "collapsed": false,
    "pycharm": {
     "name": "#%%\n"
    }
   }
  },
  {
   "cell_type": "code",
   "execution_count": 505,
   "outputs": [
    {
     "data": {
      "text/plain": "   Fence   Log_Sale\n3   MnWw  17.019185\n2  MnPrv  17.361616\n1   GdWo  17.001055\n0  GdPrv  17.394736",
      "text/html": "<div>\n<style scoped>\n    .dataframe tbody tr th:only-of-type {\n        vertical-align: middle;\n    }\n\n    .dataframe tbody tr th {\n        vertical-align: top;\n    }\n\n    .dataframe thead th {\n        text-align: right;\n    }\n</style>\n<table border=\"1\" class=\"dataframe\">\n  <thead>\n    <tr style=\"text-align: right;\">\n      <th></th>\n      <th>Fence</th>\n      <th>Log_Sale</th>\n    </tr>\n  </thead>\n  <tbody>\n    <tr>\n      <th>3</th>\n      <td>MnWw</td>\n      <td>17.019185</td>\n    </tr>\n    <tr>\n      <th>2</th>\n      <td>MnPrv</td>\n      <td>17.361616</td>\n    </tr>\n    <tr>\n      <th>1</th>\n      <td>GdWo</td>\n      <td>17.001055</td>\n    </tr>\n    <tr>\n      <th>0</th>\n      <td>GdPrv</td>\n      <td>17.394736</td>\n    </tr>\n  </tbody>\n</table>\n</div>"
     },
     "execution_count": 505,
     "metadata": {},
     "output_type": "execute_result"
    }
   ],
   "source": [
    "train_df[['Log_Sale','Fence']].groupby('Fence', as_index=False).mean().sort_values(by='Fence', ascending=False)\n"
   ],
   "metadata": {
    "collapsed": false,
    "pycharm": {
     "name": "#%%\n"
    }
   }
  },
  {
   "cell_type": "code",
   "execution_count": 506,
   "outputs": [
    {
     "data": {
      "text/plain": "count     770\nunique      5\ntop        Gd\nfreq      380\nName: FireplaceQu, dtype: object"
     },
     "execution_count": 506,
     "metadata": {},
     "output_type": "execute_result"
    }
   ],
   "source": [
    "train_df['FireplaceQu'].describe()"
   ],
   "metadata": {
    "collapsed": false,
    "pycharm": {
     "name": "#%%\n"
    }
   }
  },
  {
   "cell_type": "code",
   "execution_count": 507,
   "outputs": [],
   "source": [
    "train_df['FireplaceQu'].fillna('Gd', inplace=True)"
   ],
   "metadata": {
    "collapsed": false,
    "pycharm": {
     "name": "#%%\n"
    }
   }
  },
  {
   "cell_type": "code",
   "execution_count": 508,
   "outputs": [
    {
     "data": {
      "text/plain": "  FireplaceQu   Log_Sale\n4          TA  17.581281\n3          Po  16.935533\n2          Gd  17.265997\n1          Fa  17.324617\n0          Ex  18.278973",
      "text/html": "<div>\n<style scoped>\n    .dataframe tbody tr th:only-of-type {\n        vertical-align: middle;\n    }\n\n    .dataframe tbody tr th {\n        vertical-align: top;\n    }\n\n    .dataframe thead th {\n        text-align: right;\n    }\n</style>\n<table border=\"1\" class=\"dataframe\">\n  <thead>\n    <tr style=\"text-align: right;\">\n      <th></th>\n      <th>FireplaceQu</th>\n      <th>Log_Sale</th>\n    </tr>\n  </thead>\n  <tbody>\n    <tr>\n      <th>4</th>\n      <td>TA</td>\n      <td>17.581281</td>\n    </tr>\n    <tr>\n      <th>3</th>\n      <td>Po</td>\n      <td>16.935533</td>\n    </tr>\n    <tr>\n      <th>2</th>\n      <td>Gd</td>\n      <td>17.265997</td>\n    </tr>\n    <tr>\n      <th>1</th>\n      <td>Fa</td>\n      <td>17.324617</td>\n    </tr>\n    <tr>\n      <th>0</th>\n      <td>Ex</td>\n      <td>18.278973</td>\n    </tr>\n  </tbody>\n</table>\n</div>"
     },
     "execution_count": 508,
     "metadata": {},
     "output_type": "execute_result"
    }
   ],
   "source": [
    "train_df[['Log_Sale','FireplaceQu']].groupby('FireplaceQu', as_index=False).mean().sort_values(by='FireplaceQu', ascending=False)"
   ],
   "metadata": {
    "collapsed": false,
    "pycharm": {
     "name": "#%%\n"
    }
   }
  },
  {
   "cell_type": "code",
   "execution_count": 509,
   "outputs": [
    {
     "data": {
      "text/plain": "count      1459\nunique        5\ntop       SBrkr\nfreq       1334\nName: Electrical, dtype: object"
     },
     "execution_count": 509,
     "metadata": {},
     "output_type": "execute_result"
    }
   ],
   "source": [
    "train_df['Electrical'].describe()"
   ],
   "metadata": {
    "collapsed": false,
    "pycharm": {
     "name": "#%%\n"
    }
   }
  },
  {
   "cell_type": "code",
   "execution_count": 510,
   "outputs": [],
   "source": [
    "train_df['Electrical'].fillna('SBrkr', inplace=True)"
   ],
   "metadata": {
    "collapsed": false,
    "pycharm": {
     "name": "#%%\n"
    }
   }
  },
  {
   "cell_type": "code",
   "execution_count": 511,
   "outputs": [
    {
     "data": {
      "text/plain": "count       1379\nunique         6\ntop       Attchd\nfreq         870\nName: GarageType, dtype: object"
     },
     "execution_count": 511,
     "metadata": {},
     "output_type": "execute_result"
    }
   ],
   "source": [
    "train_df['GarageType'].describe()"
   ],
   "metadata": {
    "collapsed": false,
    "pycharm": {
     "name": "#%%\n"
    }
   }
  },
  {
   "cell_type": "code",
   "execution_count": 512,
   "outputs": [],
   "source": [
    "train_df['GarageType'].fillna('Attchd', inplace=True)"
   ],
   "metadata": {
    "collapsed": false,
    "pycharm": {
     "name": "#%%\n"
    }
   }
  },
  {
   "cell_type": "code",
   "execution_count": 513,
   "outputs": [
    {
     "data": {
      "text/plain": "  GarageType   Log_Sale\n5     Detchd  16.974235\n4    CarPort  16.717942\n3    BuiltIn  17.853234\n2    Basment  17.191788\n1     Attchd  17.462099\n0     2Types  17.166854",
      "text/html": "<div>\n<style scoped>\n    .dataframe tbody tr th:only-of-type {\n        vertical-align: middle;\n    }\n\n    .dataframe tbody tr th {\n        vertical-align: top;\n    }\n\n    .dataframe thead th {\n        text-align: right;\n    }\n</style>\n<table border=\"1\" class=\"dataframe\">\n  <thead>\n    <tr style=\"text-align: right;\">\n      <th></th>\n      <th>GarageType</th>\n      <th>Log_Sale</th>\n    </tr>\n  </thead>\n  <tbody>\n    <tr>\n      <th>5</th>\n      <td>Detchd</td>\n      <td>16.974235</td>\n    </tr>\n    <tr>\n      <th>4</th>\n      <td>CarPort</td>\n      <td>16.717942</td>\n    </tr>\n    <tr>\n      <th>3</th>\n      <td>BuiltIn</td>\n      <td>17.853234</td>\n    </tr>\n    <tr>\n      <th>2</th>\n      <td>Basment</td>\n      <td>17.191788</td>\n    </tr>\n    <tr>\n      <th>1</th>\n      <td>Attchd</td>\n      <td>17.462099</td>\n    </tr>\n    <tr>\n      <th>0</th>\n      <td>2Types</td>\n      <td>17.166854</td>\n    </tr>\n  </tbody>\n</table>\n</div>"
     },
     "execution_count": 513,
     "metadata": {},
     "output_type": "execute_result"
    }
   ],
   "source": [
    "train_df[['Log_Sale', 'GarageType']].groupby('GarageType', as_index=False).mean().sort_values(by='GarageType', ascending=False)"
   ],
   "metadata": {
    "collapsed": false,
    "pycharm": {
     "name": "#%%\n"
    }
   }
  },
  {
   "cell_type": "code",
   "execution_count": 514,
   "outputs": [
    {
     "data": {
      "text/plain": "SalePrice         0\nFunctional        0\nTotRmsAbvGrd      0\nKitchenQual       0\nKitchenAbvGr      0\n               ... \nGarageYrBlt      81\nGarageCond       81\nGarageQual       81\nGarageFinish     81\nLotFrontage     259\nLength: 82, dtype: int64"
     },
     "execution_count": 514,
     "metadata": {},
     "output_type": "execute_result"
    }
   ],
   "source": [
    "train_df.isna().sum().sort_values(ascending = True)"
   ],
   "metadata": {
    "collapsed": false,
    "pycharm": {
     "name": "#%%\n"
    }
   }
  },
  {
   "cell_type": "code",
   "execution_count": 515,
   "outputs": [
    {
     "data": {
      "text/plain": "               SalePrice  MSSubClass  LotFrontage   LotArea  OverallQual  \\\nSalePrice       1.000000   -0.084284     0.351799  0.263843     0.790982   \nMSSubClass     -0.084284    1.000000    -0.386347 -0.139781     0.032628   \nLotFrontage     0.351799   -0.386347     1.000000  0.426095     0.251646   \nLotArea         0.263843   -0.139781     0.426095  1.000000     0.105806   \nOverallQual     0.790982    0.032628     0.251646  0.105806     1.000000   \nOverallCond    -0.077856   -0.059316    -0.059213 -0.005636    -0.091932   \nYearBuilt       0.522897    0.027850     0.123349  0.014228     0.572323   \nYearRemodAdd    0.507101    0.040581     0.088866  0.013788     0.550684   \nMasVnrArea      0.477493    0.022936     0.193458  0.104160     0.411876   \nBsmtFinSF1      0.386420   -0.069836     0.233633  0.214103     0.239666   \nBsmtFinSF2     -0.011378   -0.065649     0.049900  0.111170    -0.059119   \nBsmtUnfSF       0.214479   -0.140759     0.132644 -0.002618     0.308159   \nTotalBsmtSF     0.613581   -0.238518     0.392075  0.260833     0.537808   \n1stFlrSF        0.605852   -0.251758     0.457181  0.299475     0.476224   \n2ndFlrSF        0.319334    0.307886     0.080177  0.050986     0.295493   \nLowQualFinSF   -0.025606    0.046474     0.038469  0.004779    -0.030429   \nGrLivArea       0.708624    0.074853     0.402797  0.263116     0.593007   \nBsmtFullBath    0.227122    0.003491     0.100949  0.158155     0.111098   \nBsmtHalfBath   -0.016844   -0.002333    -0.007234  0.048046    -0.040150   \nFullBath        0.560664    0.131608     0.198769  0.126031     0.550600   \nHalfBath        0.284108    0.177354     0.053532  0.014259     0.273458   \nBedroomAbvGr    0.168213   -0.023438     0.263170  0.119690     0.101676   \nKitchenAbvGr   -0.135907    0.281721    -0.006069 -0.017784    -0.183882   \nTotRmsAbvGrd    0.533723    0.040380     0.352096  0.190015     0.427452   \nFireplaces      0.466929   -0.045569     0.266639  0.271364     0.396765   \nGarageYrBlt     0.486362    0.085072     0.070250 -0.024947     0.547766   \nGarageCars      0.640409   -0.040110     0.285691  0.154871     0.600671   \nGarageArea      0.623431   -0.098672     0.344997  0.180403     0.562022   \nWoodDeckSF      0.324413   -0.012579     0.088521  0.171698     0.238923   \nOpenPorchSF     0.315856   -0.006100     0.151972  0.084774     0.308819   \nEnclosedPorch  -0.128578   -0.012037     0.010700 -0.018340    -0.113937   \n3SsnPorch       0.044584   -0.043825     0.070029  0.020423     0.030371   \nScreenPorch     0.111447   -0.026030     0.041383  0.043160     0.064886   \nPoolArea        0.092404    0.008283     0.206167  0.077672     0.065166   \nMiscVal        -0.021190   -0.007683     0.003368  0.038068    -0.031406   \nMoSold          0.046432   -0.013585     0.011200  0.001205     0.070815   \nYrSold         -0.028923   -0.021407     0.007450 -0.014261    -0.027347   \nId             -0.021917    0.011156    -0.010601 -0.033226    -0.028365   \nLog_Sale        0.948374   -0.073959     0.355878  0.257320     0.817184   \n\n               OverallCond  YearBuilt  YearRemodAdd  MasVnrArea  BsmtFinSF1  \\\nSalePrice        -0.077856   0.522897      0.507101    0.477493    0.386420   \nMSSubClass       -0.059316   0.027850      0.040581    0.022936   -0.069836   \nLotFrontage      -0.059213   0.123349      0.088866    0.193458    0.233633   \nLotArea          -0.005636   0.014228      0.013788    0.104160    0.214103   \nOverallQual      -0.091932   0.572323      0.550684    0.411876    0.239666   \nOverallCond       1.000000  -0.375983      0.073741   -0.128101   -0.046231   \nYearBuilt        -0.375983   1.000000      0.592855    0.315707    0.249503   \nYearRemodAdd      0.073741   0.592855      1.000000    0.179618    0.128451   \nMasVnrArea       -0.128101   0.315707      0.179618    1.000000    0.264736   \nBsmtFinSF1       -0.046231   0.249503      0.128451    0.264736    1.000000   \nBsmtFinSF2        0.040229  -0.049107     -0.067759   -0.072319   -0.050117   \nBsmtUnfSF        -0.136841   0.149040      0.181133    0.114442   -0.495251   \nTotalBsmtSF      -0.171098   0.391452      0.291066    0.363936    0.522396   \n1stFlrSF         -0.144203   0.281986      0.240379    0.344501    0.445863   \n2ndFlrSF          0.028942   0.010308      0.140024    0.174561   -0.137079   \nLowQualFinSF      0.025494  -0.183784     -0.062419   -0.069071   -0.064503   \nGrLivArea        -0.079686   0.199010      0.287389    0.390857    0.208171   \nBsmtFullBath     -0.054942   0.187599      0.119470    0.085310    0.649212   \nBsmtHalfBath      0.117821  -0.038162     -0.012337    0.026673    0.067418   \nFullBath         -0.194149   0.468271      0.439046    0.276833    0.058543   \nHalfBath         -0.060769   0.242656      0.183331    0.201444    0.004262   \nBedroomAbvGr      0.012980  -0.070651     -0.040581    0.102821   -0.107355   \nKitchenAbvGr     -0.087001  -0.174800     -0.149598   -0.037610   -0.081007   \nTotRmsAbvGrd     -0.057583   0.095589      0.191740    0.280682    0.044316   \nFireplaces       -0.023820   0.147716      0.112581    0.249070    0.260011   \nGarageYrBlt      -0.324297   0.825667      0.642277    0.252691    0.153484   \nGarageCars       -0.185758   0.537850      0.420622    0.364204    0.224054   \nGarageArea       -0.151521   0.478954      0.371600    0.373066    0.296970   \nWoodDeckSF       -0.003334   0.224880      0.205726    0.159718    0.204306   \nOpenPorchSF      -0.032589   0.188686      0.226298    0.125703    0.111761   \nEnclosedPorch     0.070356  -0.387268     -0.193919   -0.110204   -0.102303   \n3SsnPorch         0.025504   0.031355      0.045286    0.018796    0.026451   \nScreenPorch       0.054811  -0.050364     -0.038740    0.061466    0.062021   \nPoolArea         -0.001985   0.004950      0.005829    0.011723    0.140491   \nMiscVal           0.068777  -0.034383     -0.010286   -0.029815    0.003571   \nMoSold           -0.003511   0.012398      0.021490   -0.005965   -0.015727   \nYrSold            0.043950  -0.013618      0.035743   -0.008201    0.014359   \nId                0.012609  -0.012713     -0.021998   -0.050298   -0.005024   \nLog_Sale         -0.036868   0.586570      0.565608    0.430809    0.372023   \n\n               ...  OpenPorchSF  EnclosedPorch  3SsnPorch  ScreenPorch  \\\nSalePrice      ...     0.315856      -0.128578   0.044584     0.111447   \nMSSubClass     ...    -0.006100      -0.012037  -0.043825    -0.026030   \nLotFrontage    ...     0.151972       0.010700   0.070029     0.041383   \nLotArea        ...     0.084774      -0.018340   0.020423     0.043160   \nOverallQual    ...     0.308819      -0.113937   0.030371     0.064886   \nOverallCond    ...    -0.032589       0.070356   0.025504     0.054811   \nYearBuilt      ...     0.188686      -0.387268   0.031355    -0.050364   \nYearRemodAdd   ...     0.226298      -0.193919   0.045286    -0.038740   \nMasVnrArea     ...     0.125703      -0.110204   0.018796     0.061466   \nBsmtFinSF1     ...     0.111761      -0.102303   0.026451     0.062021   \nBsmtFinSF2     ...     0.003093       0.036543  -0.029993     0.088871   \nBsmtUnfSF      ...     0.129005      -0.002538   0.020764    -0.012579   \nTotalBsmtSF    ...     0.247264      -0.095478   0.037384     0.084489   \n1stFlrSF       ...     0.211671      -0.065292   0.056104     0.088758   \n2ndFlrSF       ...     0.208026       0.061989  -0.024358     0.040606   \nLowQualFinSF   ...     0.018251       0.061081  -0.004296     0.026799   \nGrLivArea      ...     0.330224       0.009113   0.020643     0.101510   \nBsmtFullBath   ...     0.067341      -0.049911  -0.000106     0.023148   \nBsmtHalfBath   ...    -0.025324      -0.008555   0.035114     0.032121   \nFullBath       ...     0.259977      -0.115093   0.035353    -0.008106   \nHalfBath       ...     0.199740      -0.095317  -0.004972     0.072426   \nBedroomAbvGr   ...     0.093810       0.041570  -0.024478     0.044300   \nKitchenAbvGr   ...    -0.070091       0.037312  -0.024600    -0.051613   \nTotRmsAbvGrd   ...     0.234192       0.004151  -0.006683     0.059383   \nFireplaces     ...     0.169405      -0.024822   0.011257     0.184530   \nGarageYrBlt    ...     0.228425      -0.297003   0.023544    -0.075418   \nGarageCars     ...     0.213569      -0.151434   0.035765     0.050494   \nGarageArea     ...     0.241435      -0.121777   0.035087     0.051412   \nWoodDeckSF     ...     0.058661      -0.125989  -0.032771    -0.074181   \nOpenPorchSF    ...     1.000000      -0.093079  -0.005842     0.074304   \nEnclosedPorch  ...    -0.093079       1.000000  -0.037305    -0.082864   \n3SsnPorch      ...    -0.005842      -0.037305   1.000000    -0.031436   \nScreenPorch    ...     0.074304      -0.082864  -0.031436     1.000000   \nPoolArea       ...     0.060762       0.054203  -0.007992     0.051307   \nMiscVal        ...    -0.018584       0.018361   0.000354     0.031946   \nMoSold         ...     0.071255      -0.028887   0.029474     0.023217   \nYrSold         ...    -0.057619      -0.009916   0.018645     0.010694   \nId             ...    -0.000477       0.002889  -0.046635     0.001330   \nLog_Sale       ...     0.321053      -0.149050   0.054900     0.121208   \n\n               PoolArea   MiscVal    MoSold    YrSold        Id  Log_Sale  \nSalePrice      0.092404 -0.021190  0.046432 -0.028923 -0.021917  0.948374  \nMSSubClass     0.008283 -0.007683 -0.013585 -0.021407  0.011156 -0.073959  \nLotFrontage    0.206167  0.003368  0.011200  0.007450 -0.010601  0.355878  \nLotArea        0.077672  0.038068  0.001205 -0.014261 -0.033226  0.257320  \nOverallQual    0.065166 -0.031406  0.070815 -0.027347 -0.028365  0.817184  \nOverallCond   -0.001985  0.068777 -0.003511  0.043950  0.012609 -0.036868  \nYearBuilt      0.004950 -0.034383  0.012398 -0.013618 -0.012713  0.586570  \nYearRemodAdd   0.005829 -0.010286  0.021490  0.035743 -0.021998  0.565608  \nMasVnrArea     0.011723 -0.029815 -0.005965 -0.008201 -0.050298  0.430809  \nBsmtFinSF1     0.140491  0.003571 -0.015727  0.014359 -0.005024  0.372023  \nBsmtFinSF2     0.041709  0.004940 -0.015211  0.031706 -0.005968  0.004832  \nBsmtUnfSF     -0.035092 -0.023837  0.034888 -0.041258 -0.007940  0.221985  \nTotalBsmtSF    0.126053 -0.018479  0.013196 -0.014969 -0.015415  0.612134  \n1stFlrSF       0.131525 -0.021096  0.031372 -0.013604  0.010496  0.596981  \n2ndFlrSF       0.081487  0.016197  0.035164 -0.028700  0.005590  0.319300  \nLowQualFinSF   0.062157 -0.003793 -0.022174 -0.028921 -0.044230 -0.037963  \nGrLivArea      0.170205 -0.002416  0.050240 -0.036526  0.008273  0.700927  \nBsmtFullBath   0.067616 -0.023047 -0.025361  0.067049  0.002289  0.236224  \nBsmtHalfBath   0.020025 -0.007367  0.032873 -0.046524 -0.020155 -0.005149  \nFullBath       0.049604 -0.014290  0.055872 -0.019669  0.005587  0.594771  \nHalfBath       0.022381  0.001290 -0.009050 -0.010269  0.006784  0.313982  \nBedroomAbvGr   0.070703  0.007767  0.046544 -0.036014  0.037719  0.209044  \nKitchenAbvGr  -0.014525  0.062341  0.026589  0.031687  0.002951 -0.147548  \nTotRmsAbvGrd   0.083757  0.024763  0.036907 -0.034516  0.027239  0.534422  \nFireplaces     0.095074  0.001409  0.046357 -0.024096 -0.019772  0.489449  \nGarageYrBlt   -0.014501 -0.032417  0.005337 -0.001014  0.000072  0.541073  \nGarageCars     0.020934 -0.043080  0.040522 -0.039117  0.016570  0.680625  \nGarageArea     0.061047 -0.027400  0.027974 -0.027378  0.017634  0.650888  \nWoodDeckSF     0.073378 -0.009551  0.021011  0.022270 -0.029643  0.334135  \nOpenPorchSF    0.060762 -0.018584  0.071255 -0.057619 -0.000477  0.321053  \nEnclosedPorch  0.054203  0.018361 -0.028887 -0.009916  0.002889 -0.149050  \n3SsnPorch     -0.007992  0.000354  0.029474  0.018645 -0.046635  0.054900  \nScreenPorch    0.051307  0.031946  0.023217  0.010694  0.001330  0.121208  \nPoolArea       1.000000  0.029669 -0.033737 -0.059689  0.057044  0.069798  \nMiscVal        0.029669  1.000000 -0.006495  0.004906 -0.006242 -0.020021  \nMoSold        -0.033737 -0.006495  1.000000 -0.145721  0.021172  0.057329  \nYrSold        -0.059689  0.004906 -0.145721  1.000000  0.000712 -0.037263  \nId             0.057044 -0.006242  0.021172  0.000712  1.000000 -0.017942  \nLog_Sale       0.069798 -0.020021  0.057329 -0.037263 -0.017942  1.000000  \n\n[39 rows x 39 columns]",
      "text/html": "<div>\n<style scoped>\n    .dataframe tbody tr th:only-of-type {\n        vertical-align: middle;\n    }\n\n    .dataframe tbody tr th {\n        vertical-align: top;\n    }\n\n    .dataframe thead th {\n        text-align: right;\n    }\n</style>\n<table border=\"1\" class=\"dataframe\">\n  <thead>\n    <tr style=\"text-align: right;\">\n      <th></th>\n      <th>SalePrice</th>\n      <th>MSSubClass</th>\n      <th>LotFrontage</th>\n      <th>LotArea</th>\n      <th>OverallQual</th>\n      <th>OverallCond</th>\n      <th>YearBuilt</th>\n      <th>YearRemodAdd</th>\n      <th>MasVnrArea</th>\n      <th>BsmtFinSF1</th>\n      <th>...</th>\n      <th>OpenPorchSF</th>\n      <th>EnclosedPorch</th>\n      <th>3SsnPorch</th>\n      <th>ScreenPorch</th>\n      <th>PoolArea</th>\n      <th>MiscVal</th>\n      <th>MoSold</th>\n      <th>YrSold</th>\n      <th>Id</th>\n      <th>Log_Sale</th>\n    </tr>\n  </thead>\n  <tbody>\n    <tr>\n      <th>SalePrice</th>\n      <td>1.000000</td>\n      <td>-0.084284</td>\n      <td>0.351799</td>\n      <td>0.263843</td>\n      <td>0.790982</td>\n      <td>-0.077856</td>\n      <td>0.522897</td>\n      <td>0.507101</td>\n      <td>0.477493</td>\n      <td>0.386420</td>\n      <td>...</td>\n      <td>0.315856</td>\n      <td>-0.128578</td>\n      <td>0.044584</td>\n      <td>0.111447</td>\n      <td>0.092404</td>\n      <td>-0.021190</td>\n      <td>0.046432</td>\n      <td>-0.028923</td>\n      <td>-0.021917</td>\n      <td>0.948374</td>\n    </tr>\n    <tr>\n      <th>MSSubClass</th>\n      <td>-0.084284</td>\n      <td>1.000000</td>\n      <td>-0.386347</td>\n      <td>-0.139781</td>\n      <td>0.032628</td>\n      <td>-0.059316</td>\n      <td>0.027850</td>\n      <td>0.040581</td>\n      <td>0.022936</td>\n      <td>-0.069836</td>\n      <td>...</td>\n      <td>-0.006100</td>\n      <td>-0.012037</td>\n      <td>-0.043825</td>\n      <td>-0.026030</td>\n      <td>0.008283</td>\n      <td>-0.007683</td>\n      <td>-0.013585</td>\n      <td>-0.021407</td>\n      <td>0.011156</td>\n      <td>-0.073959</td>\n    </tr>\n    <tr>\n      <th>LotFrontage</th>\n      <td>0.351799</td>\n      <td>-0.386347</td>\n      <td>1.000000</td>\n      <td>0.426095</td>\n      <td>0.251646</td>\n      <td>-0.059213</td>\n      <td>0.123349</td>\n      <td>0.088866</td>\n      <td>0.193458</td>\n      <td>0.233633</td>\n      <td>...</td>\n      <td>0.151972</td>\n      <td>0.010700</td>\n      <td>0.070029</td>\n      <td>0.041383</td>\n      <td>0.206167</td>\n      <td>0.003368</td>\n      <td>0.011200</td>\n      <td>0.007450</td>\n      <td>-0.010601</td>\n      <td>0.355878</td>\n    </tr>\n    <tr>\n      <th>LotArea</th>\n      <td>0.263843</td>\n      <td>-0.139781</td>\n      <td>0.426095</td>\n      <td>1.000000</td>\n      <td>0.105806</td>\n      <td>-0.005636</td>\n      <td>0.014228</td>\n      <td>0.013788</td>\n      <td>0.104160</td>\n      <td>0.214103</td>\n      <td>...</td>\n      <td>0.084774</td>\n      <td>-0.018340</td>\n      <td>0.020423</td>\n      <td>0.043160</td>\n      <td>0.077672</td>\n      <td>0.038068</td>\n      <td>0.001205</td>\n      <td>-0.014261</td>\n      <td>-0.033226</td>\n      <td>0.257320</td>\n    </tr>\n    <tr>\n      <th>OverallQual</th>\n      <td>0.790982</td>\n      <td>0.032628</td>\n      <td>0.251646</td>\n      <td>0.105806</td>\n      <td>1.000000</td>\n      <td>-0.091932</td>\n      <td>0.572323</td>\n      <td>0.550684</td>\n      <td>0.411876</td>\n      <td>0.239666</td>\n      <td>...</td>\n      <td>0.308819</td>\n      <td>-0.113937</td>\n      <td>0.030371</td>\n      <td>0.064886</td>\n      <td>0.065166</td>\n      <td>-0.031406</td>\n      <td>0.070815</td>\n      <td>-0.027347</td>\n      <td>-0.028365</td>\n      <td>0.817184</td>\n    </tr>\n    <tr>\n      <th>OverallCond</th>\n      <td>-0.077856</td>\n      <td>-0.059316</td>\n      <td>-0.059213</td>\n      <td>-0.005636</td>\n      <td>-0.091932</td>\n      <td>1.000000</td>\n      <td>-0.375983</td>\n      <td>0.073741</td>\n      <td>-0.128101</td>\n      <td>-0.046231</td>\n      <td>...</td>\n      <td>-0.032589</td>\n      <td>0.070356</td>\n      <td>0.025504</td>\n      <td>0.054811</td>\n      <td>-0.001985</td>\n      <td>0.068777</td>\n      <td>-0.003511</td>\n      <td>0.043950</td>\n      <td>0.012609</td>\n      <td>-0.036868</td>\n    </tr>\n    <tr>\n      <th>YearBuilt</th>\n      <td>0.522897</td>\n      <td>0.027850</td>\n      <td>0.123349</td>\n      <td>0.014228</td>\n      <td>0.572323</td>\n      <td>-0.375983</td>\n      <td>1.000000</td>\n      <td>0.592855</td>\n      <td>0.315707</td>\n      <td>0.249503</td>\n      <td>...</td>\n      <td>0.188686</td>\n      <td>-0.387268</td>\n      <td>0.031355</td>\n      <td>-0.050364</td>\n      <td>0.004950</td>\n      <td>-0.034383</td>\n      <td>0.012398</td>\n      <td>-0.013618</td>\n      <td>-0.012713</td>\n      <td>0.586570</td>\n    </tr>\n    <tr>\n      <th>YearRemodAdd</th>\n      <td>0.507101</td>\n      <td>0.040581</td>\n      <td>0.088866</td>\n      <td>0.013788</td>\n      <td>0.550684</td>\n      <td>0.073741</td>\n      <td>0.592855</td>\n      <td>1.000000</td>\n      <td>0.179618</td>\n      <td>0.128451</td>\n      <td>...</td>\n      <td>0.226298</td>\n      <td>-0.193919</td>\n      <td>0.045286</td>\n      <td>-0.038740</td>\n      <td>0.005829</td>\n      <td>-0.010286</td>\n      <td>0.021490</td>\n      <td>0.035743</td>\n      <td>-0.021998</td>\n      <td>0.565608</td>\n    </tr>\n    <tr>\n      <th>MasVnrArea</th>\n      <td>0.477493</td>\n      <td>0.022936</td>\n      <td>0.193458</td>\n      <td>0.104160</td>\n      <td>0.411876</td>\n      <td>-0.128101</td>\n      <td>0.315707</td>\n      <td>0.179618</td>\n      <td>1.000000</td>\n      <td>0.264736</td>\n      <td>...</td>\n      <td>0.125703</td>\n      <td>-0.110204</td>\n      <td>0.018796</td>\n      <td>0.061466</td>\n      <td>0.011723</td>\n      <td>-0.029815</td>\n      <td>-0.005965</td>\n      <td>-0.008201</td>\n      <td>-0.050298</td>\n      <td>0.430809</td>\n    </tr>\n    <tr>\n      <th>BsmtFinSF1</th>\n      <td>0.386420</td>\n      <td>-0.069836</td>\n      <td>0.233633</td>\n      <td>0.214103</td>\n      <td>0.239666</td>\n      <td>-0.046231</td>\n      <td>0.249503</td>\n      <td>0.128451</td>\n      <td>0.264736</td>\n      <td>1.000000</td>\n      <td>...</td>\n      <td>0.111761</td>\n      <td>-0.102303</td>\n      <td>0.026451</td>\n      <td>0.062021</td>\n      <td>0.140491</td>\n      <td>0.003571</td>\n      <td>-0.015727</td>\n      <td>0.014359</td>\n      <td>-0.005024</td>\n      <td>0.372023</td>\n    </tr>\n    <tr>\n      <th>BsmtFinSF2</th>\n      <td>-0.011378</td>\n      <td>-0.065649</td>\n      <td>0.049900</td>\n      <td>0.111170</td>\n      <td>-0.059119</td>\n      <td>0.040229</td>\n      <td>-0.049107</td>\n      <td>-0.067759</td>\n      <td>-0.072319</td>\n      <td>-0.050117</td>\n      <td>...</td>\n      <td>0.003093</td>\n      <td>0.036543</td>\n      <td>-0.029993</td>\n      <td>0.088871</td>\n      <td>0.041709</td>\n      <td>0.004940</td>\n      <td>-0.015211</td>\n      <td>0.031706</td>\n      <td>-0.005968</td>\n      <td>0.004832</td>\n    </tr>\n    <tr>\n      <th>BsmtUnfSF</th>\n      <td>0.214479</td>\n      <td>-0.140759</td>\n      <td>0.132644</td>\n      <td>-0.002618</td>\n      <td>0.308159</td>\n      <td>-0.136841</td>\n      <td>0.149040</td>\n      <td>0.181133</td>\n      <td>0.114442</td>\n      <td>-0.495251</td>\n      <td>...</td>\n      <td>0.129005</td>\n      <td>-0.002538</td>\n      <td>0.020764</td>\n      <td>-0.012579</td>\n      <td>-0.035092</td>\n      <td>-0.023837</td>\n      <td>0.034888</td>\n      <td>-0.041258</td>\n      <td>-0.007940</td>\n      <td>0.221985</td>\n    </tr>\n    <tr>\n      <th>TotalBsmtSF</th>\n      <td>0.613581</td>\n      <td>-0.238518</td>\n      <td>0.392075</td>\n      <td>0.260833</td>\n      <td>0.537808</td>\n      <td>-0.171098</td>\n      <td>0.391452</td>\n      <td>0.291066</td>\n      <td>0.363936</td>\n      <td>0.522396</td>\n      <td>...</td>\n      <td>0.247264</td>\n      <td>-0.095478</td>\n      <td>0.037384</td>\n      <td>0.084489</td>\n      <td>0.126053</td>\n      <td>-0.018479</td>\n      <td>0.013196</td>\n      <td>-0.014969</td>\n      <td>-0.015415</td>\n      <td>0.612134</td>\n    </tr>\n    <tr>\n      <th>1stFlrSF</th>\n      <td>0.605852</td>\n      <td>-0.251758</td>\n      <td>0.457181</td>\n      <td>0.299475</td>\n      <td>0.476224</td>\n      <td>-0.144203</td>\n      <td>0.281986</td>\n      <td>0.240379</td>\n      <td>0.344501</td>\n      <td>0.445863</td>\n      <td>...</td>\n      <td>0.211671</td>\n      <td>-0.065292</td>\n      <td>0.056104</td>\n      <td>0.088758</td>\n      <td>0.131525</td>\n      <td>-0.021096</td>\n      <td>0.031372</td>\n      <td>-0.013604</td>\n      <td>0.010496</td>\n      <td>0.596981</td>\n    </tr>\n    <tr>\n      <th>2ndFlrSF</th>\n      <td>0.319334</td>\n      <td>0.307886</td>\n      <td>0.080177</td>\n      <td>0.050986</td>\n      <td>0.295493</td>\n      <td>0.028942</td>\n      <td>0.010308</td>\n      <td>0.140024</td>\n      <td>0.174561</td>\n      <td>-0.137079</td>\n      <td>...</td>\n      <td>0.208026</td>\n      <td>0.061989</td>\n      <td>-0.024358</td>\n      <td>0.040606</td>\n      <td>0.081487</td>\n      <td>0.016197</td>\n      <td>0.035164</td>\n      <td>-0.028700</td>\n      <td>0.005590</td>\n      <td>0.319300</td>\n    </tr>\n    <tr>\n      <th>LowQualFinSF</th>\n      <td>-0.025606</td>\n      <td>0.046474</td>\n      <td>0.038469</td>\n      <td>0.004779</td>\n      <td>-0.030429</td>\n      <td>0.025494</td>\n      <td>-0.183784</td>\n      <td>-0.062419</td>\n      <td>-0.069071</td>\n      <td>-0.064503</td>\n      <td>...</td>\n      <td>0.018251</td>\n      <td>0.061081</td>\n      <td>-0.004296</td>\n      <td>0.026799</td>\n      <td>0.062157</td>\n      <td>-0.003793</td>\n      <td>-0.022174</td>\n      <td>-0.028921</td>\n      <td>-0.044230</td>\n      <td>-0.037963</td>\n    </tr>\n    <tr>\n      <th>GrLivArea</th>\n      <td>0.708624</td>\n      <td>0.074853</td>\n      <td>0.402797</td>\n      <td>0.263116</td>\n      <td>0.593007</td>\n      <td>-0.079686</td>\n      <td>0.199010</td>\n      <td>0.287389</td>\n      <td>0.390857</td>\n      <td>0.208171</td>\n      <td>...</td>\n      <td>0.330224</td>\n      <td>0.009113</td>\n      <td>0.020643</td>\n      <td>0.101510</td>\n      <td>0.170205</td>\n      <td>-0.002416</td>\n      <td>0.050240</td>\n      <td>-0.036526</td>\n      <td>0.008273</td>\n      <td>0.700927</td>\n    </tr>\n    <tr>\n      <th>BsmtFullBath</th>\n      <td>0.227122</td>\n      <td>0.003491</td>\n      <td>0.100949</td>\n      <td>0.158155</td>\n      <td>0.111098</td>\n      <td>-0.054942</td>\n      <td>0.187599</td>\n      <td>0.119470</td>\n      <td>0.085310</td>\n      <td>0.649212</td>\n      <td>...</td>\n      <td>0.067341</td>\n      <td>-0.049911</td>\n      <td>-0.000106</td>\n      <td>0.023148</td>\n      <td>0.067616</td>\n      <td>-0.023047</td>\n      <td>-0.025361</td>\n      <td>0.067049</td>\n      <td>0.002289</td>\n      <td>0.236224</td>\n    </tr>\n    <tr>\n      <th>BsmtHalfBath</th>\n      <td>-0.016844</td>\n      <td>-0.002333</td>\n      <td>-0.007234</td>\n      <td>0.048046</td>\n      <td>-0.040150</td>\n      <td>0.117821</td>\n      <td>-0.038162</td>\n      <td>-0.012337</td>\n      <td>0.026673</td>\n      <td>0.067418</td>\n      <td>...</td>\n      <td>-0.025324</td>\n      <td>-0.008555</td>\n      <td>0.035114</td>\n      <td>0.032121</td>\n      <td>0.020025</td>\n      <td>-0.007367</td>\n      <td>0.032873</td>\n      <td>-0.046524</td>\n      <td>-0.020155</td>\n      <td>-0.005149</td>\n    </tr>\n    <tr>\n      <th>FullBath</th>\n      <td>0.560664</td>\n      <td>0.131608</td>\n      <td>0.198769</td>\n      <td>0.126031</td>\n      <td>0.550600</td>\n      <td>-0.194149</td>\n      <td>0.468271</td>\n      <td>0.439046</td>\n      <td>0.276833</td>\n      <td>0.058543</td>\n      <td>...</td>\n      <td>0.259977</td>\n      <td>-0.115093</td>\n      <td>0.035353</td>\n      <td>-0.008106</td>\n      <td>0.049604</td>\n      <td>-0.014290</td>\n      <td>0.055872</td>\n      <td>-0.019669</td>\n      <td>0.005587</td>\n      <td>0.594771</td>\n    </tr>\n    <tr>\n      <th>HalfBath</th>\n      <td>0.284108</td>\n      <td>0.177354</td>\n      <td>0.053532</td>\n      <td>0.014259</td>\n      <td>0.273458</td>\n      <td>-0.060769</td>\n      <td>0.242656</td>\n      <td>0.183331</td>\n      <td>0.201444</td>\n      <td>0.004262</td>\n      <td>...</td>\n      <td>0.199740</td>\n      <td>-0.095317</td>\n      <td>-0.004972</td>\n      <td>0.072426</td>\n      <td>0.022381</td>\n      <td>0.001290</td>\n      <td>-0.009050</td>\n      <td>-0.010269</td>\n      <td>0.006784</td>\n      <td>0.313982</td>\n    </tr>\n    <tr>\n      <th>BedroomAbvGr</th>\n      <td>0.168213</td>\n      <td>-0.023438</td>\n      <td>0.263170</td>\n      <td>0.119690</td>\n      <td>0.101676</td>\n      <td>0.012980</td>\n      <td>-0.070651</td>\n      <td>-0.040581</td>\n      <td>0.102821</td>\n      <td>-0.107355</td>\n      <td>...</td>\n      <td>0.093810</td>\n      <td>0.041570</td>\n      <td>-0.024478</td>\n      <td>0.044300</td>\n      <td>0.070703</td>\n      <td>0.007767</td>\n      <td>0.046544</td>\n      <td>-0.036014</td>\n      <td>0.037719</td>\n      <td>0.209044</td>\n    </tr>\n    <tr>\n      <th>KitchenAbvGr</th>\n      <td>-0.135907</td>\n      <td>0.281721</td>\n      <td>-0.006069</td>\n      <td>-0.017784</td>\n      <td>-0.183882</td>\n      <td>-0.087001</td>\n      <td>-0.174800</td>\n      <td>-0.149598</td>\n      <td>-0.037610</td>\n      <td>-0.081007</td>\n      <td>...</td>\n      <td>-0.070091</td>\n      <td>0.037312</td>\n      <td>-0.024600</td>\n      <td>-0.051613</td>\n      <td>-0.014525</td>\n      <td>0.062341</td>\n      <td>0.026589</td>\n      <td>0.031687</td>\n      <td>0.002951</td>\n      <td>-0.147548</td>\n    </tr>\n    <tr>\n      <th>TotRmsAbvGrd</th>\n      <td>0.533723</td>\n      <td>0.040380</td>\n      <td>0.352096</td>\n      <td>0.190015</td>\n      <td>0.427452</td>\n      <td>-0.057583</td>\n      <td>0.095589</td>\n      <td>0.191740</td>\n      <td>0.280682</td>\n      <td>0.044316</td>\n      <td>...</td>\n      <td>0.234192</td>\n      <td>0.004151</td>\n      <td>-0.006683</td>\n      <td>0.059383</td>\n      <td>0.083757</td>\n      <td>0.024763</td>\n      <td>0.036907</td>\n      <td>-0.034516</td>\n      <td>0.027239</td>\n      <td>0.534422</td>\n    </tr>\n    <tr>\n      <th>Fireplaces</th>\n      <td>0.466929</td>\n      <td>-0.045569</td>\n      <td>0.266639</td>\n      <td>0.271364</td>\n      <td>0.396765</td>\n      <td>-0.023820</td>\n      <td>0.147716</td>\n      <td>0.112581</td>\n      <td>0.249070</td>\n      <td>0.260011</td>\n      <td>...</td>\n      <td>0.169405</td>\n      <td>-0.024822</td>\n      <td>0.011257</td>\n      <td>0.184530</td>\n      <td>0.095074</td>\n      <td>0.001409</td>\n      <td>0.046357</td>\n      <td>-0.024096</td>\n      <td>-0.019772</td>\n      <td>0.489449</td>\n    </tr>\n    <tr>\n      <th>GarageYrBlt</th>\n      <td>0.486362</td>\n      <td>0.085072</td>\n      <td>0.070250</td>\n      <td>-0.024947</td>\n      <td>0.547766</td>\n      <td>-0.324297</td>\n      <td>0.825667</td>\n      <td>0.642277</td>\n      <td>0.252691</td>\n      <td>0.153484</td>\n      <td>...</td>\n      <td>0.228425</td>\n      <td>-0.297003</td>\n      <td>0.023544</td>\n      <td>-0.075418</td>\n      <td>-0.014501</td>\n      <td>-0.032417</td>\n      <td>0.005337</td>\n      <td>-0.001014</td>\n      <td>0.000072</td>\n      <td>0.541073</td>\n    </tr>\n    <tr>\n      <th>GarageCars</th>\n      <td>0.640409</td>\n      <td>-0.040110</td>\n      <td>0.285691</td>\n      <td>0.154871</td>\n      <td>0.600671</td>\n      <td>-0.185758</td>\n      <td>0.537850</td>\n      <td>0.420622</td>\n      <td>0.364204</td>\n      <td>0.224054</td>\n      <td>...</td>\n      <td>0.213569</td>\n      <td>-0.151434</td>\n      <td>0.035765</td>\n      <td>0.050494</td>\n      <td>0.020934</td>\n      <td>-0.043080</td>\n      <td>0.040522</td>\n      <td>-0.039117</td>\n      <td>0.016570</td>\n      <td>0.680625</td>\n    </tr>\n    <tr>\n      <th>GarageArea</th>\n      <td>0.623431</td>\n      <td>-0.098672</td>\n      <td>0.344997</td>\n      <td>0.180403</td>\n      <td>0.562022</td>\n      <td>-0.151521</td>\n      <td>0.478954</td>\n      <td>0.371600</td>\n      <td>0.373066</td>\n      <td>0.296970</td>\n      <td>...</td>\n      <td>0.241435</td>\n      <td>-0.121777</td>\n      <td>0.035087</td>\n      <td>0.051412</td>\n      <td>0.061047</td>\n      <td>-0.027400</td>\n      <td>0.027974</td>\n      <td>-0.027378</td>\n      <td>0.017634</td>\n      <td>0.650888</td>\n    </tr>\n    <tr>\n      <th>WoodDeckSF</th>\n      <td>0.324413</td>\n      <td>-0.012579</td>\n      <td>0.088521</td>\n      <td>0.171698</td>\n      <td>0.238923</td>\n      <td>-0.003334</td>\n      <td>0.224880</td>\n      <td>0.205726</td>\n      <td>0.159718</td>\n      <td>0.204306</td>\n      <td>...</td>\n      <td>0.058661</td>\n      <td>-0.125989</td>\n      <td>-0.032771</td>\n      <td>-0.074181</td>\n      <td>0.073378</td>\n      <td>-0.009551</td>\n      <td>0.021011</td>\n      <td>0.022270</td>\n      <td>-0.029643</td>\n      <td>0.334135</td>\n    </tr>\n    <tr>\n      <th>OpenPorchSF</th>\n      <td>0.315856</td>\n      <td>-0.006100</td>\n      <td>0.151972</td>\n      <td>0.084774</td>\n      <td>0.308819</td>\n      <td>-0.032589</td>\n      <td>0.188686</td>\n      <td>0.226298</td>\n      <td>0.125703</td>\n      <td>0.111761</td>\n      <td>...</td>\n      <td>1.000000</td>\n      <td>-0.093079</td>\n      <td>-0.005842</td>\n      <td>0.074304</td>\n      <td>0.060762</td>\n      <td>-0.018584</td>\n      <td>0.071255</td>\n      <td>-0.057619</td>\n      <td>-0.000477</td>\n      <td>0.321053</td>\n    </tr>\n    <tr>\n      <th>EnclosedPorch</th>\n      <td>-0.128578</td>\n      <td>-0.012037</td>\n      <td>0.010700</td>\n      <td>-0.018340</td>\n      <td>-0.113937</td>\n      <td>0.070356</td>\n      <td>-0.387268</td>\n      <td>-0.193919</td>\n      <td>-0.110204</td>\n      <td>-0.102303</td>\n      <td>...</td>\n      <td>-0.093079</td>\n      <td>1.000000</td>\n      <td>-0.037305</td>\n      <td>-0.082864</td>\n      <td>0.054203</td>\n      <td>0.018361</td>\n      <td>-0.028887</td>\n      <td>-0.009916</td>\n      <td>0.002889</td>\n      <td>-0.149050</td>\n    </tr>\n    <tr>\n      <th>3SsnPorch</th>\n      <td>0.044584</td>\n      <td>-0.043825</td>\n      <td>0.070029</td>\n      <td>0.020423</td>\n      <td>0.030371</td>\n      <td>0.025504</td>\n      <td>0.031355</td>\n      <td>0.045286</td>\n      <td>0.018796</td>\n      <td>0.026451</td>\n      <td>...</td>\n      <td>-0.005842</td>\n      <td>-0.037305</td>\n      <td>1.000000</td>\n      <td>-0.031436</td>\n      <td>-0.007992</td>\n      <td>0.000354</td>\n      <td>0.029474</td>\n      <td>0.018645</td>\n      <td>-0.046635</td>\n      <td>0.054900</td>\n    </tr>\n    <tr>\n      <th>ScreenPorch</th>\n      <td>0.111447</td>\n      <td>-0.026030</td>\n      <td>0.041383</td>\n      <td>0.043160</td>\n      <td>0.064886</td>\n      <td>0.054811</td>\n      <td>-0.050364</td>\n      <td>-0.038740</td>\n      <td>0.061466</td>\n      <td>0.062021</td>\n      <td>...</td>\n      <td>0.074304</td>\n      <td>-0.082864</td>\n      <td>-0.031436</td>\n      <td>1.000000</td>\n      <td>0.051307</td>\n      <td>0.031946</td>\n      <td>0.023217</td>\n      <td>0.010694</td>\n      <td>0.001330</td>\n      <td>0.121208</td>\n    </tr>\n    <tr>\n      <th>PoolArea</th>\n      <td>0.092404</td>\n      <td>0.008283</td>\n      <td>0.206167</td>\n      <td>0.077672</td>\n      <td>0.065166</td>\n      <td>-0.001985</td>\n      <td>0.004950</td>\n      <td>0.005829</td>\n      <td>0.011723</td>\n      <td>0.140491</td>\n      <td>...</td>\n      <td>0.060762</td>\n      <td>0.054203</td>\n      <td>-0.007992</td>\n      <td>0.051307</td>\n      <td>1.000000</td>\n      <td>0.029669</td>\n      <td>-0.033737</td>\n      <td>-0.059689</td>\n      <td>0.057044</td>\n      <td>0.069798</td>\n    </tr>\n    <tr>\n      <th>MiscVal</th>\n      <td>-0.021190</td>\n      <td>-0.007683</td>\n      <td>0.003368</td>\n      <td>0.038068</td>\n      <td>-0.031406</td>\n      <td>0.068777</td>\n      <td>-0.034383</td>\n      <td>-0.010286</td>\n      <td>-0.029815</td>\n      <td>0.003571</td>\n      <td>...</td>\n      <td>-0.018584</td>\n      <td>0.018361</td>\n      <td>0.000354</td>\n      <td>0.031946</td>\n      <td>0.029669</td>\n      <td>1.000000</td>\n      <td>-0.006495</td>\n      <td>0.004906</td>\n      <td>-0.006242</td>\n      <td>-0.020021</td>\n    </tr>\n    <tr>\n      <th>MoSold</th>\n      <td>0.046432</td>\n      <td>-0.013585</td>\n      <td>0.011200</td>\n      <td>0.001205</td>\n      <td>0.070815</td>\n      <td>-0.003511</td>\n      <td>0.012398</td>\n      <td>0.021490</td>\n      <td>-0.005965</td>\n      <td>-0.015727</td>\n      <td>...</td>\n      <td>0.071255</td>\n      <td>-0.028887</td>\n      <td>0.029474</td>\n      <td>0.023217</td>\n      <td>-0.033737</td>\n      <td>-0.006495</td>\n      <td>1.000000</td>\n      <td>-0.145721</td>\n      <td>0.021172</td>\n      <td>0.057329</td>\n    </tr>\n    <tr>\n      <th>YrSold</th>\n      <td>-0.028923</td>\n      <td>-0.021407</td>\n      <td>0.007450</td>\n      <td>-0.014261</td>\n      <td>-0.027347</td>\n      <td>0.043950</td>\n      <td>-0.013618</td>\n      <td>0.035743</td>\n      <td>-0.008201</td>\n      <td>0.014359</td>\n      <td>...</td>\n      <td>-0.057619</td>\n      <td>-0.009916</td>\n      <td>0.018645</td>\n      <td>0.010694</td>\n      <td>-0.059689</td>\n      <td>0.004906</td>\n      <td>-0.145721</td>\n      <td>1.000000</td>\n      <td>0.000712</td>\n      <td>-0.037263</td>\n    </tr>\n    <tr>\n      <th>Id</th>\n      <td>-0.021917</td>\n      <td>0.011156</td>\n      <td>-0.010601</td>\n      <td>-0.033226</td>\n      <td>-0.028365</td>\n      <td>0.012609</td>\n      <td>-0.012713</td>\n      <td>-0.021998</td>\n      <td>-0.050298</td>\n      <td>-0.005024</td>\n      <td>...</td>\n      <td>-0.000477</td>\n      <td>0.002889</td>\n      <td>-0.046635</td>\n      <td>0.001330</td>\n      <td>0.057044</td>\n      <td>-0.006242</td>\n      <td>0.021172</td>\n      <td>0.000712</td>\n      <td>1.000000</td>\n      <td>-0.017942</td>\n    </tr>\n    <tr>\n      <th>Log_Sale</th>\n      <td>0.948374</td>\n      <td>-0.073959</td>\n      <td>0.355878</td>\n      <td>0.257320</td>\n      <td>0.817184</td>\n      <td>-0.036868</td>\n      <td>0.586570</td>\n      <td>0.565608</td>\n      <td>0.430809</td>\n      <td>0.372023</td>\n      <td>...</td>\n      <td>0.321053</td>\n      <td>-0.149050</td>\n      <td>0.054900</td>\n      <td>0.121208</td>\n      <td>0.069798</td>\n      <td>-0.020021</td>\n      <td>0.057329</td>\n      <td>-0.037263</td>\n      <td>-0.017942</td>\n      <td>1.000000</td>\n    </tr>\n  </tbody>\n</table>\n<p>39 rows × 39 columns</p>\n</div>"
     },
     "execution_count": 515,
     "metadata": {},
     "output_type": "execute_result"
    }
   ],
   "source": [
    "train_df.corr()"
   ],
   "metadata": {
    "collapsed": false,
    "pycharm": {
     "name": "#%%\n"
    }
   }
  },
  {
   "cell_type": "code",
   "execution_count": 516,
   "outputs": [
    {
     "data": {
      "text/plain": "<AxesSubplot:>"
     },
     "execution_count": 516,
     "metadata": {},
     "output_type": "execute_result"
    },
    {
     "data": {
      "text/plain": "<Figure size 432x288 with 2 Axes>",
      "image/png": "[encoded data removed]"
     },
     "metadata": {
      "needs_background": "light"
     },
     "output_type": "display_data"
    }
   ],
   "source": [
    "sns.heatmap(train_df.corr(), robust=True, linewidths=True)"
   ],
   "metadata": {
    "collapsed": false,
    "pycharm": {
     "name": "#%%\n"
    }
   }
  },
  {
   "cell_type": "markdown",
   "source": [
    "Analyzing the Correlation Matrix graphically , we find linear correlations of the target variable with both positive (e.g. Log_Sale and GrLivingArea)\n",
    "and negative independent variables (e.g. Log and YearBuilt).We also find correlations between the other parameters (e.g. TotRmsAbvGre GrLivingArea)."
   ],
   "metadata": {
    "collapsed": false,
    "pycharm": {
     "name": "#%% md\n"
    }
   }
  },
  {
   "cell_type": "code",
   "execution_count": 517,
   "outputs": [],
   "source": [
    "train_df.drop(columns=['SalePrice', 'MSSubClass', 'LotFrontage', 'MiscVal', 'MoSold', 'YrSold', 'MasVnrArea', 'GarageYrBlt','BsmtFinSF1', 'BsmtFinSF2', 'OpenPorchSF',\n",
    "                       'EnclosedPorch', 'ScreenPorch', 'OverallCond', '1stFlrSF','2ndFlrSF','GarageCars','PoolArea','LowQualFinSF', '3SsnPorch', 'BsmtHalfBath', 'KitchenAbvGr'], inplace=True)"
   ],
   "metadata": {
    "collapsed": false,
    "pycharm": {
     "name": "#%%\n"
    }
   }
  },
  {
   "cell_type": "code",
   "execution_count": 518,
   "outputs": [
    {
     "data": {
      "text/plain": "<AxesSubplot:xlabel='LotArea', ylabel='Log_Sale'>"
     },
     "execution_count": 518,
     "metadata": {},
     "output_type": "execute_result"
    },
    {
     "data": {
      "text/plain": "<Figure size 432x288 with 1 Axes>",
      "image/png": "[encoded data removed]"
     },
     "metadata": {
      "needs_background": "light"
     },
     "output_type": "display_data"
    }
   ],
   "source": [
    "sns.scatterplot(data=train_df, x='LotArea', y='Log_Sale')"
   ],
   "metadata": {
    "collapsed": false,
    "pycharm": {
     "name": "#%%\n"
    }
   }
  },
  {
   "cell_type": "code",
   "execution_count": 519,
   "outputs": [
    {
     "data": {
      "text/plain": "<AxesSubplot:xlabel='GarageArea', ylabel='Log_Sale'>"
     },
     "execution_count": 519,
     "metadata": {},
     "output_type": "execute_result"
    },
    {
     "data": {
      "text/plain": "<Figure size 432x288 with 1 Axes>",
      "image/png": "[encoded data removed]"
     },
     "metadata": {
      "needs_background": "light"
     },
     "output_type": "display_data"
    }
   ],
   "source": [
    "sns.scatterplot(data=train_df, x='GarageArea', y='Log_Sale')"
   ],
   "metadata": {
    "collapsed": false,
    "pycharm": {
     "name": "#%%\n"
    }
   }
  },
  {
   "cell_type": "code",
   "execution_count": 520,
   "outputs": [
    {
     "data": {
      "text/plain": "<AxesSubplot:xlabel='GrLivArea', ylabel='Log_Sale'>"
     },
     "execution_count": 520,
     "metadata": {},
     "output_type": "execute_result"
    },
    {
     "data": {
      "text/plain": "<Figure size 432x288 with 1 Axes>",
      "image/png": "[encoded data removed]"
     },
     "metadata": {
      "needs_background": "light"
     },
     "output_type": "display_data"
    }
   ],
   "source": [
    "sns.scatterplot(data=train_df, x='GrLivArea', y='Log_Sale')"
   ],
   "metadata": {
    "collapsed": false,
    "pycharm": {
     "name": "#%%\n"
    }
   }
  },
  {
   "cell_type": "markdown",
   "source": [
    "Analyzing the area graphs we saw that we have some very non-standard values, let's limit the size of the area to a value that makes more sense for our analysis, these values should be for farms and other larger properties"
   ],
   "metadata": {
    "collapsed": false,
    "pycharm": {
     "name": "#%% md\n"
    }
   }
  },
  {
   "cell_type": "code",
   "execution_count": 521,
   "outputs": [],
   "source": [
    "train_df['LotArea'] = train_df.loc[(train_df['LotArea'] < 50000), 'LotArea']"
   ],
   "metadata": {
    "collapsed": false,
    "pycharm": {
     "name": "#%%\n"
    }
   }
  },
  {
   "cell_type": "code",
   "execution_count": 522,
   "outputs": [],
   "source": [
    "train_df['GarageArea'] = train_df.loc[(train_df['GarageArea'] < 1200), 'GarageArea']"
   ],
   "metadata": {
    "collapsed": false,
    "pycharm": {
     "name": "#%%\n"
    }
   }
  },
  {
   "cell_type": "code",
   "execution_count": 523,
   "outputs": [],
   "source": [
    "train_df['GrLivArea'] = train_df.loc[(train_df['GrLivArea'] < 4000), 'GrLivArea']"
   ],
   "metadata": {
    "collapsed": false,
    "pycharm": {
     "name": "#%%\n"
    }
   }
  },
  {
   "cell_type": "code",
   "execution_count": 524,
   "outputs": [
    {
     "data": {
      "text/plain": "<AxesSubplot:xlabel='LotArea', ylabel='Log_Sale'>"
     },
     "execution_count": 524,
     "metadata": {},
     "output_type": "execute_result"
    },
    {
     "data": {
      "text/plain": "<Figure size 432x288 with 1 Axes>",
      "image/png": "[encoded data removed]"
     },
     "metadata": {
      "needs_background": "light"
     },
     "output_type": "display_data"
    }
   ],
   "source": [
    "sns.scatterplot(data=train_df, x='LotArea', y='Log_Sale')"
   ],
   "metadata": {
    "collapsed": false,
    "pycharm": {
     "name": "#%%\n"
    }
   }
  },
  {
   "cell_type": "code",
   "execution_count": 525,
   "outputs": [
    {
     "data": {
      "text/plain": "<AxesSubplot:xlabel='GarageArea', ylabel='Log_Sale'>"
     },
     "execution_count": 525,
     "metadata": {},
     "output_type": "execute_result"
    },
    {
     "data": {
      "text/plain": "<Figure size 432x288 with 1 Axes>",
      "image/png": "[encoded data removed]"
     },
     "metadata": {
      "needs_background": "light"
     },
     "output_type": "display_data"
    }
   ],
   "source": [
    "sns.scatterplot(data=train_df, x='GarageArea', y='Log_Sale')"
   ],
   "metadata": {
    "collapsed": false,
    "pycharm": {
     "name": "#%%\n"
    }
   }
  },
  {
   "cell_type": "code",
   "execution_count": 526,
   "outputs": [
    {
     "data": {
      "text/plain": "<AxesSubplot:xlabel='GrLivArea', ylabel='Log_Sale'>"
     },
     "execution_count": 526,
     "metadata": {},
     "output_type": "execute_result"
    },
    {
     "data": {
      "text/plain": "<Figure size 432x288 with 1 Axes>",
      "image/png": "[encoded data removed]"
     },
     "metadata": {
      "needs_background": "light"
     },
     "output_type": "display_data"
    }
   ],
   "source": [
    "sns.scatterplot(data=train_df, x='GrLivArea', y='Log_Sale')"
   ],
   "metadata": {
    "collapsed": false,
    "pycharm": {
     "name": "#%%\n"
    }
   }
  },
  {
   "cell_type": "code",
   "execution_count": 527,
   "outputs": [
    {
     "data": {
      "text/plain": "<AxesSubplot:>"
     },
     "execution_count": 527,
     "metadata": {},
     "output_type": "execute_result"
    },
    {
     "data": {
      "text/plain": "<Figure size 432x288 with 2 Axes>",
      "image/png": "[encoded data removed]"
     },
     "metadata": {
      "needs_background": "light"
     },
     "output_type": "display_data"
    }
   ],
   "source": [
    "sns.heatmap(train_df.corr(), robust=True, linewidths=True)"
   ],
   "metadata": {
    "collapsed": false,
    "pycharm": {
     "name": "#%%\n"
    }
   }
  },
  {
   "cell_type": "code",
   "execution_count": 528,
   "outputs": [
    {
     "data": {
      "text/plain": "count    1460.000000\nmean       38.732192\nstd        30.202904\nmin         0.000000\n25%        10.000000\n50%        37.000000\n75%        56.000000\nmax       138.000000\nName: YearBuilt, dtype: float64"
     },
     "execution_count": 528,
     "metadata": {},
     "output_type": "execute_result"
    }
   ],
   "source": [
    "train_df['YearBuilt'] = (np.max(train_df['YearBuilt']) - train_df['YearBuilt'])\n",
    "train_df['YearBuilt'].describe()"
   ],
   "metadata": {
    "collapsed": false,
    "pycharm": {
     "name": "#%%\n"
    }
   }
  },
  {
   "cell_type": "code",
   "execution_count": 529,
   "outputs": [
    {
     "data": {
      "text/plain": "count    1460.000000\nmean       25.134247\nstd        20.645407\nmin         0.000000\n25%         6.000000\n50%        16.000000\n75%        43.000000\nmax        60.000000\nName: YearRemodAdd, dtype: float64"
     },
     "execution_count": 529,
     "metadata": {},
     "output_type": "execute_result"
    }
   ],
   "source": [
    "train_df['YearRemodAdd'] = (np.max(train_df['YearRemodAdd']) - train_df['YearRemodAdd'])\n",
    "train_df['YearRemodAdd'].describe()"
   ],
   "metadata": {
    "collapsed": false,
    "pycharm": {
     "name": "#%%\n"
    }
   }
  },
  {
   "cell_type": "markdown",
   "source": [
    "Upon further analysis, we saw that it has properties that are over 100 years old, as well as propeirdades that have never been renovated,\n",
    "\n",
    "The average age of the residences is 39 years, and the average age of renovation is 34 years."
   ],
   "metadata": {
    "collapsed": false,
    "pycharm": {
     "name": "#%% md\n"
    }
   }
  },
  {
   "cell_type": "markdown",
   "source": [
    "<h1>Standardizing the model<h1>"
   ],
   "metadata": {
    "collapsed": false,
    "pycharm": {
     "name": "#%% md\n"
    }
   }
  },
  {
   "cell_type": "code",
   "execution_count": 587,
   "outputs": [
    {
     "data": {
      "text/plain": "   Log_Sale  LotArea Street Alley LotShape LandContour  Utilities LotConfig  \\\n0         2      1.0      0     1        0           0          0         0   \n1         2      2.0      0     1        0           0          0         1   \n2         3      2.0      0     1        1           0          0         0   \n3         1      2.0      0     1        1           0          0         2   \n4         3      3.0      0     1        1           0          0         1   \n\n  LandSlope Neighborhood  ... WoodDeckSF PoolQC  Fence MiscFeature  SaleType  \\\n0         0            0  ...          0     Gd  MnPrv        Shed        WD   \n1         0            1  ...        298     Gd  MnPrv        Shed        WD   \n2         0            0  ...          0     Gd  MnPrv        Shed        WD   \n3         0            2  ...          0     Gd  MnPrv        Shed        WD   \n4         0            3  ...        192     Gd  MnPrv        Shed        WD   \n\n   SaleCondition  Id MSZoning        SaleBand         LotAreaBand  \n0         Normal   1       RL  (17.31, 17.71]    (7500.0, 9450.0]  \n1         Normal   2       RL  (17.31, 17.71]   (9450.0, 11500.0]  \n2         Normal   3       RL  (17.71, 19.53]   (9450.0, 11500.0]  \n3        Abnorml   4       RL  (16.99, 17.31]   (9450.0, 11500.0]  \n4         Normal   5       RL  (17.71, 19.53]  (11500.0, 46589.0]  \n\n[5 rows x 62 columns]",
      "text/html": "<div>\n<style scoped>\n    .dataframe tbody tr th:only-of-type {\n        vertical-align: middle;\n    }\n\n    .dataframe tbody tr th {\n        vertical-align: top;\n    }\n\n    .dataframe thead th {\n        text-align: right;\n    }\n</style>\n<table border=\"1\" class=\"dataframe\">\n  <thead>\n    <tr style=\"text-align: right;\">\n      <th></th>\n      <th>Log_Sale</th>\n      <th>LotArea</th>\n      <th>Street</th>\n      <th>Alley</th>\n      <th>LotShape</th>\n      <th>LandContour</th>\n      <th>Utilities</th>\n      <th>LotConfig</th>\n      <th>LandSlope</th>\n      <th>Neighborhood</th>\n      <th>...</th>\n      <th>WoodDeckSF</th>\n      <th>PoolQC</th>\n      <th>Fence</th>\n      <th>MiscFeature</th>\n      <th>SaleType</th>\n      <th>SaleCondition</th>\n      <th>Id</th>\n      <th>MSZoning</th>\n      <th>SaleBand</th>\n      <th>LotAreaBand</th>\n    </tr>\n  </thead>\n  <tbody>\n    <tr>\n      <th>0</th>\n      <td>2</td>\n      <td>1.0</td>\n      <td>0</td>\n      <td>1</td>\n      <td>0</td>\n      <td>0</td>\n      <td>0</td>\n      <td>0</td>\n      <td>0</td>\n      <td>0</td>\n      <td>...</td>\n      <td>0</td>\n      <td>Gd</td>\n      <td>MnPrv</td>\n      <td>Shed</td>\n      <td>WD</td>\n      <td>Normal</td>\n      <td>1</td>\n      <td>RL</td>\n      <td>(17.31, 17.71]</td>\n      <td>(7500.0, 9450.0]</td>\n    </tr>\n    <tr>\n      <th>1</th>\n      <td>2</td>\n      <td>2.0</td>\n      <td>0</td>\n      <td>1</td>\n      <td>0</td>\n      <td>0</td>\n      <td>0</td>\n      <td>1</td>\n      <td>0</td>\n      <td>1</td>\n      <td>...</td>\n      <td>298</td>\n      <td>Gd</td>\n      <td>MnPrv</td>\n      <td>Shed</td>\n      <td>WD</td>\n      <td>Normal</td>\n      <td>2</td>\n      <td>RL</td>\n      <td>(17.31, 17.71]</td>\n      <td>(9450.0, 11500.0]</td>\n    </tr>\n    <tr>\n      <th>2</th>\n      <td>3</td>\n      <td>2.0</td>\n      <td>0</td>\n      <td>1</td>\n      <td>1</td>\n      <td>0</td>\n      <td>0</td>\n      <td>0</td>\n      <td>0</td>\n      <td>0</td>\n      <td>...</td>\n      <td>0</td>\n      <td>Gd</td>\n      <td>MnPrv</td>\n      <td>Shed</td>\n      <td>WD</td>\n      <td>Normal</td>\n      <td>3</td>\n      <td>RL</td>\n      <td>(17.71, 19.53]</td>\n      <td>(9450.0, 11500.0]</td>\n    </tr>\n    <tr>\n      <th>3</th>\n      <td>1</td>\n      <td>2.0</td>\n      <td>0</td>\n      <td>1</td>\n      <td>1</td>\n      <td>0</td>\n      <td>0</td>\n      <td>2</td>\n      <td>0</td>\n      <td>2</td>\n      <td>...</td>\n      <td>0</td>\n      <td>Gd</td>\n      <td>MnPrv</td>\n      <td>Shed</td>\n      <td>WD</td>\n      <td>Abnorml</td>\n      <td>4</td>\n      <td>RL</td>\n      <td>(16.99, 17.31]</td>\n      <td>(9450.0, 11500.0]</td>\n    </tr>\n    <tr>\n      <th>4</th>\n      <td>3</td>\n      <td>3.0</td>\n      <td>0</td>\n      <td>1</td>\n      <td>1</td>\n      <td>0</td>\n      <td>0</td>\n      <td>1</td>\n      <td>0</td>\n      <td>3</td>\n      <td>...</td>\n      <td>192</td>\n      <td>Gd</td>\n      <td>MnPrv</td>\n      <td>Shed</td>\n      <td>WD</td>\n      <td>Normal</td>\n      <td>5</td>\n      <td>RL</td>\n      <td>(17.71, 19.53]</td>\n      <td>(11500.0, 46589.0]</td>\n    </tr>\n  </tbody>\n</table>\n<p>5 rows × 62 columns</p>\n</div>"
     },
     "execution_count": 587,
     "metadata": {},
     "output_type": "execute_result"
    }
   ],
   "source": [
    "train_df.head()"
   ],
   "metadata": {
    "collapsed": false,
    "pycharm": {
     "name": "#%%\n"
    }
   }
  },
  {
   "cell_type": "code",
   "execution_count": 581,
   "outputs": [],
   "source": [
    "train_df['Log_Sale'] = train_df['Log_Sale'].round(2)"
   ],
   "metadata": {
    "collapsed": false,
    "pycharm": {
     "name": "#%%\n"
    }
   }
  },
  {
   "cell_type": "code",
   "execution_count": null,
   "outputs": [],
   "source": [
    "train_df['SaleBand'] = pd.qcut(train_df['Log_Sale'], 4)\n",
    "train_df[['SaleBand', 'Log_Sale']].groupby('SaleBand', as_index=False).mean().sort_values(by='SaleBand', ascending=True)"
   ],
   "metadata": {
    "collapsed": false,
    "pycharm": {
     "name": "#%%\n",
     "is_executing": true
    }
   }
  },
  {
   "cell_type": "code",
   "execution_count": 579,
   "outputs": [],
   "source": [
    "train_df.loc[(train_df['Log_Sale'] <= 16.99), 'Log_Sale'] = 0\n",
    "train_df.loc[(train_df['Log_Sale'] > 16.99) & (train_df['Log_Sale'] <= 17.31), 'Log_Sale'] = 1\n",
    "train_df.loc[(train_df['Log_Sale'] > 17.31) & (train_df['Log_Sale'] <= 17.71), 'Log_Sale'] = 2\n",
    "train_df.loc[(train_df['Log_Sale'] > 17.71), 'Log_Sale'] = 3"
   ],
   "metadata": {
    "collapsed": false,
    "pycharm": {
     "name": "#%%\n"
    }
   }
  },
  {
   "cell_type": "code",
   "execution_count": null,
   "outputs": [],
   "source": [
    "train_df['LotAreaBand'] = pd.qcut(train_df['LotArea'], 4)\n",
    "train_df[['LotAreaBand', 'Log_Sale']].groupby('LotAreaBand', as_index=False).mean().sort_values(by='LotAreaBand', ascending=True)"
   ],
   "metadata": {
    "collapsed": false,
    "pycharm": {
     "name": "#%%\n",
     "is_executing": true
    }
   }
  },
  {
   "cell_type": "code",
   "execution_count": 586,
   "outputs": [],
   "source": [
    "train_df.loc[(train_df['LotArea'] <= 7500.0), 'LotArea'] = 0\n",
    "train_df.loc[(train_df['LotArea'] > 7500.0) & (train_df['LotArea'] <= 9450.0), 'LotArea'] = 1\n",
    "train_df.loc[(train_df['LotArea'] > 9450.0) & (train_df['LotArea'] <= 11500.0), 'LotArea'] = 2\n",
    "train_df.loc[(train_df['LotArea'] > 11500.0), 'LotArea'] = 3"
   ],
   "metadata": {
    "collapsed": false,
    "pycharm": {
     "name": "#%%\n"
    }
   }
  },
  {
   "cell_type": "code",
   "execution_count": null,
   "outputs": [],
   "source": [
    "train_df['Street'].unique()"
   ],
   "metadata": {
    "collapsed": false,
    "pycharm": {
     "name": "#%%\n",
     "is_executing": true
    }
   }
  },
  {
   "cell_type": "code",
   "execution_count": 532,
   "outputs": [],
   "source": [
    "train_df.loc[(train_df['Street']  == 'Pave'), 'Street'] = 0\n",
    "train_df.loc[(train_df['Street']  == 'Grvl'), 'Street'] = 1"
   ],
   "metadata": {
    "collapsed": false,
    "pycharm": {
     "name": "#%%\n"
    }
   }
  },
  {
   "cell_type": "code",
   "execution_count": null,
   "outputs": [],
   "source": [
    "train_df['Alley'].unique()"
   ],
   "metadata": {
    "collapsed": false,
    "pycharm": {
     "name": "#%%\n",
     "is_executing": true
    }
   }
  },
  {
   "cell_type": "code",
   "execution_count": 534,
   "outputs": [],
   "source": [
    "train_df.loc[(train_df['Alley']  == 'Pave'), 'Alley'] = 0\n",
    "train_df.loc[(train_df['Alley']  == 'Grvl'), 'Alley'] = 1"
   ],
   "metadata": {
    "collapsed": false,
    "pycharm": {
     "name": "#%%\n"
    }
   }
  },
  {
   "cell_type": "code",
   "execution_count": null,
   "outputs": [],
   "source": [
    "train_df['LotShape'].unique()"
   ],
   "metadata": {
    "collapsed": false,
    "pycharm": {
     "name": "#%%\n",
     "is_executing": true
    }
   }
  },
  {
   "cell_type": "code",
   "execution_count": 536,
   "outputs": [],
   "source": [
    "train_df.loc[(train_df['LotShape']  == 'Reg'), 'LotShape'] = 0\n",
    "train_df.loc[(train_df['LotShape']  == 'IR1'), 'LotShape'] = 1\n",
    "train_df.loc[(train_df['LotShape']  == 'IR2'), 'LotShape'] = 2\n",
    "train_df.loc[(train_df['LotShape']  == 'IR3'), 'LotShape'] = 3"
   ],
   "metadata": {
    "collapsed": false,
    "pycharm": {
     "name": "#%%\n"
    }
   }
  },
  {
   "cell_type": "code",
   "execution_count": null,
   "outputs": [],
   "source": [
    "train_df['LandContour'].unique()"
   ],
   "metadata": {
    "collapsed": false,
    "pycharm": {
     "name": "#%%\n",
     "is_executing": true
    }
   }
  },
  {
   "cell_type": "code",
   "execution_count": 538,
   "outputs": [],
   "source": [
    "train_df.loc[(train_df['LandContour']  == 'Lvl'), 'LandContour'] = 0\n",
    "train_df.loc[(train_df['LandContour']  == 'Bnk'), 'LandContour'] = 1\n",
    "train_df.loc[(train_df['LandContour']  == 'Low'), 'LandContour'] = 2\n",
    "train_df.loc[(train_df['LandContour']  == 'HLS'), 'LandContour'] = 3"
   ],
   "metadata": {
    "collapsed": false,
    "pycharm": {
     "name": "#%%\n"
    }
   }
  },
  {
   "cell_type": "code",
   "execution_count": null,
   "outputs": [],
   "source": [
    "train_df['Utilities'].unique()"
   ],
   "metadata": {
    "collapsed": false,
    "pycharm": {
     "name": "#%%\n",
     "is_executing": true
    }
   }
  },
  {
   "cell_type": "code",
   "execution_count": 540,
   "outputs": [],
   "source": [
    "train_df['Utilities'] = pd.get_dummies(train_df['Utilities'], drop_first=True)"
   ],
   "metadata": {
    "collapsed": false,
    "pycharm": {
     "name": "#%%\n"
    }
   }
  },
  {
   "cell_type": "code",
   "execution_count": null,
   "outputs": [],
   "source": [
    "train_df['LotConfig'].unique()"
   ],
   "metadata": {
    "collapsed": false,
    "pycharm": {
     "name": "#%%\n",
     "is_executing": true
    }
   }
  },
  {
   "cell_type": "code",
   "execution_count": 542,
   "outputs": [],
   "source": [
    "train_df.loc[(train_df['LotConfig']  == 'Inside'), 'LotConfig'] = 0\n",
    "train_df.loc[(train_df['LotConfig']  == 'FR2'), 'LotConfig'] = 1\n",
    "train_df.loc[(train_df['LotConfig']  == 'Corner'), 'LotConfig'] = 2\n",
    "train_df.loc[(train_df['LotConfig']  == 'CulDSac'), 'LotConfig'] = 3\n",
    "train_df.loc[(train_df['LotConfig']  == 'FR3'), 'LotConfig'] = 4"
   ],
   "metadata": {
    "collapsed": false,
    "pycharm": {
     "name": "#%%\n"
    }
   }
  },
  {
   "cell_type": "code",
   "execution_count": null,
   "outputs": [],
   "source": [
    "train_df['LandSlope'].unique()"
   ],
   "metadata": {
    "collapsed": false,
    "pycharm": {
     "name": "#%%\n",
     "is_executing": true
    }
   }
  },
  {
   "cell_type": "code",
   "execution_count": 544,
   "outputs": [],
   "source": [
    "train_df.loc[(train_df['LandSlope']  == 'Gtl'), 'LandSlope'] = 0\n",
    "train_df.loc[(train_df['LandSlope']  == 'Mod'), 'LandSlope'] = 1\n",
    "train_df.loc[(train_df['LandSlope']  == 'Sev'), 'LandSlope'] = 2"
   ],
   "metadata": {
    "collapsed": false,
    "pycharm": {
     "name": "#%%\n"
    }
   }
  },
  {
   "cell_type": "code",
   "execution_count": null,
   "outputs": [],
   "source": [
    "train_df['Neighborhood'].unique()"
   ],
   "metadata": {
    "collapsed": false,
    "pycharm": {
     "name": "#%%\n",
     "is_executing": true
    }
   }
  },
  {
   "cell_type": "code",
   "execution_count": 546,
   "outputs": [],
   "source": [
    "train_df.loc[(train_df['Neighborhood']  == 'CollgCr'), 'Neighborhood'] = 0\n",
    "train_df.loc[(train_df['Neighborhood']  == 'Veenker'), 'Neighborhood'] = 1\n",
    "train_df.loc[(train_df['Neighborhood']  == 'Crawfor'), 'Neighborhood'] = 2\n",
    "train_df.loc[(train_df['Neighborhood']  == 'NoRidge'), 'Neighborhood'] = 3\n",
    "train_df.loc[(train_df['Neighborhood']  == 'Mitchel'), 'Neighborhood'] = 4\n",
    "train_df.loc[(train_df['Neighborhood']  == 'Somerst'), 'Neighborhood'] = 5\n",
    "train_df.loc[(train_df['Neighborhood']  == 'NWAmes'), 'Neighborhood'] = 6\n",
    "train_df.loc[(train_df['Neighborhood']  == 'OldTown'), 'Neighborhood'] = 7\n",
    "train_df.loc[(train_df['Neighborhood']  == 'BrkSide'), 'Neighborhood'] = 8\n",
    "train_df.loc[(train_df['Neighborhood']  == 'Sawyer'), 'Neighborhood'] = 9\n",
    "train_df.loc[(train_df['Neighborhood']  == 'NridgHt'), 'Neighborhood'] = 10"
   ],
   "metadata": {
    "collapsed": false,
    "pycharm": {
     "name": "#%%\n"
    }
   }
  },
  {
   "cell_type": "code",
   "execution_count": null,
   "outputs": [],
   "source": [
    "train_df['Condition1'].unique()"
   ],
   "metadata": {
    "collapsed": false,
    "pycharm": {
     "name": "#%%\n",
     "is_executing": true
    }
   }
  },
  {
   "cell_type": "code",
   "execution_count": 548,
   "outputs": [],
   "source": [
    "train_df.loc[(train_df['Condition1']  == 'Norm'), 'Condition1'] = 0\n",
    "train_df.loc[(train_df['Condition1']  == 'Feedr'), 'Condition1'] = 1\n",
    "train_df.loc[(train_df['Condition1']  == 'PosN'), 'Condition1'] = 2\n",
    "train_df.loc[(train_df['Condition1']  == 'RRAe'), 'Condition1'] = 3\n",
    "train_df.loc[(train_df['Condition1']  == 'RRNn'), 'Condition1'] = 4\n",
    "train_df.loc[(train_df['Condition1']  == 'RRAn'), 'Condition1'] = 5\n",
    "train_df.loc[(train_df['Condition1']  == 'PosA'), 'Condition1'] = 6\n",
    "train_df.loc[(train_df['Condition1']  == 'RRNe'), 'Condition1'] = 7\n",
    "train_df.loc[(train_df['Condition1']  == 'Artery'), 'Condition1'] = 8"
   ],
   "metadata": {
    "collapsed": false,
    "pycharm": {
     "name": "#%%\n"
    }
   }
  },
  {
   "cell_type": "code",
   "execution_count": null,
   "outputs": [],
   "source": [
    "train_df['Condition2'].unique()"
   ],
   "metadata": {
    "collapsed": false,
    "pycharm": {
     "name": "#%%\n",
     "is_executing": true
    }
   }
  },
  {
   "cell_type": "code",
   "execution_count": 550,
   "outputs": [],
   "source": [
    "train_df.loc[(train_df['Condition2']  == 'Norm'), 'Condition2'] = 0\n",
    "train_df.loc[(train_df['Condition2']  == 'Artery'), 'Condition2'] = 1\n",
    "train_df.loc[(train_df['Condition2']  == 'RRNn'), 'Condition2'] = 2\n",
    "train_df.loc[(train_df['Condition2']  == 'Feedr'), 'Condition2'] = 3\n",
    "train_df.loc[(train_df['Condition2']  == 'PosN'), 'Condition2'] = 4\n",
    "train_df.loc[(train_df['Condition2']  == 'PosA'), 'Condition2'] = 5\n",
    "train_df.loc[(train_df['Condition2']  == 'RRAn'), 'Condition2'] = 6\n",
    "train_df.loc[(train_df['Condition2']  == 'RRAe'), 'Condition2'] = 7"
   ],
   "metadata": {
    "collapsed": false,
    "pycharm": {
     "name": "#%%\n"
    }
   }
  },
  {
   "cell_type": "code",
   "execution_count": null,
   "outputs": [],
   "source": [
    "train_df['BldgType'].unique()"
   ],
   "metadata": {
    "collapsed": false,
    "pycharm": {
     "name": "#%%\n",
     "is_executing": true
    }
   }
  },
  {
   "cell_type": "code",
   "execution_count": 558,
   "outputs": [],
   "source": [
    "train_df.loc[(train_df['BldgType']  == '1Fam'), 'BldgType'] = 0\n",
    "train_df.loc[(train_df['BldgType']  == '2fmCon'), 'BldgType'] = 1\n",
    "train_df.loc[(train_df['BldgType']  == 'Duplex'), 'BldgType'] = 2\n",
    "train_df.loc[(train_df['BldgType']  == 'TwnhsE'), 'BldgType'] = 3\n",
    "train_df.loc[(train_df['BldgType']  == 'Twnhs'), 'BldgType'] = 4"
   ],
   "metadata": {
    "collapsed": false,
    "pycharm": {
     "name": "#%%\n"
    }
   }
  },
  {
   "cell_type": "code",
   "execution_count": null,
   "outputs": [],
   "source": [
    "train_df['HouseStyle'].unique()"
   ],
   "metadata": {
    "collapsed": false,
    "pycharm": {
     "name": "#%%\n",
     "is_executing": true
    }
   }
  },
  {
   "cell_type": "code",
   "execution_count": 561,
   "outputs": [],
   "source": [
    "train_df.loc[(train_df['HouseStyle']  == '2Story'), 'HouseStyle'] = 0\n",
    "train_df.loc[(train_df['HouseStyle']  == '1Story'), 'HouseStyle'] = 1\n",
    "train_df.loc[(train_df['HouseStyle']  == '1.5Fin'), 'HouseStyle'] = 2\n",
    "train_df.loc[(train_df['HouseStyle']  == '1.5Unf'), 'HouseStyle'] = 3\n",
    "train_df.loc[(train_df['HouseStyle']  == 'SFoyer'), 'HouseStyle'] = 4\n",
    "train_df.loc[(train_df['HouseStyle']  == 'SLvl'), 'HouseStyle'] = 5\n",
    "train_df.loc[(train_df['HouseStyle']  == '2.5Unf'), 'HouseStyle'] = 6\n",
    "train_df.loc[(train_df['HouseStyle']  == '2.5Fin'), 'HouseStyle'] = 7"
   ],
   "metadata": {
    "collapsed": false,
    "pycharm": {
     "name": "#%%\n"
    }
   }
  },
  {
   "cell_type": "code",
   "execution_count": 594,
   "outputs": [
    {
     "data": {
      "text/plain": "   Log_Sale  LotArea Street Alley LotShape LandContour  Utilities LotConfig  \\\n0         2      1.0      0     1        0           0          0         0   \n1         2      2.0      0     1        0           0          0         1   \n2         3      2.0      0     1        1           0          0         0   \n3         1      2.0      0     1        1           0          0         2   \n4         3      3.0      0     1        1           0          0         1   \n\n  LandSlope Neighborhood  ... PoolQC  Fence MiscFeature SaleType  \\\n0         0            0  ...     Gd  MnPrv        Shed       WD   \n1         0            1  ...     Gd  MnPrv        Shed       WD   \n2         0            0  ...     Gd  MnPrv        Shed       WD   \n3         0            2  ...     Gd  MnPrv        Shed       WD   \n4         0            3  ...     Gd  MnPrv        Shed       WD   \n\n   SaleCondition  Id  MSZoning        SaleBand         LotAreaBand  \\\n0         Normal   1        RL  (17.31, 17.71]    (7500.0, 9450.0]   \n1         Normal   2        RL  (17.31, 17.71]   (9450.0, 11500.0]   \n2         Normal   3        RL  (17.71, 19.53]   (9450.0, 11500.0]   \n3        Abnorml   4        RL  (16.99, 17.31]   (9450.0, 11500.0]   \n4         Normal   5        RL  (17.71, 19.53]  (11500.0, 46589.0]   \n\n      OverBand  \n0   (6.0, 7.0]  \n1   (5.0, 6.0]  \n2   (6.0, 7.0]  \n3   (6.0, 7.0]  \n4  (7.0, 10.0]  \n\n[5 rows x 63 columns]",
      "text/html": "<div>\n<style scoped>\n    .dataframe tbody tr th:only-of-type {\n        vertical-align: middle;\n    }\n\n    .dataframe tbody tr th {\n        vertical-align: top;\n    }\n\n    .dataframe thead th {\n        text-align: right;\n    }\n</style>\n<table border=\"1\" class=\"dataframe\">\n  <thead>\n    <tr style=\"text-align: right;\">\n      <th></th>\n      <th>Log_Sale</th>\n      <th>LotArea</th>\n      <th>Street</th>\n      <th>Alley</th>\n      <th>LotShape</th>\n      <th>LandContour</th>\n      <th>Utilities</th>\n      <th>LotConfig</th>\n      <th>LandSlope</th>\n      <th>Neighborhood</th>\n      <th>...</th>\n      <th>PoolQC</th>\n      <th>Fence</th>\n      <th>MiscFeature</th>\n      <th>SaleType</th>\n      <th>SaleCondition</th>\n      <th>Id</th>\n      <th>MSZoning</th>\n      <th>SaleBand</th>\n      <th>LotAreaBand</th>\n      <th>OverBand</th>\n    </tr>\n  </thead>\n  <tbody>\n    <tr>\n      <th>0</th>\n      <td>2</td>\n      <td>1.0</td>\n      <td>0</td>\n      <td>1</td>\n      <td>0</td>\n      <td>0</td>\n      <td>0</td>\n      <td>0</td>\n      <td>0</td>\n      <td>0</td>\n      <td>...</td>\n      <td>Gd</td>\n      <td>MnPrv</td>\n      <td>Shed</td>\n      <td>WD</td>\n      <td>Normal</td>\n      <td>1</td>\n      <td>RL</td>\n      <td>(17.31, 17.71]</td>\n      <td>(7500.0, 9450.0]</td>\n      <td>(6.0, 7.0]</td>\n    </tr>\n    <tr>\n      <th>1</th>\n      <td>2</td>\n      <td>2.0</td>\n      <td>0</td>\n      <td>1</td>\n      <td>0</td>\n      <td>0</td>\n      <td>0</td>\n      <td>1</td>\n      <td>0</td>\n      <td>1</td>\n      <td>...</td>\n      <td>Gd</td>\n      <td>MnPrv</td>\n      <td>Shed</td>\n      <td>WD</td>\n      <td>Normal</td>\n      <td>2</td>\n      <td>RL</td>\n      <td>(17.31, 17.71]</td>\n      <td>(9450.0, 11500.0]</td>\n      <td>(5.0, 6.0]</td>\n    </tr>\n    <tr>\n      <th>2</th>\n      <td>3</td>\n      <td>2.0</td>\n      <td>0</td>\n      <td>1</td>\n      <td>1</td>\n      <td>0</td>\n      <td>0</td>\n      <td>0</td>\n      <td>0</td>\n      <td>0</td>\n      <td>...</td>\n      <td>Gd</td>\n      <td>MnPrv</td>\n      <td>Shed</td>\n      <td>WD</td>\n      <td>Normal</td>\n      <td>3</td>\n      <td>RL</td>\n      <td>(17.71, 19.53]</td>\n      <td>(9450.0, 11500.0]</td>\n      <td>(6.0, 7.0]</td>\n    </tr>\n    <tr>\n      <th>3</th>\n      <td>1</td>\n      <td>2.0</td>\n      <td>0</td>\n      <td>1</td>\n      <td>1</td>\n      <td>0</td>\n      <td>0</td>\n      <td>2</td>\n      <td>0</td>\n      <td>2</td>\n      <td>...</td>\n      <td>Gd</td>\n      <td>MnPrv</td>\n      <td>Shed</td>\n      <td>WD</td>\n      <td>Abnorml</td>\n      <td>4</td>\n      <td>RL</td>\n      <td>(16.99, 17.31]</td>\n      <td>(9450.0, 11500.0]</td>\n      <td>(6.0, 7.0]</td>\n    </tr>\n    <tr>\n      <th>4</th>\n      <td>3</td>\n      <td>3.0</td>\n      <td>0</td>\n      <td>1</td>\n      <td>1</td>\n      <td>0</td>\n      <td>0</td>\n      <td>1</td>\n      <td>0</td>\n      <td>3</td>\n      <td>...</td>\n      <td>Gd</td>\n      <td>MnPrv</td>\n      <td>Shed</td>\n      <td>WD</td>\n      <td>Normal</td>\n      <td>5</td>\n      <td>RL</td>\n      <td>(17.71, 19.53]</td>\n      <td>(11500.0, 46589.0]</td>\n      <td>(7.0, 10.0]</td>\n    </tr>\n  </tbody>\n</table>\n<p>5 rows × 63 columns</p>\n</div>"
     },
     "execution_count": 594,
     "metadata": {},
     "output_type": "execute_result"
    }
   ],
   "source": [
    "train_df.head()"
   ],
   "metadata": {
    "collapsed": false,
    "pycharm": {
     "name": "#%%\n"
    }
   }
  },
  {
   "cell_type": "code",
   "execution_count": null,
   "outputs": [],
   "source": [
    "train_df['OverBand'] = pd.qcut(train_df['OverallQual'], 4)\n",
    "train_df[['OverBand', 'Log_Sale']].groupby('OverBand', as_index=False).mean().sort_values(by='OverBand', ascending=True)"
   ],
   "metadata": {
    "collapsed": false,
    "pycharm": {
     "name": "#%%\n",
     "is_executing": true
    }
   }
  },
  {
   "cell_type": "code",
   "execution_count": 593,
   "outputs": [],
   "source": [
    "train_df.loc[(train_df['OverallQual'] <= 5.0), 'OverallQual'] = 0\n",
    "train_df.loc[(train_df['OverallQual'] > 5.0) & (train_df['OverallQual'] <= 6.0), 'OverallQual'] = 1\n",
    "train_df.loc[(train_df['OverallQual'] > 6.0) & (train_df['OverallQual'] <= 7.0), 'OverallQual'] = 2\n",
    "train_df.loc[(train_df['OverallQual'] > 7.0), 'OverallQual'] = 3"
   ],
   "metadata": {
    "collapsed": false,
    "pycharm": {
     "name": "#%%\n"
    }
   }
  },
  {
   "cell_type": "markdown",
   "source": [
    "<h1> Creating the Model</h1>"
   ],
   "metadata": {
    "collapsed": false,
    "pycharm": {
     "name": "#%% md\n"
    }
   }
  },
  {
   "cell_type": "markdown",
   "source": [
    "There are many libraries for making models, I try to use some of the best known ones to make the best decision, as here I always try to improve my knowledge, here are the ones I will use in this challenge\n",
    "\n",
    "I will rearrange the columns to make our target variable stand out"
   ],
   "metadata": {
    "collapsed": false,
    "pycharm": {
     "name": "#%% md\n"
    }
   }
  },
  {
   "cell_type": "code",
   "execution_count": 551,
   "outputs": [
    {
     "name": "stdout",
     "output_type": "stream",
     "text": [
      "Index(['MSZoning', 'LotArea', 'Street', 'Alley', 'LotShape', 'LandContour',\n",
      "       'Utilities', 'LotConfig', 'LandSlope', 'Neighborhood', 'Condition1',\n",
      "       'Condition2', 'BldgType', 'HouseStyle', 'OverallQual', 'YearBuilt',\n",
      "       'YearRemodAdd', 'RoofStyle', 'RoofMatl', 'Exterior1st', 'Exterior2nd',\n",
      "       'MasVnrType', 'ExterQual', 'ExterCond', 'Foundation', 'BsmtQual',\n",
      "       'BsmtCond', 'BsmtExposure', 'BsmtFinType1', 'BsmtFinType2', 'BsmtUnfSF',\n",
      "       'TotalBsmtSF', 'Heating', 'HeatingQC', 'CentralAir', 'Electrical',\n",
      "       'GrLivArea', 'BsmtFullBath', 'FullBath', 'HalfBath', 'BedroomAbvGr',\n",
      "       'KitchenQual', 'TotRmsAbvGrd', 'Functional', 'Fireplaces',\n",
      "       'FireplaceQu', 'GarageType', 'GarageFinish', 'GarageArea', 'GarageQual',\n",
      "       'GarageCond', 'PavedDrive', 'WoodDeckSF', 'PoolQC', 'Fence',\n",
      "       'MiscFeature', 'SaleType', 'SaleCondition', 'Id', 'Log_Sale'],\n",
      "      dtype='object')\n"
     ]
    }
   ],
   "source": [
    "print(train_df.columns)"
   ],
   "metadata": {
    "collapsed": false,
    "pycharm": {
     "name": "#%%\n"
    }
   }
  },
  {
   "cell_type": "code",
   "execution_count": 552,
   "outputs": [
    {
     "data": {
      "text/plain": "    Log_Sale  LotArea Street Alley LotShape LandContour  Utilities LotConfig  \\\n0  17.669688   8450.0      0     1        0           0          0         0   \n1  17.469610   9600.0      0     1        0           0          0         1   \n2  17.769915  11250.0      0     1        1           0          0         0   \n3  17.095067   9550.0      0     1        1           0          0         2   \n4  17.931569  14260.0      0     1        1           0          0         1   \n\n  LandSlope Neighborhood  ... GarageCond PavedDrive WoodDeckSF PoolQC  Fence  \\\n0         0            0  ...         TA          Y          0     Gd  MnPrv   \n1         0            1  ...         TA          Y        298     Gd  MnPrv   \n2         0            0  ...         TA          Y          0     Gd  MnPrv   \n3         0            2  ...         TA          Y          0     Gd  MnPrv   \n4         0            3  ...         TA          Y        192     Gd  MnPrv   \n\n   MiscFeature  SaleType SaleCondition Id MSZoning  \n0         Shed        WD        Normal  1       RL  \n1         Shed        WD        Normal  2       RL  \n2         Shed        WD        Normal  3       RL  \n3         Shed        WD       Abnorml  4       RL  \n4         Shed        WD        Normal  5       RL  \n\n[5 rows x 60 columns]",
      "text/html": "<div>\n<style scoped>\n    .dataframe tbody tr th:only-of-type {\n        vertical-align: middle;\n    }\n\n    .dataframe tbody tr th {\n        vertical-align: top;\n    }\n\n    .dataframe thead th {\n        text-align: right;\n    }\n</style>\n<table border=\"1\" class=\"dataframe\">\n  <thead>\n    <tr style=\"text-align: right;\">\n      <th></th>\n      <th>Log_Sale</th>\n      <th>LotArea</th>\n      <th>Street</th>\n      <th>Alley</th>\n      <th>LotShape</th>\n      <th>LandContour</th>\n      <th>Utilities</th>\n      <th>LotConfig</th>\n      <th>LandSlope</th>\n      <th>Neighborhood</th>\n      <th>...</th>\n      <th>GarageCond</th>\n      <th>PavedDrive</th>\n      <th>WoodDeckSF</th>\n      <th>PoolQC</th>\n      <th>Fence</th>\n      <th>MiscFeature</th>\n      <th>SaleType</th>\n      <th>SaleCondition</th>\n      <th>Id</th>\n      <th>MSZoning</th>\n    </tr>\n  </thead>\n  <tbody>\n    <tr>\n      <th>0</th>\n      <td>17.669688</td>\n      <td>8450.0</td>\n      <td>0</td>\n      <td>1</td>\n      <td>0</td>\n      <td>0</td>\n      <td>0</td>\n      <td>0</td>\n      <td>0</td>\n      <td>0</td>\n      <td>...</td>\n      <td>TA</td>\n      <td>Y</td>\n      <td>0</td>\n      <td>Gd</td>\n      <td>MnPrv</td>\n      <td>Shed</td>\n      <td>WD</td>\n      <td>Normal</td>\n      <td>1</td>\n      <td>RL</td>\n    </tr>\n    <tr>\n      <th>1</th>\n      <td>17.469610</td>\n      <td>9600.0</td>\n      <td>0</td>\n      <td>1</td>\n      <td>0</td>\n      <td>0</td>\n      <td>0</td>\n      <td>1</td>\n      <td>0</td>\n      <td>1</td>\n      <td>...</td>\n      <td>TA</td>\n      <td>Y</td>\n      <td>298</td>\n      <td>Gd</td>\n      <td>MnPrv</td>\n      <td>Shed</td>\n      <td>WD</td>\n      <td>Normal</td>\n      <td>2</td>\n      <td>RL</td>\n    </tr>\n    <tr>\n      <th>2</th>\n      <td>17.769915</td>\n      <td>11250.0</td>\n      <td>0</td>\n      <td>1</td>\n      <td>1</td>\n      <td>0</td>\n      <td>0</td>\n      <td>0</td>\n      <td>0</td>\n      <td>0</td>\n      <td>...</td>\n      <td>TA</td>\n      <td>Y</td>\n      <td>0</td>\n      <td>Gd</td>\n      <td>MnPrv</td>\n      <td>Shed</td>\n      <td>WD</td>\n      <td>Normal</td>\n      <td>3</td>\n      <td>RL</td>\n    </tr>\n    <tr>\n      <th>3</th>\n      <td>17.095067</td>\n      <td>9550.0</td>\n      <td>0</td>\n      <td>1</td>\n      <td>1</td>\n      <td>0</td>\n      <td>0</td>\n      <td>2</td>\n      <td>0</td>\n      <td>2</td>\n      <td>...</td>\n      <td>TA</td>\n      <td>Y</td>\n      <td>0</td>\n      <td>Gd</td>\n      <td>MnPrv</td>\n      <td>Shed</td>\n      <td>WD</td>\n      <td>Abnorml</td>\n      <td>4</td>\n      <td>RL</td>\n    </tr>\n    <tr>\n      <th>4</th>\n      <td>17.931569</td>\n      <td>14260.0</td>\n      <td>0</td>\n      <td>1</td>\n      <td>1</td>\n      <td>0</td>\n      <td>0</td>\n      <td>1</td>\n      <td>0</td>\n      <td>3</td>\n      <td>...</td>\n      <td>TA</td>\n      <td>Y</td>\n      <td>192</td>\n      <td>Gd</td>\n      <td>MnPrv</td>\n      <td>Shed</td>\n      <td>WD</td>\n      <td>Normal</td>\n      <td>5</td>\n      <td>RL</td>\n    </tr>\n  </tbody>\n</table>\n<p>5 rows × 60 columns</p>\n</div>"
     },
     "execution_count": 552,
     "metadata": {},
     "output_type": "execute_result"
    }
   ],
   "source": [
    "train_df = train_df[['Log_Sale', 'LotArea', 'Street', 'Alley', 'LotShape', 'LandContour',\n",
    "                     'Utilities', 'LotConfig', 'LandSlope', 'Neighborhood', 'Condition1',\n",
    "                     'Condition2', 'BldgType', 'HouseStyle', 'OverallQual', 'YearBuilt',\n",
    "                     'YearRemodAdd', 'RoofStyle', 'RoofMatl', 'Exterior1st', 'Exterior2nd',\n",
    "                     'MasVnrType', 'ExterQual', 'ExterCond', 'Foundation', 'BsmtQual',\n",
    "                     'BsmtCond', 'BsmtExposure', 'BsmtFinType1', 'BsmtFinType2', 'BsmtUnfSF',\n",
    "                     'TotalBsmtSF', 'Heating', 'HeatingQC', 'CentralAir', 'Electrical',\n",
    "                     'GrLivArea', 'BsmtFullBath', 'FullBath', 'HalfBath', 'BedroomAbvGr',\n",
    "                     'KitchenQual', 'TotRmsAbvGrd', 'Functional', 'Fireplaces',\n",
    "                     'FireplaceQu', 'GarageType', 'GarageFinish', 'GarageArea', 'GarageQual',\n",
    "                     'GarageCond', 'PavedDrive', 'WoodDeckSF', 'PoolQC', 'Fence',\n",
    "                     'MiscFeature', 'SaleType', 'SaleCondition', 'Id', 'MSZoning']]\n",
    "\n",
    "train_df.head()"
   ],
   "metadata": {
    "collapsed": false,
    "pycharm": {
     "name": "#%%\n"
    }
   }
  },
  {
   "cell_type": "code",
   "execution_count": 553,
   "outputs": [],
   "source": [
    "Xtrain = train_df.drop(columns='Log_Sale')\n",
    "Ytrain = train_df['Log_Sale']"
   ],
   "metadata": {
    "collapsed": false,
    "pycharm": {
     "name": "#%%\n"
    }
   }
  },
  {
   "cell_type": "markdown",
   "source": [
    "Now we divide it into training and test sets (test with 20% - 80/20, following the Pareto Principle)"
   ],
   "metadata": {
    "collapsed": false,
    "pycharm": {
     "name": "#%% md\n"
    }
   }
  },
  {
   "cell_type": "code",
   "execution_count": 554,
   "outputs": [],
   "source": [
    "x_train, x_test, y_train, y_test = train_test_split(Xtrain,Ytrain, test_size= 0.2, random_state=42)"
   ],
   "metadata": {
    "collapsed": false,
    "pycharm": {
     "name": "#%%\n"
    }
   }
  },
  {
   "cell_type": "code",
   "execution_count": 555,
   "outputs": [
    {
     "ename": "ValueError",
     "evalue": "could not convert string to float: 'NAmes'",
     "output_type": "error",
     "traceback": [
      "\u001B[1;31m---------------------------------------------------------------------------\u001B[0m",
      "\u001B[1;31mValueError\u001B[0m                                Traceback (most recent call last)",
      "\u001B[1;32m<ipython-input-555-7a5b4eafca45>\u001B[0m in \u001B[0;36m<module>\u001B[1;34m\u001B[0m\n\u001B[0;32m      2\u001B[0m \u001B[1;33m\u001B[0m\u001B[0m\n\u001B[0;32m      3\u001B[0m \u001B[0mlogreg\u001B[0m \u001B[1;33m=\u001B[0m \u001B[0mLogisticRegression\u001B[0m\u001B[1;33m(\u001B[0m\u001B[1;33m)\u001B[0m\u001B[1;33m\u001B[0m\u001B[1;33m\u001B[0m\u001B[0m\n\u001B[1;32m----> 4\u001B[1;33m \u001B[0mlogreg\u001B[0m\u001B[1;33m.\u001B[0m\u001B[0mfit\u001B[0m\u001B[1;33m(\u001B[0m\u001B[0mx_train\u001B[0m\u001B[1;33m,\u001B[0m\u001B[0my_train\u001B[0m\u001B[1;33m)\u001B[0m\u001B[1;33m\u001B[0m\u001B[1;33m\u001B[0m\u001B[0m\n\u001B[0m\u001B[0;32m      5\u001B[0m \u001B[0mY_pred\u001B[0m \u001B[1;33m=\u001B[0m \u001B[0mlogreg\u001B[0m\u001B[1;33m.\u001B[0m\u001B[0mpredict\u001B[0m\u001B[1;33m(\u001B[0m\u001B[0mx_test\u001B[0m\u001B[1;33m)\u001B[0m\u001B[1;33m\u001B[0m\u001B[1;33m\u001B[0m\u001B[0m\n\u001B[0;32m      6\u001B[0m \u001B[1;33m\u001B[0m\u001B[0m\n",
      "\u001B[1;32mC:\\ProgramData\\Anaconda3\\lib\\site-packages\\sklearn\\linear_model\\_logistic.py\u001B[0m in \u001B[0;36mfit\u001B[1;34m(self, X, y, sample_weight)\u001B[0m\n\u001B[0;32m   1342\u001B[0m             \u001B[0m_dtype\u001B[0m \u001B[1;33m=\u001B[0m \u001B[1;33m[\u001B[0m\u001B[0mnp\u001B[0m\u001B[1;33m.\u001B[0m\u001B[0mfloat64\u001B[0m\u001B[1;33m,\u001B[0m \u001B[0mnp\u001B[0m\u001B[1;33m.\u001B[0m\u001B[0mfloat32\u001B[0m\u001B[1;33m]\u001B[0m\u001B[1;33m\u001B[0m\u001B[1;33m\u001B[0m\u001B[0m\n\u001B[0;32m   1343\u001B[0m \u001B[1;33m\u001B[0m\u001B[0m\n\u001B[1;32m-> 1344\u001B[1;33m         X, y = self._validate_data(X, y, accept_sparse='csr', dtype=_dtype,\n\u001B[0m\u001B[0;32m   1345\u001B[0m                                    \u001B[0morder\u001B[0m\u001B[1;33m=\u001B[0m\u001B[1;34m\"C\"\u001B[0m\u001B[1;33m,\u001B[0m\u001B[1;33m\u001B[0m\u001B[1;33m\u001B[0m\u001B[0m\n\u001B[0;32m   1346\u001B[0m                                    accept_large_sparse=solver != 'liblinear')\n",
      "\u001B[1;32mC:\\ProgramData\\Anaconda3\\lib\\site-packages\\sklearn\\base.py\u001B[0m in \u001B[0;36m_validate_data\u001B[1;34m(self, X, y, reset, validate_separately, **check_params)\u001B[0m\n\u001B[0;32m    431\u001B[0m                 \u001B[0my\u001B[0m \u001B[1;33m=\u001B[0m \u001B[0mcheck_array\u001B[0m\u001B[1;33m(\u001B[0m\u001B[0my\u001B[0m\u001B[1;33m,\u001B[0m \u001B[1;33m**\u001B[0m\u001B[0mcheck_y_params\u001B[0m\u001B[1;33m)\u001B[0m\u001B[1;33m\u001B[0m\u001B[1;33m\u001B[0m\u001B[0m\n\u001B[0;32m    432\u001B[0m             \u001B[1;32melse\u001B[0m\u001B[1;33m:\u001B[0m\u001B[1;33m\u001B[0m\u001B[1;33m\u001B[0m\u001B[0m\n\u001B[1;32m--> 433\u001B[1;33m                 \u001B[0mX\u001B[0m\u001B[1;33m,\u001B[0m \u001B[0my\u001B[0m \u001B[1;33m=\u001B[0m \u001B[0mcheck_X_y\u001B[0m\u001B[1;33m(\u001B[0m\u001B[0mX\u001B[0m\u001B[1;33m,\u001B[0m \u001B[0my\u001B[0m\u001B[1;33m,\u001B[0m \u001B[1;33m**\u001B[0m\u001B[0mcheck_params\u001B[0m\u001B[1;33m)\u001B[0m\u001B[1;33m\u001B[0m\u001B[1;33m\u001B[0m\u001B[0m\n\u001B[0m\u001B[0;32m    434\u001B[0m             \u001B[0mout\u001B[0m \u001B[1;33m=\u001B[0m \u001B[0mX\u001B[0m\u001B[1;33m,\u001B[0m \u001B[0my\u001B[0m\u001B[1;33m\u001B[0m\u001B[1;33m\u001B[0m\u001B[0m\n\u001B[0;32m    435\u001B[0m \u001B[1;33m\u001B[0m\u001B[0m\n",
      "\u001B[1;32mC:\\ProgramData\\Anaconda3\\lib\\site-packages\\sklearn\\utils\\validation.py\u001B[0m in \u001B[0;36minner_f\u001B[1;34m(*args, **kwargs)\u001B[0m\n\u001B[0;32m     61\u001B[0m             \u001B[0mextra_args\u001B[0m \u001B[1;33m=\u001B[0m \u001B[0mlen\u001B[0m\u001B[1;33m(\u001B[0m\u001B[0margs\u001B[0m\u001B[1;33m)\u001B[0m \u001B[1;33m-\u001B[0m \u001B[0mlen\u001B[0m\u001B[1;33m(\u001B[0m\u001B[0mall_args\u001B[0m\u001B[1;33m)\u001B[0m\u001B[1;33m\u001B[0m\u001B[1;33m\u001B[0m\u001B[0m\n\u001B[0;32m     62\u001B[0m             \u001B[1;32mif\u001B[0m \u001B[0mextra_args\u001B[0m \u001B[1;33m<=\u001B[0m \u001B[1;36m0\u001B[0m\u001B[1;33m:\u001B[0m\u001B[1;33m\u001B[0m\u001B[1;33m\u001B[0m\u001B[0m\n\u001B[1;32m---> 63\u001B[1;33m                 \u001B[1;32mreturn\u001B[0m \u001B[0mf\u001B[0m\u001B[1;33m(\u001B[0m\u001B[1;33m*\u001B[0m\u001B[0margs\u001B[0m\u001B[1;33m,\u001B[0m \u001B[1;33m**\u001B[0m\u001B[0mkwargs\u001B[0m\u001B[1;33m)\u001B[0m\u001B[1;33m\u001B[0m\u001B[1;33m\u001B[0m\u001B[0m\n\u001B[0m\u001B[0;32m     64\u001B[0m \u001B[1;33m\u001B[0m\u001B[0m\n\u001B[0;32m     65\u001B[0m             \u001B[1;31m# extra_args > 0\u001B[0m\u001B[1;33m\u001B[0m\u001B[1;33m\u001B[0m\u001B[1;33m\u001B[0m\u001B[0m\n",
      "\u001B[1;32mC:\\ProgramData\\Anaconda3\\lib\\site-packages\\sklearn\\utils\\validation.py\u001B[0m in \u001B[0;36mcheck_X_y\u001B[1;34m(X, y, accept_sparse, accept_large_sparse, dtype, order, copy, force_all_finite, ensure_2d, allow_nd, multi_output, ensure_min_samples, ensure_min_features, y_numeric, estimator)\u001B[0m\n\u001B[0;32m    812\u001B[0m         \u001B[1;32mraise\u001B[0m \u001B[0mValueError\u001B[0m\u001B[1;33m(\u001B[0m\u001B[1;34m\"y cannot be None\"\u001B[0m\u001B[1;33m)\u001B[0m\u001B[1;33m\u001B[0m\u001B[1;33m\u001B[0m\u001B[0m\n\u001B[0;32m    813\u001B[0m \u001B[1;33m\u001B[0m\u001B[0m\n\u001B[1;32m--> 814\u001B[1;33m     X = check_array(X, accept_sparse=accept_sparse,\n\u001B[0m\u001B[0;32m    815\u001B[0m                     \u001B[0maccept_large_sparse\u001B[0m\u001B[1;33m=\u001B[0m\u001B[0maccept_large_sparse\u001B[0m\u001B[1;33m,\u001B[0m\u001B[1;33m\u001B[0m\u001B[1;33m\u001B[0m\u001B[0m\n\u001B[0;32m    816\u001B[0m                     \u001B[0mdtype\u001B[0m\u001B[1;33m=\u001B[0m\u001B[0mdtype\u001B[0m\u001B[1;33m,\u001B[0m \u001B[0morder\u001B[0m\u001B[1;33m=\u001B[0m\u001B[0morder\u001B[0m\u001B[1;33m,\u001B[0m \u001B[0mcopy\u001B[0m\u001B[1;33m=\u001B[0m\u001B[0mcopy\u001B[0m\u001B[1;33m,\u001B[0m\u001B[1;33m\u001B[0m\u001B[1;33m\u001B[0m\u001B[0m\n",
      "\u001B[1;32mC:\\ProgramData\\Anaconda3\\lib\\site-packages\\sklearn\\utils\\validation.py\u001B[0m in \u001B[0;36minner_f\u001B[1;34m(*args, **kwargs)\u001B[0m\n\u001B[0;32m     61\u001B[0m             \u001B[0mextra_args\u001B[0m \u001B[1;33m=\u001B[0m \u001B[0mlen\u001B[0m\u001B[1;33m(\u001B[0m\u001B[0margs\u001B[0m\u001B[1;33m)\u001B[0m \u001B[1;33m-\u001B[0m \u001B[0mlen\u001B[0m\u001B[1;33m(\u001B[0m\u001B[0mall_args\u001B[0m\u001B[1;33m)\u001B[0m\u001B[1;33m\u001B[0m\u001B[1;33m\u001B[0m\u001B[0m\n\u001B[0;32m     62\u001B[0m             \u001B[1;32mif\u001B[0m \u001B[0mextra_args\u001B[0m \u001B[1;33m<=\u001B[0m \u001B[1;36m0\u001B[0m\u001B[1;33m:\u001B[0m\u001B[1;33m\u001B[0m\u001B[1;33m\u001B[0m\u001B[0m\n\u001B[1;32m---> 63\u001B[1;33m                 \u001B[1;32mreturn\u001B[0m \u001B[0mf\u001B[0m\u001B[1;33m(\u001B[0m\u001B[1;33m*\u001B[0m\u001B[0margs\u001B[0m\u001B[1;33m,\u001B[0m \u001B[1;33m**\u001B[0m\u001B[0mkwargs\u001B[0m\u001B[1;33m)\u001B[0m\u001B[1;33m\u001B[0m\u001B[1;33m\u001B[0m\u001B[0m\n\u001B[0m\u001B[0;32m     64\u001B[0m \u001B[1;33m\u001B[0m\u001B[0m\n\u001B[0;32m     65\u001B[0m             \u001B[1;31m# extra_args > 0\u001B[0m\u001B[1;33m\u001B[0m\u001B[1;33m\u001B[0m\u001B[1;33m\u001B[0m\u001B[0m\n",
      "\u001B[1;32mC:\\ProgramData\\Anaconda3\\lib\\site-packages\\sklearn\\utils\\validation.py\u001B[0m in \u001B[0;36mcheck_array\u001B[1;34m(array, accept_sparse, accept_large_sparse, dtype, order, copy, force_all_finite, ensure_2d, allow_nd, ensure_min_samples, ensure_min_features, estimator)\u001B[0m\n\u001B[0;32m    614\u001B[0m                     \u001B[0marray\u001B[0m \u001B[1;33m=\u001B[0m \u001B[0marray\u001B[0m\u001B[1;33m.\u001B[0m\u001B[0mastype\u001B[0m\u001B[1;33m(\u001B[0m\u001B[0mdtype\u001B[0m\u001B[1;33m,\u001B[0m \u001B[0mcasting\u001B[0m\u001B[1;33m=\u001B[0m\u001B[1;34m\"unsafe\"\u001B[0m\u001B[1;33m,\u001B[0m \u001B[0mcopy\u001B[0m\u001B[1;33m=\u001B[0m\u001B[1;32mFalse\u001B[0m\u001B[1;33m)\u001B[0m\u001B[1;33m\u001B[0m\u001B[1;33m\u001B[0m\u001B[0m\n\u001B[0;32m    615\u001B[0m                 \u001B[1;32melse\u001B[0m\u001B[1;33m:\u001B[0m\u001B[1;33m\u001B[0m\u001B[1;33m\u001B[0m\u001B[0m\n\u001B[1;32m--> 616\u001B[1;33m                     \u001B[0marray\u001B[0m \u001B[1;33m=\u001B[0m \u001B[0mnp\u001B[0m\u001B[1;33m.\u001B[0m\u001B[0masarray\u001B[0m\u001B[1;33m(\u001B[0m\u001B[0marray\u001B[0m\u001B[1;33m,\u001B[0m \u001B[0morder\u001B[0m\u001B[1;33m=\u001B[0m\u001B[0morder\u001B[0m\u001B[1;33m,\u001B[0m \u001B[0mdtype\u001B[0m\u001B[1;33m=\u001B[0m\u001B[0mdtype\u001B[0m\u001B[1;33m)\u001B[0m\u001B[1;33m\u001B[0m\u001B[1;33m\u001B[0m\u001B[0m\n\u001B[0m\u001B[0;32m    617\u001B[0m             \u001B[1;32mexcept\u001B[0m \u001B[0mComplexWarning\u001B[0m \u001B[1;32mas\u001B[0m \u001B[0mcomplex_warning\u001B[0m\u001B[1;33m:\u001B[0m\u001B[1;33m\u001B[0m\u001B[1;33m\u001B[0m\u001B[0m\n\u001B[0;32m    618\u001B[0m                 raise ValueError(\"Complex data not supported\\n\"\n",
      "\u001B[1;32mC:\\ProgramData\\Anaconda3\\lib\\site-packages\\numpy\\core\\_asarray.py\u001B[0m in \u001B[0;36masarray\u001B[1;34m(a, dtype, order, like)\u001B[0m\n\u001B[0;32m    100\u001B[0m         \u001B[1;32mreturn\u001B[0m \u001B[0m_asarray_with_like\u001B[0m\u001B[1;33m(\u001B[0m\u001B[0ma\u001B[0m\u001B[1;33m,\u001B[0m \u001B[0mdtype\u001B[0m\u001B[1;33m=\u001B[0m\u001B[0mdtype\u001B[0m\u001B[1;33m,\u001B[0m \u001B[0morder\u001B[0m\u001B[1;33m=\u001B[0m\u001B[0morder\u001B[0m\u001B[1;33m,\u001B[0m \u001B[0mlike\u001B[0m\u001B[1;33m=\u001B[0m\u001B[0mlike\u001B[0m\u001B[1;33m)\u001B[0m\u001B[1;33m\u001B[0m\u001B[1;33m\u001B[0m\u001B[0m\n\u001B[0;32m    101\u001B[0m \u001B[1;33m\u001B[0m\u001B[0m\n\u001B[1;32m--> 102\u001B[1;33m     \u001B[1;32mreturn\u001B[0m \u001B[0marray\u001B[0m\u001B[1;33m(\u001B[0m\u001B[0ma\u001B[0m\u001B[1;33m,\u001B[0m \u001B[0mdtype\u001B[0m\u001B[1;33m,\u001B[0m \u001B[0mcopy\u001B[0m\u001B[1;33m=\u001B[0m\u001B[1;32mFalse\u001B[0m\u001B[1;33m,\u001B[0m \u001B[0morder\u001B[0m\u001B[1;33m=\u001B[0m\u001B[0morder\u001B[0m\u001B[1;33m)\u001B[0m\u001B[1;33m\u001B[0m\u001B[1;33m\u001B[0m\u001B[0m\n\u001B[0m\u001B[0;32m    103\u001B[0m \u001B[1;33m\u001B[0m\u001B[0m\n\u001B[0;32m    104\u001B[0m \u001B[1;33m\u001B[0m\u001B[0m\n",
      "\u001B[1;32mC:\\ProgramData\\Anaconda3\\lib\\site-packages\\pandas\\core\\generic.py\u001B[0m in \u001B[0;36m__array__\u001B[1;34m(self, dtype)\u001B[0m\n\u001B[0;32m   1897\u001B[0m \u001B[1;33m\u001B[0m\u001B[0m\n\u001B[0;32m   1898\u001B[0m     \u001B[1;32mdef\u001B[0m \u001B[0m__array__\u001B[0m\u001B[1;33m(\u001B[0m\u001B[0mself\u001B[0m\u001B[1;33m,\u001B[0m \u001B[0mdtype\u001B[0m\u001B[1;33m=\u001B[0m\u001B[1;32mNone\u001B[0m\u001B[1;33m)\u001B[0m \u001B[1;33m->\u001B[0m \u001B[0mnp\u001B[0m\u001B[1;33m.\u001B[0m\u001B[0mndarray\u001B[0m\u001B[1;33m:\u001B[0m\u001B[1;33m\u001B[0m\u001B[1;33m\u001B[0m\u001B[0m\n\u001B[1;32m-> 1899\u001B[1;33m         \u001B[1;32mreturn\u001B[0m \u001B[0mnp\u001B[0m\u001B[1;33m.\u001B[0m\u001B[0masarray\u001B[0m\u001B[1;33m(\u001B[0m\u001B[0mself\u001B[0m\u001B[1;33m.\u001B[0m\u001B[0m_values\u001B[0m\u001B[1;33m,\u001B[0m \u001B[0mdtype\u001B[0m\u001B[1;33m=\u001B[0m\u001B[0mdtype\u001B[0m\u001B[1;33m)\u001B[0m\u001B[1;33m\u001B[0m\u001B[1;33m\u001B[0m\u001B[0m\n\u001B[0m\u001B[0;32m   1900\u001B[0m \u001B[1;33m\u001B[0m\u001B[0m\n\u001B[0;32m   1901\u001B[0m     def __array_wrap__(\n",
      "\u001B[1;32mC:\\ProgramData\\Anaconda3\\lib\\site-packages\\numpy\\core\\_asarray.py\u001B[0m in \u001B[0;36masarray\u001B[1;34m(a, dtype, order, like)\u001B[0m\n\u001B[0;32m    100\u001B[0m         \u001B[1;32mreturn\u001B[0m \u001B[0m_asarray_with_like\u001B[0m\u001B[1;33m(\u001B[0m\u001B[0ma\u001B[0m\u001B[1;33m,\u001B[0m \u001B[0mdtype\u001B[0m\u001B[1;33m=\u001B[0m\u001B[0mdtype\u001B[0m\u001B[1;33m,\u001B[0m \u001B[0morder\u001B[0m\u001B[1;33m=\u001B[0m\u001B[0morder\u001B[0m\u001B[1;33m,\u001B[0m \u001B[0mlike\u001B[0m\u001B[1;33m=\u001B[0m\u001B[0mlike\u001B[0m\u001B[1;33m)\u001B[0m\u001B[1;33m\u001B[0m\u001B[1;33m\u001B[0m\u001B[0m\n\u001B[0;32m    101\u001B[0m \u001B[1;33m\u001B[0m\u001B[0m\n\u001B[1;32m--> 102\u001B[1;33m     \u001B[1;32mreturn\u001B[0m \u001B[0marray\u001B[0m\u001B[1;33m(\u001B[0m\u001B[0ma\u001B[0m\u001B[1;33m,\u001B[0m \u001B[0mdtype\u001B[0m\u001B[1;33m,\u001B[0m \u001B[0mcopy\u001B[0m\u001B[1;33m=\u001B[0m\u001B[1;32mFalse\u001B[0m\u001B[1;33m,\u001B[0m \u001B[0morder\u001B[0m\u001B[1;33m=\u001B[0m\u001B[0morder\u001B[0m\u001B[1;33m)\u001B[0m\u001B[1;33m\u001B[0m\u001B[1;33m\u001B[0m\u001B[0m\n\u001B[0m\u001B[0;32m    103\u001B[0m \u001B[1;33m\u001B[0m\u001B[0m\n\u001B[0;32m    104\u001B[0m \u001B[1;33m\u001B[0m\u001B[0m\n",
      "\u001B[1;31mValueError\u001B[0m: could not convert string to float: 'NAmes'"
     ]
    }
   ],
   "source": [
    "#Linear Regression\n",
    "\n",
    "logreg = LogisticRegression()\n",
    "logreg.fit(x_train,y_train)\n",
    "Y_pred = logreg.predict(x_test)\n",
    "\n",
    "acc_log = round(logreg.score(x_train,y_train) * 100, 2)\n",
    "acc_log"
   ],
   "metadata": {
    "collapsed": false,
    "pycharm": {
     "name": "#%%\n"
    }
   }
  }
 ],
 "metadata": {
  "kernelspec": {
   "display_name": "Python 3",
   "language": "python",
   "name": "python3"
  },
  "language_info": {
   "codemirror_mode": {
    "name": "ipython",
    "version": 2
   },
   "file_extension": ".py",
   "mimetype": "text/x-python",
   "name": "python",
   "nbconvert_exporter": "python",
   "pygments_lexer": "ipython2",
   "version": "2.7.6"
  }
 },
 "nbformat": 4,
 "nbformat_minor": 0
}